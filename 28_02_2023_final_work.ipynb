{
  "cells": [
    {
      "cell_type": "markdown",
      "metadata": {
        "id": "view-in-github",
        "colab_type": "text"
      },
      "source": [
        "<a href=\"https://colab.research.google.com/github/sat0304/future_sales/blob/main/28_02_2023_final_work.ipynb\" target=\"_parent\"><img src=\"https://colab.research.google.com/assets/colab-badge.svg\" alt=\"Open In Colab\"/></a>"
      ]
    },
    {
      "cell_type": "markdown",
      "metadata": {
        "id": "zfXb72JB4zaT"
      },
      "source": [
        "# Финальный проект\n",
        "\n",
        "## В данном задании необходимо предсказать покупки товаров в ноябре 2015 года на основе таблицы продаж за прошедшие 2 года с января 2013 по октябрь 2015."
      ]
    },
    {
      "cell_type": "code",
      "execution_count": null,
      "metadata": {
        "id": "bxhawxri-zK7"
      },
      "outputs": [],
      "source": [
        "import matplotlib.pyplot as plt\n",
        "import numpy as np\n",
        "import pandas as pd\n",
        "import re\n",
        "import seaborn as sns"
      ]
    },
    {
      "cell_type": "code",
      "source": [
        "from google.colab import drive\n",
        "drive.mount('/content/drive')\n",
        "\n",
        "path = 'drive/MyDrive/'"
      ],
      "metadata": {
        "colab": {
          "base_uri": "https://localhost:8080/"
        },
        "id": "-LAcWeq-uRZ9",
        "outputId": "3185ea2d-b5fa-4ab4-cd31-84c2356df521"
      },
      "execution_count": null,
      "outputs": [
        {
          "output_type": "stream",
          "name": "stdout",
          "text": [
            "Mounted at /content/drive\n"
          ]
        }
      ]
    },
    {
      "cell_type": "markdown",
      "source": [
        "# 1. Чтение и преобразование исходных данных\n",
        "\n",
        "\n",
        "---\n",
        "\n"
      ],
      "metadata": {
        "id": "APclGFBJu7Ft"
      }
    },
    {
      "cell_type": "markdown",
      "source": [
        "**Таблица с категориями**"
      ],
      "metadata": {
        "id": "5GAYu62_Z3zJ"
      }
    },
    {
      "cell_type": "code",
      "execution_count": null,
      "metadata": {
        "id": "qUn_Fmbp8mHF"
      },
      "outputs": [],
      "source": [
        "it_category = pd.read_csv(\n",
        "    filepath_or_buffer = path+\n",
        "    '/Colab Notebooks/Final_prof/item_categories.csv',\n",
        "    sep = ',')"
      ]
    },
    {
      "cell_type": "markdown",
      "source": [
        "***Свойства таблицы с категориями***"
      ],
      "metadata": {
        "id": "UolsYI91Z9iJ"
      }
    },
    {
      "cell_type": "code",
      "execution_count": null,
      "metadata": {
        "id": "CCbvIMhM-fjc",
        "colab": {
          "base_uri": "https://localhost:8080/"
        },
        "outputId": "eb330ae5-1885-408f-b9fa-79f18bb06a87"
      },
      "outputs": [
        {
          "output_type": "stream",
          "name": "stdout",
          "text": [
            "           item_category_name  item_category_id\n",
            "0     PC - Гарнитуры/Наушники                 0\n",
            "1            Аксессуары - PS2                 1\n",
            "2            Аксессуары - PS3                 2\n",
            "3            Аксессуары - PS4                 3\n",
            "4            Аксессуары - PSP                 4\n",
            "..                        ...               ...\n",
            "79                  Служебные                79\n",
            "80         Служебные - Билеты                80\n",
            "81    Чистые носители (шпиль)                81\n",
            "82  Чистые носители (штучные)                82\n",
            "83           Элементы питания                83\n",
            "\n",
            "[84 rows x 2 columns]\n",
            "\n",
            "item_category_name    84\n",
            "item_category_id      84\n",
            "dtype: int64\n"
          ]
        }
      ],
      "source": [
        "# it_category.nunique()\n",
        "# it_category.isna().sum()\n",
        "# it_category.info()\n",
        "print(it_category)\n",
        "print()\n",
        "print(it_category.nunique())"
      ]
    },
    {
      "cell_type": "markdown",
      "source": [
        "***Разделение таблицы категорий товаров на два столбца.***"
      ],
      "metadata": {
        "id": "L4cPE7nTiu0s"
      }
    },
    {
      "cell_type": "code",
      "source": [
        "def read_csv_category():\n",
        "    df_cat = it_category\n",
        "    item_category_name = df_cat['item_category_name'].tolist()\n",
        "    item_category_id = df_cat['item_category_id'].tolist()\n",
        "    return item_category_name, item_category_id"
      ],
      "metadata": {
        "id": "ExnXVo8rWyvq"
      },
      "execution_count": null,
      "outputs": []
    },
    {
      "cell_type": "markdown",
      "source": [
        "***Добавление в столбец наименований категорий товаров одинарных кавычек справа и слева.***"
      ],
      "metadata": {
        "id": "8HPkTSUGi7C6"
      }
    },
    {
      "cell_type": "code",
      "source": [
        "def change_column(cleaned_it):\n",
        "    result_vector = []\n",
        "    for i in range(len(cleaned_it)):\n",
        "        result_vector.append('\"'\n",
        "            + cleaned_it[i] + '\"')\n",
        "    return result_vector"
      ],
      "metadata": {
        "id": "l2wZsFUUXssf"
      },
      "execution_count": null,
      "outputs": []
    },
    {
      "cell_type": "markdown",
      "source": [
        "***Объединение таблицы категорий товаров из двух столбцов.***"
      ],
      "metadata": {
        "id": "ADEaasKmjNwz"
      }
    },
    {
      "cell_type": "code",
      "source": [
        "category_items, item_category_ids = read_csv_category()\n",
        "vector_cat = change_column(category_items)\n",
        "df_cat = pd.DataFrame({'item_category_name': vector_cat,\n",
        "                        'item_category_id': item_category_ids})\n",
        "df_cat.to_csv('item_categories.csv', index=False)"
      ],
      "metadata": {
        "id": "DfFngc0SXnQQ"
      },
      "execution_count": null,
      "outputs": []
    },
    {
      "cell_type": "code",
      "source": [
        "df_cat"
      ],
      "metadata": {
        "colab": {
          "base_uri": "https://localhost:8080/",
          "height": 456
        },
        "id": "svch1EYDZWRp",
        "outputId": "c708d04a-e21e-4068-d849-d397394f47d7"
      },
      "execution_count": null,
      "outputs": [
        {
          "output_type": "execute_result",
          "data": {
            "text/plain": [
              "             item_category_name  item_category_id\n",
              "0     \"PC - Гарнитуры/Наушники\"                 0\n",
              "1            \"Аксессуары - PS2\"                 1\n",
              "2            \"Аксессуары - PS3\"                 2\n",
              "3            \"Аксессуары - PS4\"                 3\n",
              "4            \"Аксессуары - PSP\"                 4\n",
              "..                          ...               ...\n",
              "79                  \"Служебные\"                79\n",
              "80         \"Служебные - Билеты\"                80\n",
              "81    \"Чистые носители (шпиль)\"                81\n",
              "82  \"Чистые носители (штучные)\"                82\n",
              "83           \"Элементы питания\"                83\n",
              "\n",
              "[84 rows x 2 columns]"
            ],
            "text/html": [
              "\n",
              "  <div id=\"df-b8eec52c-c13c-4b67-8ba9-a5175400139a\">\n",
              "    <div class=\"colab-df-container\">\n",
              "      <div>\n",
              "<style scoped>\n",
              "    .dataframe tbody tr th:only-of-type {\n",
              "        vertical-align: middle;\n",
              "    }\n",
              "\n",
              "    .dataframe tbody tr th {\n",
              "        vertical-align: top;\n",
              "    }\n",
              "\n",
              "    .dataframe thead th {\n",
              "        text-align: right;\n",
              "    }\n",
              "</style>\n",
              "<table border=\"1\" class=\"dataframe\">\n",
              "  <thead>\n",
              "    <tr style=\"text-align: right;\">\n",
              "      <th></th>\n",
              "      <th>item_category_name</th>\n",
              "      <th>item_category_id</th>\n",
              "    </tr>\n",
              "  </thead>\n",
              "  <tbody>\n",
              "    <tr>\n",
              "      <th>0</th>\n",
              "      <td>\"PC - Гарнитуры/Наушники\"</td>\n",
              "      <td>0</td>\n",
              "    </tr>\n",
              "    <tr>\n",
              "      <th>1</th>\n",
              "      <td>\"Аксессуары - PS2\"</td>\n",
              "      <td>1</td>\n",
              "    </tr>\n",
              "    <tr>\n",
              "      <th>2</th>\n",
              "      <td>\"Аксессуары - PS3\"</td>\n",
              "      <td>2</td>\n",
              "    </tr>\n",
              "    <tr>\n",
              "      <th>3</th>\n",
              "      <td>\"Аксессуары - PS4\"</td>\n",
              "      <td>3</td>\n",
              "    </tr>\n",
              "    <tr>\n",
              "      <th>4</th>\n",
              "      <td>\"Аксессуары - PSP\"</td>\n",
              "      <td>4</td>\n",
              "    </tr>\n",
              "    <tr>\n",
              "      <th>...</th>\n",
              "      <td>...</td>\n",
              "      <td>...</td>\n",
              "    </tr>\n",
              "    <tr>\n",
              "      <th>79</th>\n",
              "      <td>\"Служебные\"</td>\n",
              "      <td>79</td>\n",
              "    </tr>\n",
              "    <tr>\n",
              "      <th>80</th>\n",
              "      <td>\"Служебные - Билеты\"</td>\n",
              "      <td>80</td>\n",
              "    </tr>\n",
              "    <tr>\n",
              "      <th>81</th>\n",
              "      <td>\"Чистые носители (шпиль)\"</td>\n",
              "      <td>81</td>\n",
              "    </tr>\n",
              "    <tr>\n",
              "      <th>82</th>\n",
              "      <td>\"Чистые носители (штучные)\"</td>\n",
              "      <td>82</td>\n",
              "    </tr>\n",
              "    <tr>\n",
              "      <th>83</th>\n",
              "      <td>\"Элементы питания\"</td>\n",
              "      <td>83</td>\n",
              "    </tr>\n",
              "  </tbody>\n",
              "</table>\n",
              "<p>84 rows × 2 columns</p>\n",
              "</div>\n",
              "      <button class=\"colab-df-convert\" onclick=\"convertToInteractive('df-b8eec52c-c13c-4b67-8ba9-a5175400139a')\"\n",
              "              title=\"Convert this dataframe to an interactive table.\"\n",
              "              style=\"display:none;\">\n",
              "        \n",
              "  <svg xmlns=\"http://www.w3.org/2000/svg\" height=\"24px\"viewBox=\"0 0 24 24\"\n",
              "       width=\"24px\">\n",
              "    <path d=\"M0 0h24v24H0V0z\" fill=\"none\"/>\n",
              "    <path d=\"M18.56 5.44l.94 2.06.94-2.06 2.06-.94-2.06-.94-.94-2.06-.94 2.06-2.06.94zm-11 1L8.5 8.5l.94-2.06 2.06-.94-2.06-.94L8.5 2.5l-.94 2.06-2.06.94zm10 10l.94 2.06.94-2.06 2.06-.94-2.06-.94-.94-2.06-.94 2.06-2.06.94z\"/><path d=\"M17.41 7.96l-1.37-1.37c-.4-.4-.92-.59-1.43-.59-.52 0-1.04.2-1.43.59L10.3 9.45l-7.72 7.72c-.78.78-.78 2.05 0 2.83L4 21.41c.39.39.9.59 1.41.59.51 0 1.02-.2 1.41-.59l7.78-7.78 2.81-2.81c.8-.78.8-2.07 0-2.86zM5.41 20L4 18.59l7.72-7.72 1.47 1.35L5.41 20z\"/>\n",
              "  </svg>\n",
              "      </button>\n",
              "      \n",
              "  <style>\n",
              "    .colab-df-container {\n",
              "      display:flex;\n",
              "      flex-wrap:wrap;\n",
              "      gap: 12px;\n",
              "    }\n",
              "\n",
              "    .colab-df-convert {\n",
              "      background-color: #E8F0FE;\n",
              "      border: none;\n",
              "      border-radius: 50%;\n",
              "      cursor: pointer;\n",
              "      display: none;\n",
              "      fill: #1967D2;\n",
              "      height: 32px;\n",
              "      padding: 0 0 0 0;\n",
              "      width: 32px;\n",
              "    }\n",
              "\n",
              "    .colab-df-convert:hover {\n",
              "      background-color: #E2EBFA;\n",
              "      box-shadow: 0px 1px 2px rgba(60, 64, 67, 0.3), 0px 1px 3px 1px rgba(60, 64, 67, 0.15);\n",
              "      fill: #174EA6;\n",
              "    }\n",
              "\n",
              "    [theme=dark] .colab-df-convert {\n",
              "      background-color: #3B4455;\n",
              "      fill: #D2E3FC;\n",
              "    }\n",
              "\n",
              "    [theme=dark] .colab-df-convert:hover {\n",
              "      background-color: #434B5C;\n",
              "      box-shadow: 0px 1px 3px 1px rgba(0, 0, 0, 0.15);\n",
              "      filter: drop-shadow(0px 1px 2px rgba(0, 0, 0, 0.3));\n",
              "      fill: #FFFFFF;\n",
              "    }\n",
              "  </style>\n",
              "\n",
              "      <script>\n",
              "        const buttonEl =\n",
              "          document.querySelector('#df-b8eec52c-c13c-4b67-8ba9-a5175400139a button.colab-df-convert');\n",
              "        buttonEl.style.display =\n",
              "          google.colab.kernel.accessAllowed ? 'block' : 'none';\n",
              "\n",
              "        async function convertToInteractive(key) {\n",
              "          const element = document.querySelector('#df-b8eec52c-c13c-4b67-8ba9-a5175400139a');\n",
              "          const dataTable =\n",
              "            await google.colab.kernel.invokeFunction('convertToInteractive',\n",
              "                                                     [key], {});\n",
              "          if (!dataTable) return;\n",
              "\n",
              "          const docLinkHtml = 'Like what you see? Visit the ' +\n",
              "            '<a target=\"_blank\" href=https://colab.research.google.com/notebooks/data_table.ipynb>data table notebook</a>'\n",
              "            + ' to learn more about interactive tables.';\n",
              "          element.innerHTML = '';\n",
              "          dataTable['output_type'] = 'display_data';\n",
              "          await google.colab.output.renderOutput(dataTable, element);\n",
              "          const docLink = document.createElement('div');\n",
              "          docLink.innerHTML = docLinkHtml;\n",
              "          element.appendChild(docLink);\n",
              "        }\n",
              "      </script>\n",
              "    </div>\n",
              "  </div>\n",
              "  "
            ]
          },
          "metadata": {},
          "execution_count": 8
        }
      ]
    },
    {
      "cell_type": "markdown",
      "source": [
        "***Таблица с товарами***"
      ],
      "metadata": {
        "id": "dG0RY05PaJjw"
      }
    },
    {
      "cell_type": "code",
      "execution_count": null,
      "metadata": {
        "id": "YRTtnJQF-95F"
      },
      "outputs": [],
      "source": [
        "items = pd.read_csv(\n",
        "    filepath_or_buffer = path + \n",
        "    \"/Colab Notebooks/Final_prof/items.csv\",\n",
        "    sep = ',')"
      ]
    },
    {
      "cell_type": "markdown",
      "source": [
        "***Свойства таблицы с товарами***"
      ],
      "metadata": {
        "id": "HvFQN-0OaFmQ"
      }
    },
    {
      "cell_type": "code",
      "execution_count": null,
      "metadata": {
        "id": "mBt7kZgH-97Q",
        "colab": {
          "base_uri": "https://localhost:8080/"
        },
        "outputId": "b36c7e3c-c78c-441b-b192-5b7f3b90c371"
      },
      "outputs": [
        {
          "output_type": "stream",
          "name": "stdout",
          "text": [
            "                                               item_name  item_id  \\\n",
            "0              ! ВО ВЛАСТИ НАВАЖДЕНИЯ (ПЛАСТ.)         D        0   \n",
            "1      !ABBYY FineReader 12 Professional Edition Full...        1   \n",
            "2          ***В ЛУЧАХ СЛАВЫ   (UNV)                    D        2   \n",
            "3        ***ГОЛУБАЯ ВОЛНА  (Univ)                      D        3   \n",
            "4            ***КОРОБКА (СТЕКЛО)                       D        4   \n",
            "...                                                  ...      ...   \n",
            "22165             Ядерный титбит 2 [PC, Цифровая версия]    22165   \n",
            "22166    Язык запросов 1С:Предприятия  [Цифровая версия]    22166   \n",
            "22167  Язык запросов 1С:Предприятия 8 (+CD). Хрустале...    22167   \n",
            "22168                                Яйцо для Little Inu    22168   \n",
            "22169                      Яйцо дракона (Игра престолов)    22169   \n",
            "\n",
            "       item_category_id  \n",
            "0                    40  \n",
            "1                    76  \n",
            "2                    40  \n",
            "3                    40  \n",
            "4                    40  \n",
            "...                 ...  \n",
            "22165                31  \n",
            "22166                54  \n",
            "22167                49  \n",
            "22168                62  \n",
            "22169                69  \n",
            "\n",
            "[22170 rows x 3 columns]\n",
            "\n",
            "item_name           22170\n",
            "item_id             22170\n",
            "item_category_id       84\n",
            "dtype: int64\n"
          ]
        }
      ],
      "source": [
        "# items.isna().sum()\n",
        "# items.info()\n",
        "print(items)\n",
        "print()\n",
        "print(items.nunique())"
      ]
    },
    {
      "cell_type": "markdown",
      "source": [
        "***Разделение таблицы товаров на три столбца.***"
      ],
      "metadata": {
        "id": "3AVK8XnwjcqK"
      }
    },
    {
      "cell_type": "code",
      "source": [
        "def read_csv_items():\n",
        "    df = items\n",
        "    name_item = df['item_name'].tolist()\n",
        "    item_id = df['item_id'].tolist()\n",
        "    item_category_id = df['item_category_id'].tolist()\n",
        "    return name_item, item_id, item_category_id"
      ],
      "metadata": {
        "id": "x3v5a4cuZ7EI"
      },
      "execution_count": null,
      "outputs": []
    },
    {
      "cell_type": "markdown",
      "source": [
        "***Удаление в столбце товаров лишних пробелов, знаков: !, *, /.***"
      ],
      "metadata": {
        "id": "o8mYZbuOjhMF"
      }
    },
    {
      "cell_type": "code",
      "source": [
        "def clean_list(vector_items):\n",
        "    cleaned_items = []\n",
        "    for i in range(len(vector_items)):\n",
        "        char = vector_items[i]\n",
        "        char = re.sub(' +', ' ', char)\n",
        "        first_rem = re.match(r'^[*|/|!]+', char)\n",
        "        last_rem = re.match(r'(.+\\s[D])$', char)\n",
        "        if first_rem and last_rem:\n",
        "            char = char.replace(first_rem.group(0), '')\n",
        "            char = char.replace(char[-1], '')\n",
        "            char = re.sub(r'^ +', '', char)\n",
        "            char = re.sub(r' +$', '', char)\n",
        "            cleaned_items.append(char)\n",
        "        elif first_rem:\n",
        "            char = char.replace(first_rem.group(0), '')\n",
        "            char = re.sub(r'^ +', '', char)\n",
        "            cleaned_items.append(char)\n",
        "        elif last_rem:\n",
        "            char = char.replace(char[-1], '')\n",
        "            char = re.sub(r' +$', '', char)\n",
        "            cleaned_items.append(char)\n",
        "        else:\n",
        "            cleaned_items.append(char)\n",
        "    return cleaned_items"
      ],
      "metadata": {
        "id": "FQtgQivzaKo4"
      },
      "execution_count": null,
      "outputs": []
    },
    {
      "cell_type": "markdown",
      "source": [
        "***Добавление кавычек в столбец наименований товаров.***"
      ],
      "metadata": {
        "id": "V3EYr5gFkRkL"
      }
    },
    {
      "cell_type": "code",
      "source": [
        "def change_column(cleaned_it):\n",
        "    result_vector = []\n",
        "    for i in range(len(cleaned_it)):\n",
        "        result_vector.append('\"'\n",
        "            + cleaned_it[i] + '\"')\n",
        "    return result_vector"
      ],
      "metadata": {
        "id": "0Mk5yag4aUUY"
      },
      "execution_count": null,
      "outputs": []
    },
    {
      "cell_type": "code",
      "source": [
        "name_items, item_ids, item_category_ids = read_csv_items()\n",
        "cleaned_items = clean_list(name_items)\n",
        "vector_items = change_column(cleaned_items)\n",
        "df_items = pd.DataFrame({'item_name': vector_items,\n",
        "                    'item_id': item_ids,\n",
        "                    'item_category_id': item_category_ids})\n",
        "df_items.to_csv('items.csv', index=False)"
      ],
      "metadata": {
        "id": "M38UKouLadVA"
      },
      "execution_count": null,
      "outputs": []
    },
    {
      "cell_type": "code",
      "source": [
        "df_items"
      ],
      "metadata": {
        "colab": {
          "base_uri": "https://localhost:8080/",
          "height": 456
        },
        "id": "KBth1WOZatn5",
        "outputId": "a530a6dd-ebee-4792-ac60-9ab14f2a0ef8"
      },
      "execution_count": null,
      "outputs": [
        {
          "output_type": "execute_result",
          "data": {
            "text/plain": [
              "                                               item_name  item_id  \\\n",
              "0                        \"ВО ВЛАСТИ НАВАЖДЕНИЯ (ПЛАСТ.)\"        0   \n",
              "1      \"ABBYY FineReader 12 Professional Edition Full...        1   \n",
              "2                                  \"В ЛУЧАХ СЛАВЫ (UNV)\"        2   \n",
              "3                                 \"ГОЛУБАЯ ВОЛНА (Univ)\"        3   \n",
              "4                                     \"КОРОБКА (СТЕКЛО)\"        4   \n",
              "...                                                  ...      ...   \n",
              "22165           \"Ядерный титбит 2 [PC, Цифровая версия]\"    22165   \n",
              "22166   \"Язык запросов 1С:Предприятия [Цифровая версия]\"    22166   \n",
              "22167  \"Язык запросов 1С:Предприятия 8 (+CD). Хрустал...    22167   \n",
              "22168                              \"Яйцо для Little Inu\"    22168   \n",
              "22169                    \"Яйцо дракона (Игра престолов)\"    22169   \n",
              "\n",
              "       item_category_id  \n",
              "0                    40  \n",
              "1                    76  \n",
              "2                    40  \n",
              "3                    40  \n",
              "4                    40  \n",
              "...                 ...  \n",
              "22165                31  \n",
              "22166                54  \n",
              "22167                49  \n",
              "22168                62  \n",
              "22169                69  \n",
              "\n",
              "[22170 rows x 3 columns]"
            ],
            "text/html": [
              "\n",
              "  <div id=\"df-bec47a4d-1255-4f9b-b6d6-7f3e702b818c\">\n",
              "    <div class=\"colab-df-container\">\n",
              "      <div>\n",
              "<style scoped>\n",
              "    .dataframe tbody tr th:only-of-type {\n",
              "        vertical-align: middle;\n",
              "    }\n",
              "\n",
              "    .dataframe tbody tr th {\n",
              "        vertical-align: top;\n",
              "    }\n",
              "\n",
              "    .dataframe thead th {\n",
              "        text-align: right;\n",
              "    }\n",
              "</style>\n",
              "<table border=\"1\" class=\"dataframe\">\n",
              "  <thead>\n",
              "    <tr style=\"text-align: right;\">\n",
              "      <th></th>\n",
              "      <th>item_name</th>\n",
              "      <th>item_id</th>\n",
              "      <th>item_category_id</th>\n",
              "    </tr>\n",
              "  </thead>\n",
              "  <tbody>\n",
              "    <tr>\n",
              "      <th>0</th>\n",
              "      <td>\"ВО ВЛАСТИ НАВАЖДЕНИЯ (ПЛАСТ.)\"</td>\n",
              "      <td>0</td>\n",
              "      <td>40</td>\n",
              "    </tr>\n",
              "    <tr>\n",
              "      <th>1</th>\n",
              "      <td>\"ABBYY FineReader 12 Professional Edition Full...</td>\n",
              "      <td>1</td>\n",
              "      <td>76</td>\n",
              "    </tr>\n",
              "    <tr>\n",
              "      <th>2</th>\n",
              "      <td>\"В ЛУЧАХ СЛАВЫ (UNV)\"</td>\n",
              "      <td>2</td>\n",
              "      <td>40</td>\n",
              "    </tr>\n",
              "    <tr>\n",
              "      <th>3</th>\n",
              "      <td>\"ГОЛУБАЯ ВОЛНА (Univ)\"</td>\n",
              "      <td>3</td>\n",
              "      <td>40</td>\n",
              "    </tr>\n",
              "    <tr>\n",
              "      <th>4</th>\n",
              "      <td>\"КОРОБКА (СТЕКЛО)\"</td>\n",
              "      <td>4</td>\n",
              "      <td>40</td>\n",
              "    </tr>\n",
              "    <tr>\n",
              "      <th>...</th>\n",
              "      <td>...</td>\n",
              "      <td>...</td>\n",
              "      <td>...</td>\n",
              "    </tr>\n",
              "    <tr>\n",
              "      <th>22165</th>\n",
              "      <td>\"Ядерный титбит 2 [PC, Цифровая версия]\"</td>\n",
              "      <td>22165</td>\n",
              "      <td>31</td>\n",
              "    </tr>\n",
              "    <tr>\n",
              "      <th>22166</th>\n",
              "      <td>\"Язык запросов 1С:Предприятия [Цифровая версия]\"</td>\n",
              "      <td>22166</td>\n",
              "      <td>54</td>\n",
              "    </tr>\n",
              "    <tr>\n",
              "      <th>22167</th>\n",
              "      <td>\"Язык запросов 1С:Предприятия 8 (+CD). Хрустал...</td>\n",
              "      <td>22167</td>\n",
              "      <td>49</td>\n",
              "    </tr>\n",
              "    <tr>\n",
              "      <th>22168</th>\n",
              "      <td>\"Яйцо для Little Inu\"</td>\n",
              "      <td>22168</td>\n",
              "      <td>62</td>\n",
              "    </tr>\n",
              "    <tr>\n",
              "      <th>22169</th>\n",
              "      <td>\"Яйцо дракона (Игра престолов)\"</td>\n",
              "      <td>22169</td>\n",
              "      <td>69</td>\n",
              "    </tr>\n",
              "  </tbody>\n",
              "</table>\n",
              "<p>22170 rows × 3 columns</p>\n",
              "</div>\n",
              "      <button class=\"colab-df-convert\" onclick=\"convertToInteractive('df-bec47a4d-1255-4f9b-b6d6-7f3e702b818c')\"\n",
              "              title=\"Convert this dataframe to an interactive table.\"\n",
              "              style=\"display:none;\">\n",
              "        \n",
              "  <svg xmlns=\"http://www.w3.org/2000/svg\" height=\"24px\"viewBox=\"0 0 24 24\"\n",
              "       width=\"24px\">\n",
              "    <path d=\"M0 0h24v24H0V0z\" fill=\"none\"/>\n",
              "    <path d=\"M18.56 5.44l.94 2.06.94-2.06 2.06-.94-2.06-.94-.94-2.06-.94 2.06-2.06.94zm-11 1L8.5 8.5l.94-2.06 2.06-.94-2.06-.94L8.5 2.5l-.94 2.06-2.06.94zm10 10l.94 2.06.94-2.06 2.06-.94-2.06-.94-.94-2.06-.94 2.06-2.06.94z\"/><path d=\"M17.41 7.96l-1.37-1.37c-.4-.4-.92-.59-1.43-.59-.52 0-1.04.2-1.43.59L10.3 9.45l-7.72 7.72c-.78.78-.78 2.05 0 2.83L4 21.41c.39.39.9.59 1.41.59.51 0 1.02-.2 1.41-.59l7.78-7.78 2.81-2.81c.8-.78.8-2.07 0-2.86zM5.41 20L4 18.59l7.72-7.72 1.47 1.35L5.41 20z\"/>\n",
              "  </svg>\n",
              "      </button>\n",
              "      \n",
              "  <style>\n",
              "    .colab-df-container {\n",
              "      display:flex;\n",
              "      flex-wrap:wrap;\n",
              "      gap: 12px;\n",
              "    }\n",
              "\n",
              "    .colab-df-convert {\n",
              "      background-color: #E8F0FE;\n",
              "      border: none;\n",
              "      border-radius: 50%;\n",
              "      cursor: pointer;\n",
              "      display: none;\n",
              "      fill: #1967D2;\n",
              "      height: 32px;\n",
              "      padding: 0 0 0 0;\n",
              "      width: 32px;\n",
              "    }\n",
              "\n",
              "    .colab-df-convert:hover {\n",
              "      background-color: #E2EBFA;\n",
              "      box-shadow: 0px 1px 2px rgba(60, 64, 67, 0.3), 0px 1px 3px 1px rgba(60, 64, 67, 0.15);\n",
              "      fill: #174EA6;\n",
              "    }\n",
              "\n",
              "    [theme=dark] .colab-df-convert {\n",
              "      background-color: #3B4455;\n",
              "      fill: #D2E3FC;\n",
              "    }\n",
              "\n",
              "    [theme=dark] .colab-df-convert:hover {\n",
              "      background-color: #434B5C;\n",
              "      box-shadow: 0px 1px 3px 1px rgba(0, 0, 0, 0.15);\n",
              "      filter: drop-shadow(0px 1px 2px rgba(0, 0, 0, 0.3));\n",
              "      fill: #FFFFFF;\n",
              "    }\n",
              "  </style>\n",
              "\n",
              "      <script>\n",
              "        const buttonEl =\n",
              "          document.querySelector('#df-bec47a4d-1255-4f9b-b6d6-7f3e702b818c button.colab-df-convert');\n",
              "        buttonEl.style.display =\n",
              "          google.colab.kernel.accessAllowed ? 'block' : 'none';\n",
              "\n",
              "        async function convertToInteractive(key) {\n",
              "          const element = document.querySelector('#df-bec47a4d-1255-4f9b-b6d6-7f3e702b818c');\n",
              "          const dataTable =\n",
              "            await google.colab.kernel.invokeFunction('convertToInteractive',\n",
              "                                                     [key], {});\n",
              "          if (!dataTable) return;\n",
              "\n",
              "          const docLinkHtml = 'Like what you see? Visit the ' +\n",
              "            '<a target=\"_blank\" href=https://colab.research.google.com/notebooks/data_table.ipynb>data table notebook</a>'\n",
              "            + ' to learn more about interactive tables.';\n",
              "          element.innerHTML = '';\n",
              "          dataTable['output_type'] = 'display_data';\n",
              "          await google.colab.output.renderOutput(dataTable, element);\n",
              "          const docLink = document.createElement('div');\n",
              "          docLink.innerHTML = docLinkHtml;\n",
              "          element.appendChild(docLink);\n",
              "        }\n",
              "      </script>\n",
              "    </div>\n",
              "  </div>\n",
              "  "
            ]
          },
          "metadata": {},
          "execution_count": 15
        }
      ]
    },
    {
      "cell_type": "markdown",
      "source": [
        "**Таблица продаж для обучения**"
      ],
      "metadata": {
        "id": "FYhZpYpOaQcN"
      }
    },
    {
      "cell_type": "code",
      "execution_count": null,
      "metadata": {
        "id": "-rSZCrJTAF-W"
      },
      "outputs": [],
      "source": [
        "sales_train = pd.read_csv(\n",
        "    filepath_or_buffer = path + \n",
        "    \"/Colab Notebooks/Final_prof/sales_train.csv\",\n",
        "    sep = ',')"
      ]
    },
    {
      "cell_type": "markdown",
      "source": [
        "***Свойства таблицы продаж***"
      ],
      "metadata": {
        "id": "u8YdHRVJacW4"
      }
    },
    {
      "cell_type": "code",
      "execution_count": null,
      "metadata": {
        "id": "mVJaqGY5APCo",
        "colab": {
          "base_uri": "https://localhost:8080/"
        },
        "outputId": "f264ad91-4164-443a-b91b-00f9d6c7ea09"
      },
      "outputs": [
        {
          "output_type": "stream",
          "name": "stdout",
          "text": [
            "               date  date_block_num  shop_id  item_id  item_price  \\\n",
            "0        02.01.2013               0       59    22154      999.00   \n",
            "1        03.01.2013               0       25     2552      899.00   \n",
            "2        05.01.2013               0       25     2552      899.00   \n",
            "3        06.01.2013               0       25     2554     1709.05   \n",
            "4        15.01.2013               0       25     2555     1099.00   \n",
            "...             ...             ...      ...      ...         ...   \n",
            "2935844  10.10.2015              33       25     7409      299.00   \n",
            "2935845  09.10.2015              33       25     7460      299.00   \n",
            "2935846  14.10.2015              33       25     7459      349.00   \n",
            "2935847  22.10.2015              33       25     7440      299.00   \n",
            "2935848  03.10.2015              33       25     7460      299.00   \n",
            "\n",
            "         item_cnt_day  \n",
            "0                 1.0  \n",
            "1                 1.0  \n",
            "2                -1.0  \n",
            "3                 1.0  \n",
            "4                 1.0  \n",
            "...               ...  \n",
            "2935844           1.0  \n",
            "2935845           1.0  \n",
            "2935846           1.0  \n",
            "2935847           1.0  \n",
            "2935848           1.0  \n",
            "\n",
            "[2935849 rows x 6 columns]\n",
            "\n",
            "date               1034\n",
            "date_block_num       34\n",
            "shop_id              60\n",
            "item_id           21807\n",
            "item_price        19993\n",
            "item_cnt_day        198\n",
            "dtype: int64\n"
          ]
        }
      ],
      "source": [
        "# sales_train.isna().sum()\n",
        "# sales_train.info()\n",
        "print(sales_train)\n",
        "print()\n",
        "print(sales_train.nunique())"
      ]
    },
    {
      "cell_type": "markdown",
      "source": [
        "***Таблица с образцом результата***"
      ],
      "metadata": {
        "id": "TWnK3l09ag0w"
      }
    },
    {
      "cell_type": "code",
      "execution_count": null,
      "metadata": {
        "id": "c_IvCJzCAW8b"
      },
      "outputs": [],
      "source": [
        "sample_submission = pd.read_csv(\n",
        "    filepath_or_buffer = path + \n",
        "    \"/Colab Notebooks/Final_prof/sample_submission.csv\",\n",
        "    sep = ',')"
      ]
    },
    {
      "cell_type": "markdown",
      "source": [
        "***Свойства таблицы с образцами результатов***"
      ],
      "metadata": {
        "id": "S9x695liapkJ"
      }
    },
    {
      "cell_type": "code",
      "source": [
        "# sample_submission.isna().sum()\n",
        "# sample_submission.info()\n",
        "print(sample_submission)\n",
        "print()\n",
        "print(sample_submission.nunique())"
      ],
      "metadata": {
        "colab": {
          "base_uri": "https://localhost:8080/"
        },
        "id": "eMuRpUgi4_N5",
        "outputId": "70124978-94a4-4559-8dd7-a6162fb5022c"
      },
      "execution_count": null,
      "outputs": [
        {
          "output_type": "stream",
          "name": "stdout",
          "text": [
            "            ID  item_cnt_month\n",
            "0            0             0.5\n",
            "1            1             0.5\n",
            "2            2             0.5\n",
            "3            3             0.5\n",
            "4            4             0.5\n",
            "...        ...             ...\n",
            "214195  214195             0.5\n",
            "214196  214196             0.5\n",
            "214197  214197             0.5\n",
            "214198  214198             0.5\n",
            "214199  214199             0.5\n",
            "\n",
            "[214200 rows x 2 columns]\n",
            "\n",
            "ID                214200\n",
            "item_cnt_month         1\n",
            "dtype: int64\n"
          ]
        }
      ]
    },
    {
      "cell_type": "markdown",
      "source": [
        "***Таблица с наименованием магазинов***"
      ],
      "metadata": {
        "id": "MiBlL1jdau9A"
      }
    },
    {
      "cell_type": "code",
      "source": [
        "shops = pd.read_csv(\n",
        "    filepath_or_buffer = path + \n",
        "    \"/Colab Notebooks/Final_prof/shops.csv\",\n",
        "    sep = ',')"
      ],
      "metadata": {
        "id": "P9DEreEi5gQp"
      },
      "execution_count": null,
      "outputs": []
    },
    {
      "cell_type": "markdown",
      "source": [
        "***Свойства таблицы с наименованием магазинов***"
      ],
      "metadata": {
        "id": "8G2C4UKxa4Qg"
      }
    },
    {
      "cell_type": "code",
      "source": [
        "# shops.isna().sum()\n",
        "# shops.info()\n",
        "print(shops)\n",
        "print()\n",
        "print(shops.nunique())"
      ],
      "metadata": {
        "colab": {
          "base_uri": "https://localhost:8080/"
        },
        "id": "fBK0UcrV5piw",
        "outputId": "b430a960-3bcd-4b3c-9c37-b9b03c72d4fa"
      },
      "execution_count": null,
      "outputs": [
        {
          "output_type": "stream",
          "name": "stdout",
          "text": [
            "                                          shop_name  shop_id\n",
            "0                     !Якутск Орджоникидзе, 56 фран        0\n",
            "1                     !Якутск ТЦ \"Центральный\" фран        1\n",
            "2                                  Адыгея ТЦ \"Мега\"        2\n",
            "3                    Балашиха ТРК \"Октябрь-Киномир\"        3\n",
            "4                          Волжский ТЦ \"Волга Молл\"        4\n",
            "5                            Вологда ТРЦ \"Мармелад\"        5\n",
            "6                        Воронеж (Плехановская, 13)        6\n",
            "7                            Воронеж ТРЦ \"Максимир\"        7\n",
            "8                      Воронеж ТРЦ Сити-Парк \"Град\"        8\n",
            "9                                 Выездная Торговля        9\n",
            "10                       Жуковский ул. Чкалова 39м?       10\n",
            "11                       Жуковский ул. Чкалова 39м²       11\n",
            "12                              Интернет-магазин ЧС       12\n",
            "13                              Казань ТЦ \"Бехетле\"       13\n",
            "14                          Казань ТЦ \"ПаркХаус\" II       14\n",
            "15                             Калуга ТРЦ \"XXI век\"       15\n",
            "16                                 Коломна ТЦ \"Рио\"       16\n",
            "17                    Красноярск ТЦ \"Взлетка Плаза\"       17\n",
            "18                             Красноярск ТЦ \"Июнь\"       18\n",
            "19                            Курск ТЦ \"Пушкинский\"       19\n",
            "20                              Москва \"Распродажа\"       20\n",
            "21                           Москва МТРЦ \"Афи Молл\"       21\n",
            "22                               Москва Магазин С21       22\n",
            "23                 Москва ТК \"Буденовский\" (пав.А2)       23\n",
            "24                 Москва ТК \"Буденовский\" (пав.К7)       24\n",
            "25                              Москва ТРК \"Атриум\"       25\n",
            "26                      Москва ТЦ \"Ареал\" (Беляево)       26\n",
            "27                   Москва ТЦ \"МЕГА Белая Дача II\"       27\n",
            "28                  Москва ТЦ \"МЕГА Теплый Стан\" II       28\n",
            "29               Москва ТЦ \"Новый век\" (Новокосино)       29\n",
            "30                           Москва ТЦ \"Перловский\"       30\n",
            "31                          Москва ТЦ \"Семеновский\"       31\n",
            "32                       Москва ТЦ \"Серебряный Дом\"       32\n",
            "33                                Мытищи ТРК \"XL-3\"       33\n",
            "34                             Н.Новгород ТРЦ \"РИО\"       34\n",
            "35                      Н.Новгород ТРЦ \"Фантастика\"       35\n",
            "36            Новосибирск ТРЦ \"Галерея Новосибирск\"       36\n",
            "37                            Новосибирск ТЦ \"Мега\"       37\n",
            "38                                   Омск ТЦ \"Мега\"       38\n",
            "39            РостовНаДону ТРК \"Мегацентр Горизонт\"       39\n",
            "40  РостовНаДону ТРК \"Мегацентр Горизонт\" Островной       40\n",
            "41                           РостовНаДону ТЦ \"Мега\"       41\n",
            "42                           СПб ТК \"Невский Центр\"       42\n",
            "43                                  СПб ТК \"Сенная\"       43\n",
            "44                              Самара ТЦ \"Мелодия\"       44\n",
            "45                             Самара ТЦ \"ПаркХаус\"       45\n",
            "46                            Сергиев Посад ТЦ \"7Я\"       46\n",
            "47                           Сургут ТРЦ \"Сити Молл\"       47\n",
            "48                     Томск ТРЦ \"Изумрудный Город\"       48\n",
            "49                            Тюмень ТРЦ \"Кристалл\"       49\n",
            "50                               Тюмень ТЦ \"Гудвин\"       50\n",
            "51                        Тюмень ТЦ \"Зеленый Берег\"       51\n",
            "52                             Уфа ТК \"Центральный\"       52\n",
            "53                                 Уфа ТЦ \"Семья\" 2       53\n",
            "54                                  Химки ТЦ \"Мега\"       54\n",
            "55                         Цифровой склад 1С-Онлайн       55\n",
            "56                             Чехов ТРЦ \"Карнавал\"       56\n",
            "57                          Якутск Орджоникидзе, 56       57\n",
            "58                          Якутск ТЦ \"Центральный\"       58\n",
            "59                           Ярославль ТЦ \"Альтаир\"       59\n",
            "\n",
            "shop_name    60\n",
            "shop_id      60\n",
            "dtype: int64\n"
          ]
        }
      ]
    },
    {
      "cell_type": "markdown",
      "source": [
        "***Разделение таблицы магазинов на два столбца.***"
      ],
      "metadata": {
        "id": "nJ-a_O3YloBa"
      }
    },
    {
      "cell_type": "code",
      "source": [
        "def read_csv_shops():\n",
        "    df_shop = shops\n",
        "    shop_item = df_shop['shop_name'].tolist()\n",
        "    shop_id = df_shop['shop_id'].tolist()\n",
        "    return shop_item, shop_id"
      ],
      "metadata": {
        "id": "9pFDE5AJciPg"
      },
      "execution_count": null,
      "outputs": []
    },
    {
      "cell_type": "markdown",
      "source": [
        "Удаление в наименованиях магазинов символов !, ? и т.д."
      ],
      "metadata": {
        "id": "Pk_5lqhzlvy6"
      }
    },
    {
      "cell_type": "code",
      "source": [
        "def clean_list(vector_items):\n",
        "    cleaned_items = []\n",
        "    for i in range(len(vector_items)):\n",
        "        char = vector_items[i]\n",
        "        char = re.sub(' +', ' ', char)\n",
        "        first_rem = re.match(r'^[!]+', char)\n",
        "        last_rem = re.match(r'(.+\\w[?|²])$', char)\n",
        "        if first_rem and last_rem:\n",
        "            char = char.replace(first_rem.group(0), '')\n",
        "            char = char.replace(char[-1], '2')\n",
        "            char = re.sub(r'^ +', '', char)\n",
        "            char = re.sub(r' +$', '', char)\n",
        "            cleaned_items.append(char)\n",
        "        elif first_rem:\n",
        "            char = char.replace(first_rem.group(0), '')\n",
        "            char = re.sub(r'^ +', '', char)\n",
        "            cleaned_items.append(char)\n",
        "        elif last_rem:\n",
        "            char = char.replace(char[-1], '2')\n",
        "            char = re.sub(r' +$', '', char)\n",
        "            cleaned_items.append(char)\n",
        "        else:\n",
        "            cleaned_items.append(char)\n",
        "    return cleaned_items"
      ],
      "metadata": {
        "id": "_iF249wSc_rY"
      },
      "execution_count": null,
      "outputs": []
    },
    {
      "cell_type": "markdown",
      "source": [
        "***Добавление в таблицу магазинов кавычек.***"
      ],
      "metadata": {
        "id": "8rebLqtkmAoM"
      }
    },
    {
      "cell_type": "code",
      "source": [
        "def change_column(cleaned_it):\n",
        "    result_vector = []\n",
        "    for i in range(len(cleaned_it)):\n",
        "        result_vector.append('\"'\n",
        "            + cleaned_it[i] + '\"')\n",
        "    return result_vector"
      ],
      "metadata": {
        "id": "C6JpRzZWddsx"
      },
      "execution_count": null,
      "outputs": []
    },
    {
      "cell_type": "code",
      "source": [
        "shop_items, shop_ids = read_csv_shops()\n",
        "cleaned_shops = clean_list(shop_items)\n",
        "cleaned_shops[0] = 'Якутск Орджоникидзе, 56'\n",
        "cleaned_shops[1] = 'Якутск ТЦ \"Центральный\"'\n",
        "vector_shops = change_column(cleaned_shops)\n",
        "df_shop = pd.DataFrame({'shop_name': vector_shops,\n",
        "                    'shop_id': shop_ids})\n",
        "df_shop.to_csv('shops.csv', index=False)"
      ],
      "metadata": {
        "id": "T_fIz4O9dko4"
      },
      "execution_count": null,
      "outputs": []
    },
    {
      "cell_type": "code",
      "source": [
        "# df_shop['shop_name'].duplicated()\n",
        "print(df_shop)\n",
        "print()\n",
        "print(df_shop.nunique())"
      ],
      "metadata": {
        "colab": {
          "base_uri": "https://localhost:8080/"
        },
        "id": "plS4fcqaeUYg",
        "outputId": "ce4500be-8ddb-409f-af85-1403a6f794aa"
      },
      "execution_count": null,
      "outputs": [
        {
          "output_type": "stream",
          "name": "stdout",
          "text": [
            "                                            shop_name  shop_id\n",
            "0                           \"Якутск Орджоникидзе, 56\"        0\n",
            "1                           \"Якутск ТЦ \"Центральный\"\"        1\n",
            "2                                  \"Адыгея ТЦ \"Мега\"\"        2\n",
            "3                    \"Балашиха ТРК \"Октябрь-Киномир\"\"        3\n",
            "4                          \"Волжский ТЦ \"Волга Молл\"\"        4\n",
            "5                            \"Вологда ТРЦ \"Мармелад\"\"        5\n",
            "6                        \"Воронеж (Плехановская, 13)\"        6\n",
            "7                            \"Воронеж ТРЦ \"Максимир\"\"        7\n",
            "8                      \"Воронеж ТРЦ Сити-Парк \"Град\"\"        8\n",
            "9                                 \"Выездная Торговля\"        9\n",
            "10                       \"Жуковский ул. Чкалова 39м2\"       10\n",
            "11                       \"Жуковский ул. Чкалова 39м2\"       11\n",
            "12                              \"Интернет-магазин ЧС\"       12\n",
            "13                              \"Казань ТЦ \"Бехетле\"\"       13\n",
            "14                          \"Казань ТЦ \"ПаркХаус\" II\"       14\n",
            "15                             \"Калуга ТРЦ \"XXI век\"\"       15\n",
            "16                                 \"Коломна ТЦ \"Рио\"\"       16\n",
            "17                    \"Красноярск ТЦ \"Взлетка Плаза\"\"       17\n",
            "18                             \"Красноярск ТЦ \"Июнь\"\"       18\n",
            "19                            \"Курск ТЦ \"Пушкинский\"\"       19\n",
            "20                              \"Москва \"Распродажа\"\"       20\n",
            "21                           \"Москва МТРЦ \"Афи Молл\"\"       21\n",
            "22                               \"Москва Магазин С21\"       22\n",
            "23                 \"Москва ТК \"Буденовский\" (пав.А2)\"       23\n",
            "24                 \"Москва ТК \"Буденовский\" (пав.К7)\"       24\n",
            "25                              \"Москва ТРК \"Атриум\"\"       25\n",
            "26                      \"Москва ТЦ \"Ареал\" (Беляево)\"       26\n",
            "27                   \"Москва ТЦ \"МЕГА Белая Дача II\"\"       27\n",
            "28                  \"Москва ТЦ \"МЕГА Теплый Стан\" II\"       28\n",
            "29               \"Москва ТЦ \"Новый век\" (Новокосино)\"       29\n",
            "30                           \"Москва ТЦ \"Перловский\"\"       30\n",
            "31                          \"Москва ТЦ \"Семеновский\"\"       31\n",
            "32                       \"Москва ТЦ \"Серебряный Дом\"\"       32\n",
            "33                                \"Мытищи ТРК \"XL-3\"\"       33\n",
            "34                             \"Н.Новгород ТРЦ \"РИО\"\"       34\n",
            "35                      \"Н.Новгород ТРЦ \"Фантастика\"\"       35\n",
            "36            \"Новосибирск ТРЦ \"Галерея Новосибирск\"\"       36\n",
            "37                            \"Новосибирск ТЦ \"Мега\"\"       37\n",
            "38                                   \"Омск ТЦ \"Мега\"\"       38\n",
            "39            \"РостовНаДону ТРК \"Мегацентр Горизонт\"\"       39\n",
            "40  \"РостовНаДону ТРК \"Мегацентр Горизонт\" Островной\"       40\n",
            "41                           \"РостовНаДону ТЦ \"Мега\"\"       41\n",
            "42                           \"СПб ТК \"Невский Центр\"\"       42\n",
            "43                                  \"СПб ТК \"Сенная\"\"       43\n",
            "44                              \"Самара ТЦ \"Мелодия\"\"       44\n",
            "45                             \"Самара ТЦ \"ПаркХаус\"\"       45\n",
            "46                            \"Сергиев Посад ТЦ \"7Я\"\"       46\n",
            "47                           \"Сургут ТРЦ \"Сити Молл\"\"       47\n",
            "48                     \"Томск ТРЦ \"Изумрудный Город\"\"       48\n",
            "49                            \"Тюмень ТРЦ \"Кристалл\"\"       49\n",
            "50                               \"Тюмень ТЦ \"Гудвин\"\"       50\n",
            "51                        \"Тюмень ТЦ \"Зеленый Берег\"\"       51\n",
            "52                             \"Уфа ТК \"Центральный\"\"       52\n",
            "53                                 \"Уфа ТЦ \"Семья\" 2\"       53\n",
            "54                                  \"Химки ТЦ \"Мега\"\"       54\n",
            "55                         \"Цифровой склад 1С-Онлайн\"       55\n",
            "56                             \"Чехов ТРЦ \"Карнавал\"\"       56\n",
            "57                          \"Якутск Орджоникидзе, 56\"       57\n",
            "58                          \"Якутск ТЦ \"Центральный\"\"       58\n",
            "59                           \"Ярославль ТЦ \"Альтаир\"\"       59\n",
            "\n",
            "shop_name    57\n",
            "shop_id      60\n",
            "dtype: int64\n"
          ]
        }
      ]
    },
    {
      "cell_type": "markdown",
      "source": [
        "***Тестовая таблица для проверки модели***"
      ],
      "metadata": {
        "id": "vXSJLCApa5zw"
      }
    },
    {
      "cell_type": "code",
      "source": [
        "test = pd.read_csv(\n",
        "    filepath_or_buffer = path + \n",
        "    \"/Colab Notebooks/Final_prof/test.csv\",\n",
        "    sep = ',')"
      ],
      "metadata": {
        "id": "xq0kJVlM59G_"
      },
      "execution_count": null,
      "outputs": []
    },
    {
      "cell_type": "markdown",
      "source": [
        "***Свойства тестовой таблицы***"
      ],
      "metadata": {
        "id": "WU7CG1rfbDlg"
      }
    },
    {
      "cell_type": "code",
      "source": [
        "# test.nunique()\n",
        "# test.isna().sum()\n",
        "# test.info()\n",
        "print(test)\n",
        "print()\n",
        "print(test.nunique())"
      ],
      "metadata": {
        "colab": {
          "base_uri": "https://localhost:8080/"
        },
        "id": "upTxpqT26CxZ",
        "outputId": "d8636537-1280-4842-fba6-53919e97f538"
      },
      "execution_count": null,
      "outputs": [
        {
          "output_type": "stream",
          "name": "stdout",
          "text": [
            "            ID  shop_id  item_id\n",
            "0            0        5     5037\n",
            "1            1        5     5320\n",
            "2            2        5     5233\n",
            "3            3        5     5232\n",
            "4            4        5     5268\n",
            "...        ...      ...      ...\n",
            "214195  214195       45    18454\n",
            "214196  214196       45    16188\n",
            "214197  214197       45    15757\n",
            "214198  214198       45    19648\n",
            "214199  214199       45      969\n",
            "\n",
            "[214200 rows x 3 columns]\n",
            "\n",
            "ID         214200\n",
            "shop_id        42\n",
            "item_id      5100\n",
            "dtype: int64\n"
          ]
        }
      ]
    },
    {
      "cell_type": "markdown",
      "source": [
        "**График распределения проданных товаров по категориям**"
      ],
      "metadata": {
        "id": "1bOcCEW0ZWCL"
      }
    },
    {
      "cell_type": "code",
      "source": [
        "plt.rcParams['figure.figsize'] = (19, 9)\n",
        "# sns.scatterplot(data=items, x='item_category_id', y='item_id')\n",
        "sns.barplot(data=items, x='item_category_id', y='item_id')\n",
        "# sns.boxenplot(data=items, x='item_category_id', y='item_id')\n",
        "# sns.violinplot(data=items, x='item_category_id', y='item_id')\n",
        "# sns.countplot(data=items, y='item_id')\n",
        "# sns.countplot(data=items, x='item_category_id')\n",
        "# sns.pointplot(data=items, x='item_category_id', y='item_id')\n",
        "# sns.lineplot(data=items, x='item_category_id', y='item_id')\n",
        "# sns.stripplot(data=items, x='item_category_id', y='item_id')\n",
        "# sns.swarmplot(data=items, x='item_category_id', y='item_id')\n",
        "# sns.pairplot(data=items, x_vars='item_category_id', y_vars='item_id', kind='hist')\n",
        "# sns.pairplot(items, kind=\"kde\")\n",
        "plt.title('Подсчет товаров по категориям', fontsize = 30)\n",
        "plt.xlabel('Категории', fontsize = 15)\n",
        "plt.ylabel('Товары по категориям', fontsize = 15)\n",
        "plt.show()"
      ],
      "metadata": {
        "colab": {
          "base_uri": "https://localhost:8080/",
          "height": 585
        },
        "id": "yMbqTGU5YZ2o",
        "outputId": "1b7288e6-8306-49a2-ed9c-1021cef876d3"
      },
      "execution_count": null,
      "outputs": [
        {
          "output_type": "display_data",
          "data": {
            "text/plain": [
              "<Figure size 1368x648 with 1 Axes>"
            ],
            "image/png": "[encoded data removed]"
          },
          "metadata": {
            "needs_background": "light"
          }
        }
      ]
    },
    {
      "cell_type": "markdown",
      "source": [
        "***Количество проданных товаров имеет максимумы в декабре месяце. А также, ежегодные продажи уменьшаются.***"
      ],
      "metadata": {
        "id": "i02amdy9146Y"
      }
    },
    {
      "cell_type": "code",
      "source": [
        "plt.rcParams['figure.figsize'] = (19, 9)\n",
        "sns.countplot(data=sales_train, x='date_block_num')\n",
        "plt.title('Количество проданных товаров по месяцам', fontsize = 30)\n",
        "plt.xlabel('0 - январь 2013, 33 - октябрь 2015', fontsize = 15)\n",
        "plt.ylabel('Количество продаж', fontsize = 15)\n",
        "plt.show()"
      ],
      "metadata": {
        "colab": {
          "base_uri": "https://localhost:8080/",
          "height": 586
        },
        "id": "KjdaKSLA153-",
        "outputId": "c8ed04cd-4a49-49f0-9c39-161c34e7ada1"
      },
      "execution_count": null,
      "outputs": [
        {
          "output_type": "display_data",
          "data": {
            "text/plain": [
              "<Figure size 1368x648 with 1 Axes>"
            ],
            "image/png": "[encoded data removed]"
          },
          "metadata": {
            "needs_background": "light"
          }
        }
      ]
    },
    {
      "cell_type": "code",
      "source": [
        "sales_train['item_price'].hist(bins=1000, color = 'magenta')"
      ],
      "metadata": {
        "colab": {
          "base_uri": "https://localhost:8080/",
          "height": 569
        },
        "id": "GhfDAEagelxF",
        "outputId": "2e42a431-077f-4c40-e4b9-954d1544dd3e"
      },
      "execution_count": null,
      "outputs": [
        {
          "output_type": "execute_result",
          "data": {
            "text/plain": [
              "<matplotlib.axes._subplots.AxesSubplot at 0x7f80e4757700>"
            ]
          },
          "metadata": {},
          "execution_count": 31
        },
        {
          "output_type": "display_data",
          "data": {
            "text/plain": [
              "<Figure size 1368x648 with 1 Axes>"
            ],
            "image/png": "[encoded data removed]"
          },
          "metadata": {
            "needs_background": "light"
          }
        }
      ]
    },
    {
      "cell_type": "code",
      "source": [
        "sales_train.hist(bins=100, color = 'fuchsia')"
      ],
      "metadata": {
        "colab": {
          "base_uri": "https://localhost:8080/",
          "height": 697
        },
        "id": "M3YErpGSdkGu",
        "outputId": "b076ab7e-cb8e-4aa0-9bef-40fb15fcbbe0"
      },
      "execution_count": null,
      "outputs": [
        {
          "output_type": "execute_result",
          "data": {
            "text/plain": [
              "array([[<matplotlib.axes._subplots.AxesSubplot object at 0x7f80e4692400>,\n",
              "        <matplotlib.axes._subplots.AxesSubplot object at 0x7f80df834c70>],\n",
              "       [<matplotlib.axes._subplots.AxesSubplot object at 0x7f80e4962b20>,\n",
              "        <matplotlib.axes._subplots.AxesSubplot object at 0x7f80df756310>],\n",
              "       [<matplotlib.axes._subplots.AxesSubplot object at 0x7f80df71da30>,\n",
              "        <matplotlib.axes._subplots.AxesSubplot object at 0x7f80d86d3220>]],\n",
              "      dtype=object)"
            ]
          },
          "metadata": {},
          "execution_count": 32
        },
        {
          "output_type": "display_data",
          "data": {
            "text/plain": [
              "<Figure size 1368x648 with 6 Axes>"
            ],
            "image/png": "[encoded data removed]"
          },
          "metadata": {
            "needs_background": "light"
          }
        }
      ]
    },
    {
      "cell_type": "markdown",
      "source": [
        "Основная масса товаров имеет невысокую стоимость до 3000 тыс. руб. "
      ],
      "metadata": {
        "id": "-xY0MDD-4mPZ"
      }
    },
    {
      "cell_type": "code",
      "source": [
        "plt.rcParams['figure.figsize'] = (19, 9)\n",
        "sns.boxenplot(data=sales_train, x='item_price', color = 'magenta')\n",
        "plt.title('Разброс ценовых показателей товаров', fontsize = 30)\n",
        "plt.xlabel('Шкала ценовых параметров', fontsize = 15)\n",
        "plt.ylabel('Количество товаров в ценовом диапазоне', fontsize = 15)\n",
        "plt.show()"
      ],
      "metadata": {
        "colab": {
          "base_uri": "https://localhost:8080/",
          "height": 586
        },
        "id": "L9eXNb414mrZ",
        "outputId": "a4aee004-9267-4e69-b56c-ac6d5f2865a3"
      },
      "execution_count": null,
      "outputs": [
        {
          "output_type": "display_data",
          "data": {
            "text/plain": [
              "<Figure size 1368x648 with 1 Axes>"
            ],
            "image/png": "[encoded data removed]"
          },
          "metadata": {
            "needs_background": "light"
          }
        }
      ]
    },
    {
      "cell_type": "markdown",
      "source": [
        "Удаление строк обучающей таблицы, где стоимость товаров выше 3000 рублей."
      ],
      "metadata": {
        "id": "TupWUx8siiEr"
      }
    },
    {
      "cell_type": "code",
      "source": [
        "train = sales_train[(\n",
        "    sales_train[\"item_price\"] > 0) & (\n",
        "    sales_train[\"item_price\"] < 3000)]"
      ],
      "metadata": {
        "id": "kCwcvUbsi2Ym"
      },
      "execution_count": null,
      "outputs": []
    },
    {
      "cell_type": "code",
      "source": [
        "train.shape"
      ],
      "metadata": {
        "colab": {
          "base_uri": "https://localhost:8080/"
        },
        "id": "mNgQFHU7kHho",
        "outputId": "94c05295-b24c-4b97-bd91-54a5e8e38b69"
      },
      "execution_count": null,
      "outputs": [
        {
          "output_type": "execute_result",
          "data": {
            "text/plain": [
              "(2844582, 6)"
            ]
          },
          "metadata": {},
          "execution_count": 35
        }
      ]
    },
    {
      "cell_type": "markdown",
      "source": [
        "***Проверка полученной обучающей таблицы без экстримальных ценовых значений***"
      ],
      "metadata": {
        "id": "lJ5uV2aCjK0D"
      }
    },
    {
      "cell_type": "code",
      "source": [
        "plt.rcParams['figure.figsize'] = (19, 9)\n",
        "sns.histplot(data=train, x='item_price', color = 'magenta')\n",
        "plt.title('Разброс ценовых показателей товаров', fontsize = 30)\n",
        "plt.xlabel('Шкала ценовых параметров', fontsize = 15)\n",
        "plt.ylabel('Количество товаров в ценовом диапазоне', fontsize = 15)\n",
        "plt.show()"
      ],
      "metadata": {
        "colab": {
          "base_uri": "https://localhost:8080/",
          "height": 586
        },
        "id": "uMBvZWxEjbyJ",
        "outputId": "29334cc5-8e84-4141-9d0a-31e03f9fc9f2"
      },
      "execution_count": null,
      "outputs": [
        {
          "output_type": "display_data",
          "data": {
            "text/plain": [
              "<Figure size 1368x648 with 1 Axes>"
            ],
            "image/png": "[encoded data removed]"
          },
          "metadata": {
            "needs_background": "light"
          }
        }
      ]
    },
    {
      "cell_type": "markdown",
      "source": [
        "Ежеднено продается в среднем 200 товаров.\n",
        "Отрицательные числа - означают возврат ранее проданных товаров."
      ],
      "metadata": {
        "id": "txeV9D1JQo_5"
      }
    },
    {
      "cell_type": "code",
      "source": [
        "plt.rcParams['figure.figsize'] = (13, 7)\n",
        "sns.stripplot(data=train, x='item_cnt_day')\n",
        "plt.title('Распределение ежедневно продаваемых товаров', fontsize = 30)\n",
        "plt.xlabel('Количество проданных товаров за день', fontsize = 15)\n",
        "plt.ylabel('Дневные продажи товаров', fontsize = 15)\n",
        "plt.show()"
      ],
      "metadata": {
        "colab": {
          "base_uri": "https://localhost:8080/",
          "height": 476
        },
        "id": "FmoT_MECQpt6",
        "outputId": "9d0307cb-6486-4fd5-b429-0692aaeba2b9"
      },
      "execution_count": null,
      "outputs": [
        {
          "output_type": "display_data",
          "data": {
            "text/plain": [
              "<Figure size 936x504 with 1 Axes>"
            ],
            "image/png": "[encoded data removed]"
          },
          "metadata": {
            "needs_background": "light"
          }
        }
      ]
    },
    {
      "cell_type": "markdown",
      "source": [
        "Удаление возвращенных товаров (которые имеют отрицательное значение)."
      ],
      "metadata": {
        "id": "6XFtJSZVV_RK"
      }
    },
    {
      "cell_type": "code",
      "source": [
        "sales_train_to_drop = train.drop(train[\n",
        "    train['item_cnt_day'] < 0].index)"
      ],
      "metadata": {
        "id": "gQr9EgXOWXB6"
      },
      "execution_count": null,
      "outputs": []
    },
    {
      "cell_type": "code",
      "source": [
        "print(sales_train.shape)\n",
        "print()\n",
        "print(sales_train_to_drop.shape)\n",
        "print()\n",
        "print(train.shape)\n",
        "print()\n",
        "train = sales_train_to_drop\n",
        "print(train.shape)"
      ],
      "metadata": {
        "colab": {
          "base_uri": "https://localhost:8080/"
        },
        "id": "nQYqIlKsWDBF",
        "outputId": "b8c5de76-5c94-4854-b80b-6751b6192bee"
      },
      "execution_count": null,
      "outputs": [
        {
          "output_type": "stream",
          "name": "stdout",
          "text": [
            "(2935849, 6)\n",
            "\n",
            "(2837785, 6)\n",
            "\n",
            "(2844582, 6)\n",
            "\n",
            "(2837785, 6)\n"
          ]
        }
      ]
    },
    {
      "cell_type": "markdown",
      "source": [
        "**Проверка удаления строк с возвращенными товарами**"
      ],
      "metadata": {
        "id": "YlYMJ3W_nrNr"
      }
    },
    {
      "cell_type": "code",
      "source": [
        "plt.rcParams['figure.figsize'] = (13, 7)\n",
        "sns.stripplot(data=train, x='item_cnt_day')\n",
        "plt.title('Распределение ежедневно продаваемых товаров', fontsize = 30)\n",
        "plt.xlabel('Количество проданных товаров за день', fontsize = 15)\n",
        "plt.ylabel('Дневные продажи товаров', fontsize = 15)\n",
        "plt.show()"
      ],
      "metadata": {
        "colab": {
          "base_uri": "https://localhost:8080/",
          "height": 476
        },
        "id": "FiIaYNDxn7cf",
        "outputId": "2d8db783-b60b-4d99-da4f-dadb7c4d2456"
      },
      "execution_count": null,
      "outputs": [
        {
          "output_type": "display_data",
          "data": {
            "text/plain": [
              "<Figure size 936x504 with 1 Axes>"
            ],
            "image/png": "[encoded data removed]"
          },
          "metadata": {
            "needs_background": "light"
          }
        }
      ]
    },
    {
      "cell_type": "markdown",
      "source": [
        "**Удаление строк с экстремальным количеством продаж в течение дня**"
      ],
      "metadata": {
        "id": "54iZV9GMoWRy"
      }
    },
    {
      "cell_type": "code",
      "source": [
        "print(train['item_cnt_day'].describe())"
      ],
      "metadata": {
        "colab": {
          "base_uri": "https://localhost:8080/"
        },
        "id": "Tsr2BXYy4rLv",
        "outputId": "8c3e3275-7053-4ae1-f233-3b94c4782b06"
      },
      "execution_count": null,
      "outputs": [
        {
          "output_type": "stream",
          "name": "stdout",
          "text": [
            "count    2.837785e+06\n",
            "mean     1.242750e+00\n",
            "std      2.606868e+00\n",
            "min      1.000000e+00\n",
            "25%      1.000000e+00\n",
            "50%      1.000000e+00\n",
            "75%      1.000000e+00\n",
            "max      2.169000e+03\n",
            "Name: item_cnt_day, dtype: float64\n"
          ]
        }
      ]
    },
    {
      "cell_type": "code",
      "source": [
        "sales_train_to_drop = train.drop(train[\n",
        "    train['item_cnt_day'] > 500].index)\n",
        "train = sales_train_to_drop"
      ],
      "metadata": {
        "id": "io3vghSMogu5"
      },
      "execution_count": null,
      "outputs": []
    },
    {
      "cell_type": "markdown",
      "source": [
        "**Проверка удаления строк с экстремальным количеством проданных товаров за день**"
      ],
      "metadata": {
        "id": "MCknaByBoKJ5"
      }
    },
    {
      "cell_type": "code",
      "source": [
        "plt.rcParams['figure.figsize'] = (13, 7)\n",
        "sns.stripplot(data=train, x='item_cnt_day')\n",
        "plt.title('Распределение ежедневно проданных товаров ', fontsize = 30)\n",
        "plt.xlabel('Количество проданных товаров за день', fontsize = 15)\n",
        "plt.ylabel('Дневные продажи товаров', fontsize = 15)\n",
        "plt.show()"
      ],
      "metadata": {
        "colab": {
          "base_uri": "https://localhost:8080/",
          "height": 476
        },
        "id": "Psx33LdBpB4h",
        "outputId": "7489fc29-75bb-4416-bb8c-ce32dbbd7e18"
      },
      "execution_count": null,
      "outputs": [
        {
          "output_type": "display_data",
          "data": {
            "text/plain": [
              "<Figure size 936x504 with 1 Axes>"
            ],
            "image/png": "[encoded data removed]"
          },
          "metadata": {
            "needs_background": "light"
          }
        }
      ]
    },
    {
      "cell_type": "code",
      "source": [
        "sales_train_to_drop = train.drop(train[\n",
        "    train['item_cnt_day'] > 26].index)\n",
        "train = sales_train_to_drop"
      ],
      "metadata": {
        "id": "QZ0oezvxsmW9"
      },
      "execution_count": null,
      "outputs": []
    },
    {
      "cell_type": "code",
      "source": [
        "train.shape"
      ],
      "metadata": {
        "colab": {
          "base_uri": "https://localhost:8080/"
        },
        "id": "8un9pKwJSPOf",
        "outputId": "2179b0bf-fd79-4826-9574-250ba6a648b4"
      },
      "execution_count": null,
      "outputs": [
        {
          "output_type": "execute_result",
          "data": {
            "text/plain": [
              "(2835843, 6)"
            ]
          },
          "metadata": {},
          "execution_count": 45
        }
      ]
    },
    {
      "cell_type": "code",
      "source": [
        "plt.rcParams['figure.figsize'] = (13, 7)\n",
        "sns.stripplot(data=train, x='item_cnt_day')\n",
        "plt.title('Распределение ежедневно проданных товаров ', fontsize = 30)\n",
        "plt.xlabel('Количество проданных товаров за день', fontsize = 15)\n",
        "plt.ylabel('Дневные продажи товаров', fontsize = 15)\n",
        "plt.show()"
      ],
      "metadata": {
        "colab": {
          "base_uri": "https://localhost:8080/",
          "height": 476
        },
        "id": "4YXbRHoisrtq",
        "outputId": "66ca1af7-7181-4492-f191-1888cfaa2ff5"
      },
      "execution_count": null,
      "outputs": [
        {
          "output_type": "display_data",
          "data": {
            "text/plain": [
              "<Figure size 936x504 with 1 Axes>"
            ],
            "image/png": "[encoded data removed]"
          },
          "metadata": {
            "needs_background": "light"
          }
        }
      ]
    },
    {
      "cell_type": "markdown",
      "source": [
        "**Удаление дубликатов в названиях магазинов (Якутск, Жуковский).  Выбор магазинов в обучающей выборке, которые присутствуют в тестовой выборке**"
      ],
      "metadata": {
        "id": "I5c7Gtx7r8fC"
      }
    },
    {
      "cell_type": "code",
      "source": [
        "train[\"shop_id\"] = train[\"shop_id\"].replace({0: 57, 1: 58, 11: 10, 40: 39})"
      ],
      "metadata": {
        "id": "TBwYZqXtt3bL"
      },
      "execution_count": null,
      "outputs": []
    },
    {
      "cell_type": "code",
      "source": [
        "print(train[\"shop_id\"].unique())"
      ],
      "metadata": {
        "colab": {
          "base_uri": "https://localhost:8080/"
        },
        "id": "MBPgW33ksbpR",
        "outputId": "3f25b87f-e1d6-43cc-baba-51107fbbe2de"
      },
      "execution_count": null,
      "outputs": [
        {
          "output_type": "stream",
          "name": "stdout",
          "text": [
            "[59 25 24 23 19 22 18 21 28 27 29 26  4  6  2  3  7 57 58 16 15  8 10 14\n",
            " 13 12 53 31 30 32 35 56 54 47 50 42 43 52 51 41 38 44 37 46 45  5 55 17\n",
            "  9 49 39 48 34 33 20 36]\n"
          ]
        }
      ]
    },
    {
      "cell_type": "code",
      "source": [
        "print(len(train[\"shop_id\"].unique()))"
      ],
      "metadata": {
        "colab": {
          "base_uri": "https://localhost:8080/"
        },
        "id": "DZqVFAaZ_Aqv",
        "outputId": "4b00b75d-8261-45f4-d182-9cf3d4be86ab"
      },
      "execution_count": null,
      "outputs": [
        {
          "output_type": "stream",
          "name": "stdout",
          "text": [
            "56\n"
          ]
        }
      ]
    },
    {
      "cell_type": "code",
      "source": [
        "test[\"shop_id\"].unique()\n"
      ],
      "metadata": {
        "colab": {
          "base_uri": "https://localhost:8080/"
        },
        "id": "qQcOcrO_sKIC",
        "outputId": "de0e7452-bf1f-4077-f47e-098c71b63663"
      },
      "execution_count": null,
      "outputs": [
        {
          "output_type": "execute_result",
          "data": {
            "text/plain": [
              "array([ 5,  4,  6,  3,  2,  7, 10, 12, 28, 31, 26, 25, 22, 24, 21, 15, 16,\n",
              "       18, 14, 19, 42, 50, 49, 53, 52, 47, 48, 57, 58, 59, 55, 56, 36, 37,\n",
              "       35, 38, 34, 46, 41, 44, 39, 45])"
            ]
          },
          "metadata": {},
          "execution_count": 50
        }
      ]
    },
    {
      "cell_type": "code",
      "source": [
        "print(len(test[\"shop_id\"].unique()))"
      ],
      "metadata": {
        "colab": {
          "base_uri": "https://localhost:8080/"
        },
        "id": "7kM7Mkb8_G1U",
        "outputId": "0c62bf07-29fc-4e53-a500-af44133cbb7b"
      },
      "execution_count": null,
      "outputs": [
        {
          "output_type": "stream",
          "name": "stdout",
          "text": [
            "42\n"
          ]
        }
      ]
    },
    {
      "cell_type": "markdown",
      "source": [
        "***Удаление в обучаемой выборке названий магазинов, которые отсутствуют в тестовой.***"
      ],
      "metadata": {
        "id": "uz4lAyR-AW9e"
      }
    },
    {
      "cell_type": "code",
      "source": [
        "train = train.loc[train.shop_id.isin(test[\"shop_id\"].unique()), :]"
      ],
      "metadata": {
        "id": "lHjxbiHetKQi"
      },
      "execution_count": null,
      "outputs": []
    },
    {
      "cell_type": "code",
      "source": [
        "print(train[\"shop_id\"].unique())\n",
        "print()\n",
        "print(train.shape)\n",
        "print()\n",
        "print(len(train[\"shop_id\"].unique()))"
      ],
      "metadata": {
        "colab": {
          "base_uri": "https://localhost:8080/"
        },
        "id": "DIJNUtqEtMbs",
        "outputId": "20f773bb-b158-414e-b305-affc546ddc3b"
      },
      "execution_count": null,
      "outputs": [
        {
          "output_type": "stream",
          "name": "stdout",
          "text": [
            "[59 25 24 19 22 18 21 28 26  4  6  2  3  7 57 58 16 15 10 14 12 53 31 35\n",
            " 56 47 50 42 52 41 38 44 37 46 45  5 55 49 39 48 34 36]\n",
            "\n",
            "(2347536, 6)\n",
            "\n",
            "42\n"
          ]
        }
      ]
    },
    {
      "cell_type": "code",
      "source": [
        "train = train.drop(columns=['date', 'item_price'])"
      ],
      "metadata": {
        "id": "TzTvQ7o2SofW"
      },
      "execution_count": null,
      "outputs": []
    },
    {
      "cell_type": "code",
      "source": [
        "train"
      ],
      "metadata": {
        "colab": {
          "base_uri": "https://localhost:8080/",
          "height": 456
        },
        "id": "idLlwJ_-Igrz",
        "outputId": "ec8ae958-62e5-49ff-f255-793555bf3b2c"
      },
      "execution_count": null,
      "outputs": [
        {
          "output_type": "execute_result",
          "data": {
            "text/plain": [
              "         date_block_num  shop_id  item_id  item_cnt_day\n",
              "0                     0       59    22154           1.0\n",
              "1                     0       25     2552           1.0\n",
              "3                     0       25     2554           1.0\n",
              "4                     0       25     2555           1.0\n",
              "5                     0       25     2564           1.0\n",
              "...                 ...      ...      ...           ...\n",
              "2935844              33       25     7409           1.0\n",
              "2935845              33       25     7460           1.0\n",
              "2935846              33       25     7459           1.0\n",
              "2935847              33       25     7440           1.0\n",
              "2935848              33       25     7460           1.0\n",
              "\n",
              "[2347536 rows x 4 columns]"
            ],
            "text/html": [
              "\n",
              "  <div id=\"df-69073a41-5c61-47d0-b3b8-a05fc0faeab5\">\n",
              "    <div class=\"colab-df-container\">\n",
              "      <div>\n",
              "<style scoped>\n",
              "    .dataframe tbody tr th:only-of-type {\n",
              "        vertical-align: middle;\n",
              "    }\n",
              "\n",
              "    .dataframe tbody tr th {\n",
              "        vertical-align: top;\n",
              "    }\n",
              "\n",
              "    .dataframe thead th {\n",
              "        text-align: right;\n",
              "    }\n",
              "</style>\n",
              "<table border=\"1\" class=\"dataframe\">\n",
              "  <thead>\n",
              "    <tr style=\"text-align: right;\">\n",
              "      <th></th>\n",
              "      <th>date_block_num</th>\n",
              "      <th>shop_id</th>\n",
              "      <th>item_id</th>\n",
              "      <th>item_cnt_day</th>\n",
              "    </tr>\n",
              "  </thead>\n",
              "  <tbody>\n",
              "    <tr>\n",
              "      <th>0</th>\n",
              "      <td>0</td>\n",
              "      <td>59</td>\n",
              "      <td>22154</td>\n",
              "      <td>1.0</td>\n",
              "    </tr>\n",
              "    <tr>\n",
              "      <th>1</th>\n",
              "      <td>0</td>\n",
              "      <td>25</td>\n",
              "      <td>2552</td>\n",
              "      <td>1.0</td>\n",
              "    </tr>\n",
              "    <tr>\n",
              "      <th>3</th>\n",
              "      <td>0</td>\n",
              "      <td>25</td>\n",
              "      <td>2554</td>\n",
              "      <td>1.0</td>\n",
              "    </tr>\n",
              "    <tr>\n",
              "      <th>4</th>\n",
              "      <td>0</td>\n",
              "      <td>25</td>\n",
              "      <td>2555</td>\n",
              "      <td>1.0</td>\n",
              "    </tr>\n",
              "    <tr>\n",
              "      <th>5</th>\n",
              "      <td>0</td>\n",
              "      <td>25</td>\n",
              "      <td>2564</td>\n",
              "      <td>1.0</td>\n",
              "    </tr>\n",
              "    <tr>\n",
              "      <th>...</th>\n",
              "      <td>...</td>\n",
              "      <td>...</td>\n",
              "      <td>...</td>\n",
              "      <td>...</td>\n",
              "    </tr>\n",
              "    <tr>\n",
              "      <th>2935844</th>\n",
              "      <td>33</td>\n",
              "      <td>25</td>\n",
              "      <td>7409</td>\n",
              "      <td>1.0</td>\n",
              "    </tr>\n",
              "    <tr>\n",
              "      <th>2935845</th>\n",
              "      <td>33</td>\n",
              "      <td>25</td>\n",
              "      <td>7460</td>\n",
              "      <td>1.0</td>\n",
              "    </tr>\n",
              "    <tr>\n",
              "      <th>2935846</th>\n",
              "      <td>33</td>\n",
              "      <td>25</td>\n",
              "      <td>7459</td>\n",
              "      <td>1.0</td>\n",
              "    </tr>\n",
              "    <tr>\n",
              "      <th>2935847</th>\n",
              "      <td>33</td>\n",
              "      <td>25</td>\n",
              "      <td>7440</td>\n",
              "      <td>1.0</td>\n",
              "    </tr>\n",
              "    <tr>\n",
              "      <th>2935848</th>\n",
              "      <td>33</td>\n",
              "      <td>25</td>\n",
              "      <td>7460</td>\n",
              "      <td>1.0</td>\n",
              "    </tr>\n",
              "  </tbody>\n",
              "</table>\n",
              "<p>2347536 rows × 4 columns</p>\n",
              "</div>\n",
              "      <button class=\"colab-df-convert\" onclick=\"convertToInteractive('df-69073a41-5c61-47d0-b3b8-a05fc0faeab5')\"\n",
              "              title=\"Convert this dataframe to an interactive table.\"\n",
              "              style=\"display:none;\">\n",
              "        \n",
              "  <svg xmlns=\"http://www.w3.org/2000/svg\" height=\"24px\"viewBox=\"0 0 24 24\"\n",
              "       width=\"24px\">\n",
              "    <path d=\"M0 0h24v24H0V0z\" fill=\"none\"/>\n",
              "    <path d=\"M18.56 5.44l.94 2.06.94-2.06 2.06-.94-2.06-.94-.94-2.06-.94 2.06-2.06.94zm-11 1L8.5 8.5l.94-2.06 2.06-.94-2.06-.94L8.5 2.5l-.94 2.06-2.06.94zm10 10l.94 2.06.94-2.06 2.06-.94-2.06-.94-.94-2.06-.94 2.06-2.06.94z\"/><path d=\"M17.41 7.96l-1.37-1.37c-.4-.4-.92-.59-1.43-.59-.52 0-1.04.2-1.43.59L10.3 9.45l-7.72 7.72c-.78.78-.78 2.05 0 2.83L4 21.41c.39.39.9.59 1.41.59.51 0 1.02-.2 1.41-.59l7.78-7.78 2.81-2.81c.8-.78.8-2.07 0-2.86zM5.41 20L4 18.59l7.72-7.72 1.47 1.35L5.41 20z\"/>\n",
              "  </svg>\n",
              "      </button>\n",
              "      \n",
              "  <style>\n",
              "    .colab-df-container {\n",
              "      display:flex;\n",
              "      flex-wrap:wrap;\n",
              "      gap: 12px;\n",
              "    }\n",
              "\n",
              "    .colab-df-convert {\n",
              "      background-color: #E8F0FE;\n",
              "      border: none;\n",
              "      border-radius: 50%;\n",
              "      cursor: pointer;\n",
              "      display: none;\n",
              "      fill: #1967D2;\n",
              "      height: 32px;\n",
              "      padding: 0 0 0 0;\n",
              "      width: 32px;\n",
              "    }\n",
              "\n",
              "    .colab-df-convert:hover {\n",
              "      background-color: #E2EBFA;\n",
              "      box-shadow: 0px 1px 2px rgba(60, 64, 67, 0.3), 0px 1px 3px 1px rgba(60, 64, 67, 0.15);\n",
              "      fill: #174EA6;\n",
              "    }\n",
              "\n",
              "    [theme=dark] .colab-df-convert {\n",
              "      background-color: #3B4455;\n",
              "      fill: #D2E3FC;\n",
              "    }\n",
              "\n",
              "    [theme=dark] .colab-df-convert:hover {\n",
              "      background-color: #434B5C;\n",
              "      box-shadow: 0px 1px 3px 1px rgba(0, 0, 0, 0.15);\n",
              "      filter: drop-shadow(0px 1px 2px rgba(0, 0, 0, 0.3));\n",
              "      fill: #FFFFFF;\n",
              "    }\n",
              "  </style>\n",
              "\n",
              "      <script>\n",
              "        const buttonEl =\n",
              "          document.querySelector('#df-69073a41-5c61-47d0-b3b8-a05fc0faeab5 button.colab-df-convert');\n",
              "        buttonEl.style.display =\n",
              "          google.colab.kernel.accessAllowed ? 'block' : 'none';\n",
              "\n",
              "        async function convertToInteractive(key) {\n",
              "          const element = document.querySelector('#df-69073a41-5c61-47d0-b3b8-a05fc0faeab5');\n",
              "          const dataTable =\n",
              "            await google.colab.kernel.invokeFunction('convertToInteractive',\n",
              "                                                     [key], {});\n",
              "          if (!dataTable) return;\n",
              "\n",
              "          const docLinkHtml = 'Like what you see? Visit the ' +\n",
              "            '<a target=\"_blank\" href=https://colab.research.google.com/notebooks/data_table.ipynb>data table notebook</a>'\n",
              "            + ' to learn more about interactive tables.';\n",
              "          element.innerHTML = '';\n",
              "          dataTable['output_type'] = 'display_data';\n",
              "          await google.colab.output.renderOutput(dataTable, element);\n",
              "          const docLink = document.createElement('div');\n",
              "          docLink.innerHTML = docLinkHtml;\n",
              "          element.appendChild(docLink);\n",
              "        }\n",
              "      </script>\n",
              "    </div>\n",
              "  </div>\n",
              "  "
            ]
          },
          "metadata": {},
          "execution_count": 55
        }
      ]
    },
    {
      "cell_type": "markdown",
      "source": [
        "***Извлечение данных из таблицы продаж за \"33\" - октябрь 2015 года***"
      ],
      "metadata": {
        "id": "xQn-LJD9swsT"
      }
    },
    {
      "cell_type": "code",
      "source": [
        "train_10_2015 = train[train['date_block_num'] == 33]\n",
        "# train.info()\n",
        "print()\n",
        "print(train_10_2015)"
      ],
      "metadata": {
        "id": "d_COlRBdymmq",
        "colab": {
          "base_uri": "https://localhost:8080/"
        },
        "outputId": "9ccb5b0e-e958-4c01-8faa-fa70de94133c"
      },
      "execution_count": null,
      "outputs": [
        {
          "output_type": "stream",
          "name": "stdout",
          "text": [
            "\n",
            "         date_block_num  shop_id  item_id  item_cnt_day\n",
            "2882335              33       45    13315           1.0\n",
            "2882336              33       45    13880           1.0\n",
            "2882337              33       45    13881           1.0\n",
            "2882338              33       45    13881           1.0\n",
            "2882339              33       45    13923           1.0\n",
            "...                 ...      ...      ...           ...\n",
            "2935844              33       25     7409           1.0\n",
            "2935845              33       25     7460           1.0\n",
            "2935846              33       25     7459           1.0\n",
            "2935847              33       25     7440           1.0\n",
            "2935848              33       25     7460           1.0\n",
            "\n",
            "[47191 rows x 4 columns]\n"
          ]
        }
      ]
    },
    {
      "cell_type": "markdown",
      "source": [
        "***Вычисление среднего размера продаж за последний месяц для магазина.***"
      ],
      "metadata": {
        "id": "ylsK4ci3C8GF"
      }
    },
    {
      "cell_type": "code",
      "source": [
        "train_oct_mean_shop = train_10_2015.groupby(by='shop_id')['item_cnt_day'].mean().reset_index()\n",
        "train_oct_mean_shop = train_oct_mean_shop.rename(columns={'item_cnt_day': 'oct_shop_mean'})\n",
        "print()\n",
        "print(train_oct_mean_shop.sort_values(by='oct_shop_mean', ascending=False))"
      ],
      "metadata": {
        "colab": {
          "base_uri": "https://localhost:8080/"
        },
        "id": "Kk6I88s1_msN",
        "outputId": "e122a908-379b-4fdd-cf84-d0bd1a5725db"
      },
      "execution_count": null,
      "outputs": [
        {
          "output_type": "stream",
          "name": "stdout",
          "text": [
            "\n",
            "    shop_id  oct_shop_mean\n",
            "37       55       1.440741\n",
            "7        12       1.428870\n",
            "27       42       1.310381\n",
            "16       25       1.275685\n",
            "19       31       1.221200\n",
            "17       26       1.217000\n",
            "13       21       1.212057\n",
            "25       39       1.201667\n",
            "18       28       1.185825\n",
            "23       37       1.183246\n",
            "14       22       1.179811\n",
            "2         4       1.177542\n",
            "31       47       1.173415\n",
            "8        14       1.142487\n",
            "24       38       1.134593\n",
            "11       18       1.131929\n",
            "32       48       1.131257\n",
            "15       24       1.130481\n",
            "5         7       1.128337\n",
            "10       16       1.125165\n",
            "34       50       1.123656\n",
            "1         3       1.123173\n",
            "36       53       1.121107\n",
            "4         6       1.118669\n",
            "21       35       1.115556\n",
            "29       45       1.112084\n",
            "12       19       1.108985\n",
            "20       34       1.107639\n",
            "39       57       1.106177\n",
            "0         2       1.104240\n",
            "22       36       1.093863\n",
            "9        15       1.093845\n",
            "38       56       1.090233\n",
            "30       46       1.088717\n",
            "40       58       1.083199\n",
            "3         5       1.080931\n",
            "26       41       1.077796\n",
            "35       52       1.075524\n",
            "6        10       1.072022\n",
            "41       59       1.067771\n",
            "28       44       1.063893\n",
            "33       49       1.038128\n"
          ]
        }
      ]
    },
    {
      "cell_type": "markdown",
      "source": [
        "***Вычисление среднего размера продаж за последний месяц для категории товара.***"
      ],
      "metadata": {
        "id": "fLdk8mpwDNQl"
      }
    },
    {
      "cell_type": "code",
      "source": [
        "train_oct_mean_item = train_10_2015.groupby(by='item_id')['item_cnt_day'].mean().reset_index()\n",
        "train_oct_mean_item = train_oct_mean_item.rename(columns={'item_cnt_day': 'oct_item_mean'})\n",
        "print()\n",
        "print(train_oct_mean_item)\n",
        "print()\n",
        "print(train_oct_mean_item.info())\n",
        "print()\n",
        "print(train_oct_mean_item['oct_item_mean'].describe())"
      ],
      "metadata": {
        "colab": {
          "base_uri": "https://localhost:8080/"
        },
        "id": "0bXzgPif_rqF",
        "outputId": "ae6f7c09-f07a-4d8c-b2ca-a26f81a4e1c2"
      },
      "execution_count": null,
      "outputs": [
        {
          "output_type": "stream",
          "name": "stdout",
          "text": [
            "\n",
            "      item_id  oct_item_mean\n",
            "0          30       1.000000\n",
            "1          31       1.000000\n",
            "2          32       1.000000\n",
            "3          33       1.000000\n",
            "4          40       1.000000\n",
            "...       ...            ...\n",
            "5062    22162       1.000000\n",
            "5063    22163       1.040000\n",
            "5064    22164       1.000000\n",
            "5065    22166       1.833333\n",
            "5066    22167       1.156250\n",
            "\n",
            "[5067 rows x 2 columns]\n",
            "\n",
            "<class 'pandas.core.frame.DataFrame'>\n",
            "RangeIndex: 5067 entries, 0 to 5066\n",
            "Data columns (total 2 columns):\n",
            " #   Column         Non-Null Count  Dtype  \n",
            "---  ------         --------------  -----  \n",
            " 0   item_id        5067 non-null   int64  \n",
            " 1   oct_item_mean  5067 non-null   float64\n",
            "dtypes: float64(1), int64(1)\n",
            "memory usage: 79.3 KB\n",
            "None\n",
            "\n",
            "count    5067.000000\n",
            "mean        1.047791\n",
            "std         0.391645\n",
            "min         1.000000\n",
            "25%         1.000000\n",
            "50%         1.000000\n",
            "75%         1.000000\n",
            "max        15.000000\n",
            "Name: oct_item_mean, dtype: float64\n"
          ]
        }
      ]
    },
    {
      "cell_type": "markdown",
      "source": [
        "\n",
        "***Извлечение данных из таблицы продаж за \"24 - 33\" - 2015 год***"
      ],
      "metadata": {
        "id": "OkG20thLyP-W"
      }
    },
    {
      "cell_type": "code",
      "source": [
        "train_2015 = train[train['date_block_num'] >= 24]\n",
        "# train.info()\n",
        "print()\n",
        "print(train_2015)"
      ],
      "metadata": {
        "id": "RfIQXayy1F1P",
        "colab": {
          "base_uri": "https://localhost:8080/"
        },
        "outputId": "7e167585-9af4-4ba3-d3fb-e9dab7757a22"
      },
      "execution_count": null,
      "outputs": [
        {
          "output_type": "stream",
          "name": "stdout",
          "text": [
            "\n",
            "         date_block_num  shop_id  item_id  item_cnt_day\n",
            "2324647              24        7    19436           1.0\n",
            "2324650              24       15     5319           2.0\n",
            "2324651              24       15     5319           1.0\n",
            "2324652              24       15     5331           1.0\n",
            "2324653              24       15     5747           1.0\n",
            "...                 ...      ...      ...           ...\n",
            "2935844              33       25     7409           1.0\n",
            "2935845              33       25     7460           1.0\n",
            "2935846              33       25     7459           1.0\n",
            "2935847              33       25     7440           1.0\n",
            "2935848              33       25     7460           1.0\n",
            "\n",
            "[523395 rows x 4 columns]\n"
          ]
        }
      ]
    },
    {
      "cell_type": "markdown",
      "source": [
        "***Вычисление среднего размера продаж за последний год для магазина.***"
      ],
      "metadata": {
        "id": "T33Df7lpDyZC"
      }
    },
    {
      "cell_type": "code",
      "source": [
        "train_2015_mean_shop = train_2015.groupby(by='shop_id')['item_cnt_day'].mean().reset_index()\n",
        "train_2015_mean_shop = train_2015_mean_shop.rename(columns={'item_cnt_day': '2015_shop_mean'})\n",
        "print()\n",
        "print(train_2015_mean_shop.sort_values(by='2015_shop_mean', ascending=False))"
      ],
      "metadata": {
        "id": "K7HCL4FE8Ibg",
        "colab": {
          "base_uri": "https://localhost:8080/"
        },
        "outputId": "9b8f3868-7165-4f09-a0c8-14dc8047d1ec"
      },
      "execution_count": null,
      "outputs": [
        {
          "output_type": "stream",
          "name": "stdout",
          "text": [
            "\n",
            "    shop_id  2015_shop_mean\n",
            "37       55        1.666836\n",
            "7        12        1.566834\n",
            "27       42        1.276876\n",
            "14       22        1.238925\n",
            "19       31        1.233887\n",
            "16       25        1.221227\n",
            "18       28        1.218978\n",
            "25       39        1.196850\n",
            "8        14        1.185646\n",
            "31       47        1.182378\n",
            "41       59        1.169006\n",
            "17       26        1.168303\n",
            "13       21        1.168058\n",
            "15       24        1.165428\n",
            "0         2        1.142659\n",
            "21       35        1.138693\n",
            "23       37        1.138227\n",
            "11       18        1.138225\n",
            "10       16        1.136029\n",
            "2         4        1.134636\n",
            "39       57        1.134069\n",
            "26       41        1.129014\n",
            "6        10        1.126453\n",
            "4         6        1.125102\n",
            "9        15        1.123475\n",
            "5         7        1.123383\n",
            "24       38        1.121782\n",
            "30       46        1.120955\n",
            "36       53        1.120653\n",
            "12       19        1.116668\n",
            "20       34        1.110983\n",
            "29       45        1.109927\n",
            "34       50        1.108378\n",
            "40       58        1.107401\n",
            "1         3        1.105870\n",
            "38       56        1.103491\n",
            "3         5        1.094146\n",
            "22       36        1.093863\n",
            "32       48        1.089167\n",
            "35       52        1.087954\n",
            "28       44        1.087032\n",
            "33       49        1.079031\n"
          ]
        }
      ]
    },
    {
      "cell_type": "markdown",
      "source": [
        "***Вычисление среднего размера продаж за последний год для категории товара.***"
      ],
      "metadata": {
        "id": "XxHXOLTtDruK"
      }
    },
    {
      "cell_type": "code",
      "source": [
        "train_2015_mean_item = train_2015.groupby(by='item_id')['item_cnt_day'].mean().reset_index()\n",
        "train_2015_mean_item = train_2015_mean_item.rename(columns={'item_cnt_day': '2015_item_mean'})\n",
        "print()\n",
        "print(train_2015_mean_item)\n",
        "print()\n",
        "print(train_2015_mean_item.info())\n",
        "print()\n",
        "print(train_2015_mean_item['2015_item_mean'].describe())"
      ],
      "metadata": {
        "id": "ny-mokrey43V",
        "colab": {
          "base_uri": "https://localhost:8080/"
        },
        "outputId": "181a017f-edc1-47da-9522-0bf68732b003"
      },
      "execution_count": null,
      "outputs": [
        {
          "output_type": "stream",
          "name": "stdout",
          "text": [
            "\n",
            "       item_id  2015_item_mean\n",
            "0           30        1.000000\n",
            "1           31        1.019737\n",
            "2           32        1.046025\n",
            "3           33        1.000000\n",
            "4           36        1.000000\n",
            "...        ...             ...\n",
            "10610    22162        1.250000\n",
            "10611    22163        1.057143\n",
            "10612    22164        1.213296\n",
            "10613    22166        1.166667\n",
            "10614    22167        1.129964\n",
            "\n",
            "[10615 rows x 2 columns]\n",
            "\n",
            "<class 'pandas.core.frame.DataFrame'>\n",
            "RangeIndex: 10615 entries, 0 to 10614\n",
            "Data columns (total 2 columns):\n",
            " #   Column          Non-Null Count  Dtype  \n",
            "---  ------          --------------  -----  \n",
            " 0   item_id         10615 non-null  int64  \n",
            " 1   2015_item_mean  10615 non-null  float64\n",
            "dtypes: float64(1), int64(1)\n",
            "memory usage: 166.0 KB\n",
            "None\n",
            "\n",
            "count    10615.000000\n",
            "mean         1.057748\n",
            "std          0.348840\n",
            "min          1.000000\n",
            "25%          1.000000\n",
            "50%          1.000000\n",
            "75%          1.016129\n",
            "max         14.250000\n",
            "Name: 2015_item_mean, dtype: float64\n"
          ]
        }
      ]
    },
    {
      "cell_type": "markdown",
      "source": [
        "***Создание столбца Ноябрь 2015 из значений октября 2015 + случайные товары из средних значений***\n"
      ],
      "metadata": {
        "id": "q2IQn0pRTzhx"
      }
    },
    {
      "cell_type": "code",
      "source": [
        "train_11_2015 = train_10_2015"
      ],
      "metadata": {
        "id": "kLkZxl5CUKiL"
      },
      "execution_count": null,
      "outputs": []
    },
    {
      "cell_type": "code",
      "source": [
        "train_11_2015['date_block_num'] = train_11_2015['date_block_num'].replace({33: 34})\n",
        "train_11_2015 = train_11_2015.reset_index(drop = True)\n",
        "\n",
        "new_index = np.arange(2935849,  2983040, 1, dtype=int)\n",
        "train_11_2015 = train_11_2015.set_index(new_index)\n",
        "print(new_index)\n",
        "# 2935848 np.arange(0, 5, 0.5, dtype=int)\n",
        "print(train_11_2015)"
      ],
      "metadata": {
        "colab": {
          "base_uri": "https://localhost:8080/"
        },
        "id": "zLepW2KsTrS_",
        "outputId": "89ac7f06-7f54-4ac9-8562-df6cf6abaf53"
      },
      "execution_count": null,
      "outputs": [
        {
          "output_type": "stream",
          "name": "stdout",
          "text": [
            "[2935849 2935850 2935851 ... 2983037 2983038 2983039]\n",
            "         date_block_num  shop_id  item_id  item_cnt_day\n",
            "2935849              34       45    13315           1.0\n",
            "2935850              34       45    13880           1.0\n",
            "2935851              34       45    13881           1.0\n",
            "2935852              34       45    13881           1.0\n",
            "2935853              34       45    13923           1.0\n",
            "...                 ...      ...      ...           ...\n",
            "2983035              34       25     7409           1.0\n",
            "2983036              34       25     7460           1.0\n",
            "2983037              34       25     7459           1.0\n",
            "2983038              34       25     7440           1.0\n",
            "2983039              34       25     7460           1.0\n",
            "\n",
            "[47191 rows x 4 columns]\n"
          ]
        },
        {
          "output_type": "stream",
          "name": "stderr",
          "text": [
            "<ipython-input-63-56989fcc4105>:1: SettingWithCopyWarning: \n",
            "A value is trying to be set on a copy of a slice from a DataFrame.\n",
            "Try using .loc[row_indexer,col_indexer] = value instead\n",
            "\n",
            "See the caveats in the documentation: https://pandas.pydata.org/pandas-docs/stable/user_guide/indexing.html#returning-a-view-versus-a-copy\n",
            "  train_11_2015['date_block_num'] = train_11_2015['date_block_num'].replace({33: 34})\n"
          ]
        }
      ]
    },
    {
      "cell_type": "markdown",
      "source": [
        "***Список магазинов с наибольшими продажами товаров***\n",
        "\n",
        "55   Цифровой склад 1С-Онлайн,\n",
        "\n",
        "12   Интернет-магазин ЧС,\n",
        "\n",
        "42  \"СПб ТК \"Невский Центр\",\n",
        "\n",
        "25  \"Москва ТРК \"Атриум\",\n",
        "\n",
        "31  \"Москва ТЦ \"Семеновский\""
      ],
      "metadata": {
        "id": "EqL2UD-DiooP"
      }
    },
    {
      "cell_type": "code",
      "source": [
        "from random import choice\n",
        "\n",
        "\n",
        "data_november = train_2015_mean_item['item_id'].to_list()\n",
        "popular_stores = [55, 12, 42, 25, 31]\n",
        "\n",
        "def fill_november_2015():\n",
        "  result = []\n",
        "  lim_number = 0\n",
        "  store_num = None\n",
        "  item_val = None\n",
        "  cur_row = None\n",
        "  for n in popular_stores:\n",
        "    if n == 55:\n",
        "      lim_number = 800\n",
        "      store_num = 55\n",
        "    elif n == 12:\n",
        "      lim_number = 700\n",
        "      store_num = 12\n",
        "    elif n == 42:\n",
        "      lim_number = 500\n",
        "      store_num = 42\n",
        "    elif n == 25:\n",
        "      lim_number = 400\n",
        "      store_num = 25\n",
        "    else:\n",
        "      lim_number = 350\n",
        "      store_num = 31\n",
        "    for i in range(lim_number):\n",
        "      item_val = choice(data_november)\n",
        "      cur_row = train_2015_mean_item['2015_item_mean'][train_2015_mean_item['item_id'] == item_val]\n",
        "      result.append(\n",
        "                    [34,\n",
        "                    store_num,\n",
        "                    choice(data_november),\n",
        "                    *cur_row])\n",
        "  return result\n"
      ],
      "metadata": {
        "id": "OQZKwEhNrT8X"
      },
      "execution_count": null,
      "outputs": []
    },
    {
      "cell_type": "code",
      "source": [
        "res = fill_november_2015()\n",
        "print(len(res))"
      ],
      "metadata": {
        "colab": {
          "base_uri": "https://localhost:8080/"
        },
        "id": "TtVs6bYyuufv",
        "outputId": "e4819dfb-26e8-4406-b2c2-0fcce0cf1850"
      },
      "execution_count": null,
      "outputs": [
        {
          "output_type": "stream",
          "name": "stdout",
          "text": [
            "2750\n"
          ]
        }
      ]
    },
    {
      "cell_type": "code",
      "source": [
        "november_index = np.arange(2983041,  2985791, 1, dtype=int)\n",
        "more_november = pd.DataFrame(res,\n",
        "                  index = november_index,\n",
        "                  columns =['date_block_num',\n",
        "                            'shop_id',\n",
        "                            'item_id',\n",
        "                            'item_cnt_day'],\n",
        "                  )"
      ],
      "metadata": {
        "id": "P-_c4QZ38u9X"
      },
      "execution_count": null,
      "outputs": []
    },
    {
      "cell_type": "code",
      "source": [
        "more_november"
      ],
      "metadata": {
        "colab": {
          "base_uri": "https://localhost:8080/",
          "height": 456
        },
        "id": "cyzAcDlU_s_Y",
        "outputId": "8a5a2836-453b-4f3d-e97f-7ec207340838"
      },
      "execution_count": null,
      "outputs": [
        {
          "output_type": "execute_result",
          "data": {
            "text/plain": [
              "         date_block_num  shop_id  item_id  item_cnt_day\n",
              "2983041              34       55     2730      1.000000\n",
              "2983042              34       55     4053      1.040000\n",
              "2983043              34       55    18274      1.010256\n",
              "2983044              34       55     6779      1.000000\n",
              "2983045              34       55    22021      1.000000\n",
              "...                 ...      ...      ...           ...\n",
              "2985786              34       31    12478      1.000000\n",
              "2985787              34       31    15499      1.000000\n",
              "2985788              34       31     4056      1.066667\n",
              "2985789              34       31    11731      1.500000\n",
              "2985790              34       31     8322      1.000000\n",
              "\n",
              "[2750 rows x 4 columns]"
            ],
            "text/html": [
              "\n",
              "  <div id=\"df-a43791e1-b999-41da-a6fb-041d5a4d92ce\">\n",
              "    <div class=\"colab-df-container\">\n",
              "      <div>\n",
              "<style scoped>\n",
              "    .dataframe tbody tr th:only-of-type {\n",
              "        vertical-align: middle;\n",
              "    }\n",
              "\n",
              "    .dataframe tbody tr th {\n",
              "        vertical-align: top;\n",
              "    }\n",
              "\n",
              "    .dataframe thead th {\n",
              "        text-align: right;\n",
              "    }\n",
              "</style>\n",
              "<table border=\"1\" class=\"dataframe\">\n",
              "  <thead>\n",
              "    <tr style=\"text-align: right;\">\n",
              "      <th></th>\n",
              "      <th>date_block_num</th>\n",
              "      <th>shop_id</th>\n",
              "      <th>item_id</th>\n",
              "      <th>item_cnt_day</th>\n",
              "    </tr>\n",
              "  </thead>\n",
              "  <tbody>\n",
              "    <tr>\n",
              "      <th>2983041</th>\n",
              "      <td>34</td>\n",
              "      <td>55</td>\n",
              "      <td>2730</td>\n",
              "      <td>1.000000</td>\n",
              "    </tr>\n",
              "    <tr>\n",
              "      <th>2983042</th>\n",
              "      <td>34</td>\n",
              "      <td>55</td>\n",
              "      <td>4053</td>\n",
              "      <td>1.040000</td>\n",
              "    </tr>\n",
              "    <tr>\n",
              "      <th>2983043</th>\n",
              "      <td>34</td>\n",
              "      <td>55</td>\n",
              "      <td>18274</td>\n",
              "      <td>1.010256</td>\n",
              "    </tr>\n",
              "    <tr>\n",
              "      <th>2983044</th>\n",
              "      <td>34</td>\n",
              "      <td>55</td>\n",
              "      <td>6779</td>\n",
              "      <td>1.000000</td>\n",
              "    </tr>\n",
              "    <tr>\n",
              "      <th>2983045</th>\n",
              "      <td>34</td>\n",
              "      <td>55</td>\n",
              "      <td>22021</td>\n",
              "      <td>1.000000</td>\n",
              "    </tr>\n",
              "    <tr>\n",
              "      <th>...</th>\n",
              "      <td>...</td>\n",
              "      <td>...</td>\n",
              "      <td>...</td>\n",
              "      <td>...</td>\n",
              "    </tr>\n",
              "    <tr>\n",
              "      <th>2985786</th>\n",
              "      <td>34</td>\n",
              "      <td>31</td>\n",
              "      <td>12478</td>\n",
              "      <td>1.000000</td>\n",
              "    </tr>\n",
              "    <tr>\n",
              "      <th>2985787</th>\n",
              "      <td>34</td>\n",
              "      <td>31</td>\n",
              "      <td>15499</td>\n",
              "      <td>1.000000</td>\n",
              "    </tr>\n",
              "    <tr>\n",
              "      <th>2985788</th>\n",
              "      <td>34</td>\n",
              "      <td>31</td>\n",
              "      <td>4056</td>\n",
              "      <td>1.066667</td>\n",
              "    </tr>\n",
              "    <tr>\n",
              "      <th>2985789</th>\n",
              "      <td>34</td>\n",
              "      <td>31</td>\n",
              "      <td>11731</td>\n",
              "      <td>1.500000</td>\n",
              "    </tr>\n",
              "    <tr>\n",
              "      <th>2985790</th>\n",
              "      <td>34</td>\n",
              "      <td>31</td>\n",
              "      <td>8322</td>\n",
              "      <td>1.000000</td>\n",
              "    </tr>\n",
              "  </tbody>\n",
              "</table>\n",
              "<p>2750 rows × 4 columns</p>\n",
              "</div>\n",
              "      <button class=\"colab-df-convert\" onclick=\"convertToInteractive('df-a43791e1-b999-41da-a6fb-041d5a4d92ce')\"\n",
              "              title=\"Convert this dataframe to an interactive table.\"\n",
              "              style=\"display:none;\">\n",
              "        \n",
              "  <svg xmlns=\"http://www.w3.org/2000/svg\" height=\"24px\"viewBox=\"0 0 24 24\"\n",
              "       width=\"24px\">\n",
              "    <path d=\"M0 0h24v24H0V0z\" fill=\"none\"/>\n",
              "    <path d=\"M18.56 5.44l.94 2.06.94-2.06 2.06-.94-2.06-.94-.94-2.06-.94 2.06-2.06.94zm-11 1L8.5 8.5l.94-2.06 2.06-.94-2.06-.94L8.5 2.5l-.94 2.06-2.06.94zm10 10l.94 2.06.94-2.06 2.06-.94-2.06-.94-.94-2.06-.94 2.06-2.06.94z\"/><path d=\"M17.41 7.96l-1.37-1.37c-.4-.4-.92-.59-1.43-.59-.52 0-1.04.2-1.43.59L10.3 9.45l-7.72 7.72c-.78.78-.78 2.05 0 2.83L4 21.41c.39.39.9.59 1.41.59.51 0 1.02-.2 1.41-.59l7.78-7.78 2.81-2.81c.8-.78.8-2.07 0-2.86zM5.41 20L4 18.59l7.72-7.72 1.47 1.35L5.41 20z\"/>\n",
              "  </svg>\n",
              "      </button>\n",
              "      \n",
              "  <style>\n",
              "    .colab-df-container {\n",
              "      display:flex;\n",
              "      flex-wrap:wrap;\n",
              "      gap: 12px;\n",
              "    }\n",
              "\n",
              "    .colab-df-convert {\n",
              "      background-color: #E8F0FE;\n",
              "      border: none;\n",
              "      border-radius: 50%;\n",
              "      cursor: pointer;\n",
              "      display: none;\n",
              "      fill: #1967D2;\n",
              "      height: 32px;\n",
              "      padding: 0 0 0 0;\n",
              "      width: 32px;\n",
              "    }\n",
              "\n",
              "    .colab-df-convert:hover {\n",
              "      background-color: #E2EBFA;\n",
              "      box-shadow: 0px 1px 2px rgba(60, 64, 67, 0.3), 0px 1px 3px 1px rgba(60, 64, 67, 0.15);\n",
              "      fill: #174EA6;\n",
              "    }\n",
              "\n",
              "    [theme=dark] .colab-df-convert {\n",
              "      background-color: #3B4455;\n",
              "      fill: #D2E3FC;\n",
              "    }\n",
              "\n",
              "    [theme=dark] .colab-df-convert:hover {\n",
              "      background-color: #434B5C;\n",
              "      box-shadow: 0px 1px 3px 1px rgba(0, 0, 0, 0.15);\n",
              "      filter: drop-shadow(0px 1px 2px rgba(0, 0, 0, 0.3));\n",
              "      fill: #FFFFFF;\n",
              "    }\n",
              "  </style>\n",
              "\n",
              "      <script>\n",
              "        const buttonEl =\n",
              "          document.querySelector('#df-a43791e1-b999-41da-a6fb-041d5a4d92ce button.colab-df-convert');\n",
              "        buttonEl.style.display =\n",
              "          google.colab.kernel.accessAllowed ? 'block' : 'none';\n",
              "\n",
              "        async function convertToInteractive(key) {\n",
              "          const element = document.querySelector('#df-a43791e1-b999-41da-a6fb-041d5a4d92ce');\n",
              "          const dataTable =\n",
              "            await google.colab.kernel.invokeFunction('convertToInteractive',\n",
              "                                                     [key], {});\n",
              "          if (!dataTable) return;\n",
              "\n",
              "          const docLinkHtml = 'Like what you see? Visit the ' +\n",
              "            '<a target=\"_blank\" href=https://colab.research.google.com/notebooks/data_table.ipynb>data table notebook</a>'\n",
              "            + ' to learn more about interactive tables.';\n",
              "          element.innerHTML = '';\n",
              "          dataTable['output_type'] = 'display_data';\n",
              "          await google.colab.output.renderOutput(dataTable, element);\n",
              "          const docLink = document.createElement('div');\n",
              "          docLink.innerHTML = docLinkHtml;\n",
              "          element.appendChild(docLink);\n",
              "        }\n",
              "      </script>\n",
              "    </div>\n",
              "  </div>\n",
              "  "
            ]
          },
          "metadata": {},
          "execution_count": 67
        }
      ]
    },
    {
      "cell_type": "code",
      "source": [
        "train = pd.concat([train, train_11_2015, more_november])"
      ],
      "metadata": {
        "id": "nGXZ2bvcd2a-"
      },
      "execution_count": null,
      "outputs": []
    },
    {
      "cell_type": "code",
      "source": [
        "train\n"
      ],
      "metadata": {
        "colab": {
          "base_uri": "https://localhost:8080/",
          "height": 456
        },
        "id": "KuIQxpW9d-6w",
        "outputId": "a5adfd65-d041-403e-e321-601f0c3298ba"
      },
      "execution_count": null,
      "outputs": [
        {
          "output_type": "execute_result",
          "data": {
            "text/plain": [
              "         date_block_num  shop_id  item_id  item_cnt_day\n",
              "0                     0       59    22154      1.000000\n",
              "1                     0       25     2552      1.000000\n",
              "3                     0       25     2554      1.000000\n",
              "4                     0       25     2555      1.000000\n",
              "5                     0       25     2564      1.000000\n",
              "...                 ...      ...      ...           ...\n",
              "2985786              34       31    12478      1.000000\n",
              "2985787              34       31    15499      1.000000\n",
              "2985788              34       31     4056      1.066667\n",
              "2985789              34       31    11731      1.500000\n",
              "2985790              34       31     8322      1.000000\n",
              "\n",
              "[2397477 rows x 4 columns]"
            ],
            "text/html": [
              "\n",
              "  <div id=\"df-e4e66a0b-18e3-4735-ae12-81c2050a602d\">\n",
              "    <div class=\"colab-df-container\">\n",
              "      <div>\n",
              "<style scoped>\n",
              "    .dataframe tbody tr th:only-of-type {\n",
              "        vertical-align: middle;\n",
              "    }\n",
              "\n",
              "    .dataframe tbody tr th {\n",
              "        vertical-align: top;\n",
              "    }\n",
              "\n",
              "    .dataframe thead th {\n",
              "        text-align: right;\n",
              "    }\n",
              "</style>\n",
              "<table border=\"1\" class=\"dataframe\">\n",
              "  <thead>\n",
              "    <tr style=\"text-align: right;\">\n",
              "      <th></th>\n",
              "      <th>date_block_num</th>\n",
              "      <th>shop_id</th>\n",
              "      <th>item_id</th>\n",
              "      <th>item_cnt_day</th>\n",
              "    </tr>\n",
              "  </thead>\n",
              "  <tbody>\n",
              "    <tr>\n",
              "      <th>0</th>\n",
              "      <td>0</td>\n",
              "      <td>59</td>\n",
              "      <td>22154</td>\n",
              "      <td>1.000000</td>\n",
              "    </tr>\n",
              "    <tr>\n",
              "      <th>1</th>\n",
              "      <td>0</td>\n",
              "      <td>25</td>\n",
              "      <td>2552</td>\n",
              "      <td>1.000000</td>\n",
              "    </tr>\n",
              "    <tr>\n",
              "      <th>3</th>\n",
              "      <td>0</td>\n",
              "      <td>25</td>\n",
              "      <td>2554</td>\n",
              "      <td>1.000000</td>\n",
              "    </tr>\n",
              "    <tr>\n",
              "      <th>4</th>\n",
              "      <td>0</td>\n",
              "      <td>25</td>\n",
              "      <td>2555</td>\n",
              "      <td>1.000000</td>\n",
              "    </tr>\n",
              "    <tr>\n",
              "      <th>5</th>\n",
              "      <td>0</td>\n",
              "      <td>25</td>\n",
              "      <td>2564</td>\n",
              "      <td>1.000000</td>\n",
              "    </tr>\n",
              "    <tr>\n",
              "      <th>...</th>\n",
              "      <td>...</td>\n",
              "      <td>...</td>\n",
              "      <td>...</td>\n",
              "      <td>...</td>\n",
              "    </tr>\n",
              "    <tr>\n",
              "      <th>2985786</th>\n",
              "      <td>34</td>\n",
              "      <td>31</td>\n",
              "      <td>12478</td>\n",
              "      <td>1.000000</td>\n",
              "    </tr>\n",
              "    <tr>\n",
              "      <th>2985787</th>\n",
              "      <td>34</td>\n",
              "      <td>31</td>\n",
              "      <td>15499</td>\n",
              "      <td>1.000000</td>\n",
              "    </tr>\n",
              "    <tr>\n",
              "      <th>2985788</th>\n",
              "      <td>34</td>\n",
              "      <td>31</td>\n",
              "      <td>4056</td>\n",
              "      <td>1.066667</td>\n",
              "    </tr>\n",
              "    <tr>\n",
              "      <th>2985789</th>\n",
              "      <td>34</td>\n",
              "      <td>31</td>\n",
              "      <td>11731</td>\n",
              "      <td>1.500000</td>\n",
              "    </tr>\n",
              "    <tr>\n",
              "      <th>2985790</th>\n",
              "      <td>34</td>\n",
              "      <td>31</td>\n",
              "      <td>8322</td>\n",
              "      <td>1.000000</td>\n",
              "    </tr>\n",
              "  </tbody>\n",
              "</table>\n",
              "<p>2397477 rows × 4 columns</p>\n",
              "</div>\n",
              "      <button class=\"colab-df-convert\" onclick=\"convertToInteractive('df-e4e66a0b-18e3-4735-ae12-81c2050a602d')\"\n",
              "              title=\"Convert this dataframe to an interactive table.\"\n",
              "              style=\"display:none;\">\n",
              "        \n",
              "  <svg xmlns=\"http://www.w3.org/2000/svg\" height=\"24px\"viewBox=\"0 0 24 24\"\n",
              "       width=\"24px\">\n",
              "    <path d=\"M0 0h24v24H0V0z\" fill=\"none\"/>\n",
              "    <path d=\"M18.56 5.44l.94 2.06.94-2.06 2.06-.94-2.06-.94-.94-2.06-.94 2.06-2.06.94zm-11 1L8.5 8.5l.94-2.06 2.06-.94-2.06-.94L8.5 2.5l-.94 2.06-2.06.94zm10 10l.94 2.06.94-2.06 2.06-.94-2.06-.94-.94-2.06-.94 2.06-2.06.94z\"/><path d=\"M17.41 7.96l-1.37-1.37c-.4-.4-.92-.59-1.43-.59-.52 0-1.04.2-1.43.59L10.3 9.45l-7.72 7.72c-.78.78-.78 2.05 0 2.83L4 21.41c.39.39.9.59 1.41.59.51 0 1.02-.2 1.41-.59l7.78-7.78 2.81-2.81c.8-.78.8-2.07 0-2.86zM5.41 20L4 18.59l7.72-7.72 1.47 1.35L5.41 20z\"/>\n",
              "  </svg>\n",
              "      </button>\n",
              "      \n",
              "  <style>\n",
              "    .colab-df-container {\n",
              "      display:flex;\n",
              "      flex-wrap:wrap;\n",
              "      gap: 12px;\n",
              "    }\n",
              "\n",
              "    .colab-df-convert {\n",
              "      background-color: #E8F0FE;\n",
              "      border: none;\n",
              "      border-radius: 50%;\n",
              "      cursor: pointer;\n",
              "      display: none;\n",
              "      fill: #1967D2;\n",
              "      height: 32px;\n",
              "      padding: 0 0 0 0;\n",
              "      width: 32px;\n",
              "    }\n",
              "\n",
              "    .colab-df-convert:hover {\n",
              "      background-color: #E2EBFA;\n",
              "      box-shadow: 0px 1px 2px rgba(60, 64, 67, 0.3), 0px 1px 3px 1px rgba(60, 64, 67, 0.15);\n",
              "      fill: #174EA6;\n",
              "    }\n",
              "\n",
              "    [theme=dark] .colab-df-convert {\n",
              "      background-color: #3B4455;\n",
              "      fill: #D2E3FC;\n",
              "    }\n",
              "\n",
              "    [theme=dark] .colab-df-convert:hover {\n",
              "      background-color: #434B5C;\n",
              "      box-shadow: 0px 1px 3px 1px rgba(0, 0, 0, 0.15);\n",
              "      filter: drop-shadow(0px 1px 2px rgba(0, 0, 0, 0.3));\n",
              "      fill: #FFFFFF;\n",
              "    }\n",
              "  </style>\n",
              "\n",
              "      <script>\n",
              "        const buttonEl =\n",
              "          document.querySelector('#df-e4e66a0b-18e3-4735-ae12-81c2050a602d button.colab-df-convert');\n",
              "        buttonEl.style.display =\n",
              "          google.colab.kernel.accessAllowed ? 'block' : 'none';\n",
              "\n",
              "        async function convertToInteractive(key) {\n",
              "          const element = document.querySelector('#df-e4e66a0b-18e3-4735-ae12-81c2050a602d');\n",
              "          const dataTable =\n",
              "            await google.colab.kernel.invokeFunction('convertToInteractive',\n",
              "                                                     [key], {});\n",
              "          if (!dataTable) return;\n",
              "\n",
              "          const docLinkHtml = 'Like what you see? Visit the ' +\n",
              "            '<a target=\"_blank\" href=https://colab.research.google.com/notebooks/data_table.ipynb>data table notebook</a>'\n",
              "            + ' to learn more about interactive tables.';\n",
              "          element.innerHTML = '';\n",
              "          dataTable['output_type'] = 'display_data';\n",
              "          await google.colab.output.renderOutput(dataTable, element);\n",
              "          const docLink = document.createElement('div');\n",
              "          docLink.innerHTML = docLinkHtml;\n",
              "          element.appendChild(docLink);\n",
              "        }\n",
              "      </script>\n",
              "    </div>\n",
              "  </div>\n",
              "  "
            ]
          },
          "metadata": {},
          "execution_count": 69
        }
      ]
    },
    {
      "cell_type": "markdown",
      "source": [
        "***Вычисление количества продаж в октябре и ноябре 2013, 2014 и 2015***"
      ],
      "metadata": {
        "id": "aTFHhGksBM-W"
      }
    },
    {
      "cell_type": "code",
      "source": [
        "print(len(train[train['date_block_num'] == 9]))\n",
        "print(len(train[train['date_block_num'] == 10]))\n",
        "print(len(train[train['date_block_num'] == 9]) / len(train[train['date_block_num'] == 10]))\n",
        "print(len(train[train['date_block_num'] == 21]))\n",
        "print(len(train[train['date_block_num'] == 22]))\n",
        "print(len(train[train['date_block_num'] == 21]) / len(train[train['date_block_num'] == 22]))\n",
        "print(len(train[train['date_block_num'] == 33]))\n",
        "print(len(train[train['date_block_num'] == 34]))\n",
        "print(len(train[train['date_block_num'] == 33]) / len(train[train['date_block_num'] == 34]))\n"
      ],
      "metadata": {
        "colab": {
          "base_uri": "https://localhost:8080/"
        },
        "id": "ZaOw3HVyeVze",
        "outputId": "aa01c689-75e3-44a7-9599-3d8b29e09f22"
      },
      "execution_count": null,
      "outputs": [
        {
          "output_type": "stream",
          "name": "stdout",
          "text": [
            "73459\n",
            "76671\n",
            "0.958106715707373\n",
            "61029\n",
            "66895\n",
            "0.9123103370954481\n",
            "47191\n",
            "49941\n",
            "0.9449350233275264\n"
          ]
        }
      ]
    },
    {
      "cell_type": "markdown",
      "source": [
        "***Еще одна проверка количества проданных товаров по месяцам.***\n"
      ],
      "metadata": {
        "id": "2r8BoWL8xGa6"
      }
    },
    {
      "cell_type": "code",
      "source": [
        "plt.rcParams['figure.figsize'] = (19, 9)\n",
        "sns.countplot(data=train, x='date_block_num')\n",
        "plt.title('Количество проданных товаров по месяцам', fontsize = 30)\n",
        "plt.xlabel('0 - январь 2013, 34 - ноябрь 2015', fontsize = 15)\n",
        "plt.ylabel('Количество продаж', fontsize = 15)\n",
        "plt.show()"
      ],
      "metadata": {
        "colab": {
          "base_uri": "https://localhost:8080/",
          "height": 586
        },
        "id": "_RVC3Mr0tI41",
        "outputId": "fbd78312-cd37-4d54-f7b8-d83fe495492e"
      },
      "execution_count": null,
      "outputs": [
        {
          "output_type": "display_data",
          "data": {
            "text/plain": [
              "<Figure size 1368x648 with 1 Axes>"
            ],
            "image/png": "[encoded data removed]"
          },
          "metadata": {
            "needs_background": "light"
          }
        }
      ]
    },
    {
      "cell_type": "markdown",
      "source": [
        "# **2.Создание модели**\n",
        "\n",
        "---\n",
        "\n"
      ],
      "metadata": {
        "id": "AibMXDOfuhpf"
      }
    },
    {
      "cell_type": "markdown",
      "source": [
        "# 2.1. Линейные модели для ноября 2015 года"
      ],
      "metadata": {
        "id": "AoEPq2Q4raVu"
      }
    },
    {
      "cell_type": "markdown",
      "source": [
        "***Объединение в одну итоговую таблицу.***"
      ],
      "metadata": {
        "id": "4EUUajuEz2ht"
      }
    },
    {
      "cell_type": "code",
      "source": [
        "train['date_block_num'] = train['date_block_num'].replace({34: 'Nov2015'})"
      ],
      "metadata": {
        "id": "Utj9rVrENX7X"
      },
      "execution_count": null,
      "outputs": []
    },
    {
      "cell_type": "code",
      "source": [
        "train_pvt = train.pivot_table(index=['shop_id','item_id'],\n",
        "                 columns='date_block_num', fill_value = 0).reset_index()"
      ],
      "metadata": {
        "id": "VZLpEZhUErEQ"
      },
      "execution_count": null,
      "outputs": []
    },
    {
      "cell_type": "code",
      "source": [
        "train_pvt[('item_cnt_day', 'Nov2015')]"
      ],
      "metadata": {
        "colab": {
          "base_uri": "https://localhost:8080/"
        },
        "id": "NYiDJnA6Qo4H",
        "outputId": "1f7dcfcb-2473-460f-9d98-c6e5b48181b7"
      },
      "execution_count": null,
      "outputs": [
        {
          "output_type": "execute_result",
          "data": {
            "text/plain": [
              "0         0.0\n",
              "1         0.0\n",
              "2         1.0\n",
              "3         0.0\n",
              "4         0.0\n",
              "         ... \n",
              "329811    0.0\n",
              "329812    0.0\n",
              "329813    0.0\n",
              "329814    0.0\n",
              "329815    0.0\n",
              "Name: (item_cnt_day, Nov2015), Length: 329816, dtype: float64"
            ]
          },
          "metadata": {},
          "execution_count": 74
        }
      ]
    },
    {
      "cell_type": "code",
      "source": [
        "train_final = pd.merge(test, train_pvt, on = ['item_id', 'shop_id'], how = 'left')"
      ],
      "metadata": {
        "colab": {
          "base_uri": "https://localhost:8080/"
        },
        "id": "l-1QoAJcA51D",
        "outputId": "6b6e7974-e366-4d29-fc40-1c1a50652d1a"
      },
      "execution_count": null,
      "outputs": [
        {
          "output_type": "stream",
          "name": "stderr",
          "text": [
            "<ipython-input-75-19fca14a211b>:1: FutureWarning: merging between different levels is deprecated and will be removed in a future version. (1 levels on the left,2 on the right)\n",
            "  train_final = pd.merge(test, train_pvt, on = ['item_id', 'shop_id'], how = 'left')\n",
            "/usr/local/lib/python3.8/dist-packages/pandas/core/generic.py:4150: PerformanceWarning: dropping on a non-lexsorted multi-index without a level parameter may impact performance.\n",
            "  obj = obj._drop_axis(labels, axis, level=level, errors=errors)\n"
          ]
        }
      ]
    },
    {
      "cell_type": "code",
      "source": [
        "train_final = train_final.fillna(0)"
      ],
      "metadata": {
        "id": "fpofkcwhGNFy"
      },
      "execution_count": null,
      "outputs": []
    },
    {
      "cell_type": "code",
      "source": [
        "train_final"
      ],
      "metadata": {
        "id": "RyZo9IDnGhUk",
        "colab": {
          "base_uri": "https://localhost:8080/",
          "height": 539
        },
        "outputId": "91541e82-6c2d-4198-e35f-4e3d037a6fa2"
      },
      "execution_count": null,
      "outputs": [
        {
          "output_type": "execute_result",
          "data": {
            "text/plain": [
              "            ID  shop_id  item_id  (item_cnt_day, 0)  (item_cnt_day, 1)  \\\n",
              "0            0        5     5037                0.0                0.0   \n",
              "1            1        5     5320                0.0                0.0   \n",
              "2            2        5     5233                0.0                0.0   \n",
              "3            3        5     5232                0.0                0.0   \n",
              "4            4        5     5268                0.0                0.0   \n",
              "...        ...      ...      ...                ...                ...   \n",
              "214195  214195       45    18454                0.0                0.0   \n",
              "214196  214196       45    16188                0.0                0.0   \n",
              "214197  214197       45    15757                1.0                0.0   \n",
              "214198  214198       45    19648                0.0                0.0   \n",
              "214199  214199       45      969                0.0                0.0   \n",
              "\n",
              "        (item_cnt_day, 2)  (item_cnt_day, 3)  (item_cnt_day, 4)  \\\n",
              "0                     0.0                0.0                0.0   \n",
              "1                     0.0                0.0                0.0   \n",
              "2                     0.0                0.0                0.0   \n",
              "3                     0.0                0.0                0.0   \n",
              "4                     0.0                0.0                0.0   \n",
              "...                   ...                ...                ...   \n",
              "214195                0.0                0.0                0.0   \n",
              "214196                0.0                0.0                0.0   \n",
              "214197                0.0                0.0                0.0   \n",
              "214198                0.0                0.0                0.0   \n",
              "214199                0.0                0.0                0.0   \n",
              "\n",
              "        (item_cnt_day, 5)  (item_cnt_day, 6)  ...  (item_cnt_day, 25)  \\\n",
              "0                     0.0                0.0  ...                 0.0   \n",
              "1                     0.0                0.0  ...                 0.0   \n",
              "2                     0.0                0.0  ...                 0.0   \n",
              "3                     0.0                0.0  ...                 0.0   \n",
              "4                     0.0                0.0  ...                 0.0   \n",
              "...                   ...                ...  ...                 ...   \n",
              "214195                0.0                0.0  ...                 1.0   \n",
              "214196                0.0                0.0  ...                 0.0   \n",
              "214197                0.0                0.0  ...                 1.0   \n",
              "214198                0.0                0.0  ...                 0.0   \n",
              "214199                0.0                0.0  ...                 0.0   \n",
              "\n",
              "        (item_cnt_day, 26)  (item_cnt_day, 27)  (item_cnt_day, 28)  \\\n",
              "0                      0.0                 0.0                 1.0   \n",
              "1                      0.0                 0.0                 0.0   \n",
              "2                      0.0                 0.0                 1.5   \n",
              "3                      0.0                 0.0                 0.0   \n",
              "4                      0.0                 0.0                 0.0   \n",
              "...                    ...                 ...                 ...   \n",
              "214195                 1.0                 0.0                 0.0   \n",
              "214196                 0.0                 0.0                 0.0   \n",
              "214197                 0.0                 0.0                 0.0   \n",
              "214198                 0.0                 0.0                 0.0   \n",
              "214199                 0.0                 0.0                 0.0   \n",
              "\n",
              "        (item_cnt_day, 29)  (item_cnt_day, 30)  (item_cnt_day, 31)  \\\n",
              "0                      1.0                 1.0                 1.0   \n",
              "1                      0.0                 0.0                 0.0   \n",
              "2                      1.0                 0.0                 1.0   \n",
              "3                      0.0                 0.0                 1.0   \n",
              "4                      0.0                 0.0                 0.0   \n",
              "...                    ...                 ...                 ...   \n",
              "214195                 0.0                 0.0                 0.0   \n",
              "214196                 0.0                 0.0                 0.0   \n",
              "214197                 0.0                 0.0                 0.0   \n",
              "214198                 0.0                 0.0                 0.0   \n",
              "214199                 0.0                 0.0                 0.0   \n",
              "\n",
              "        (item_cnt_day, 32)  (item_cnt_day, 33)  (item_cnt_day, Nov2015)  \n",
              "0                      1.0                 0.0                      0.0  \n",
              "1                      0.0                 0.0                      0.0  \n",
              "2                      1.0                 1.0                      1.0  \n",
              "3                      0.0                 0.0                      0.0  \n",
              "4                      0.0                 0.0                      0.0  \n",
              "...                    ...                 ...                      ...  \n",
              "214195                 0.0                 1.0                      1.0  \n",
              "214196                 0.0                 0.0                      0.0  \n",
              "214197                 0.0                 0.0                      0.0  \n",
              "214198                 0.0                 0.0                      0.0  \n",
              "214199                 0.0                 0.0                      0.0  \n",
              "\n",
              "[214200 rows x 38 columns]"
            ],
            "text/html": [
              "\n",
              "  <div id=\"df-098857e0-518c-4e55-9622-4557fb1055a1\">\n",
              "    <div class=\"colab-df-container\">\n",
              "      <div>\n",
              "<style scoped>\n",
              "    .dataframe tbody tr th:only-of-type {\n",
              "        vertical-align: middle;\n",
              "    }\n",
              "\n",
              "    .dataframe tbody tr th {\n",
              "        vertical-align: top;\n",
              "    }\n",
              "\n",
              "    .dataframe thead th {\n",
              "        text-align: right;\n",
              "    }\n",
              "</style>\n",
              "<table border=\"1\" class=\"dataframe\">\n",
              "  <thead>\n",
              "    <tr style=\"text-align: right;\">\n",
              "      <th></th>\n",
              "      <th>ID</th>\n",
              "      <th>shop_id</th>\n",
              "      <th>item_id</th>\n",
              "      <th>(item_cnt_day, 0)</th>\n",
              "      <th>(item_cnt_day, 1)</th>\n",
              "      <th>(item_cnt_day, 2)</th>\n",
              "      <th>(item_cnt_day, 3)</th>\n",
              "      <th>(item_cnt_day, 4)</th>\n",
              "      <th>(item_cnt_day, 5)</th>\n",
              "      <th>(item_cnt_day, 6)</th>\n",
              "      <th>...</th>\n",
              "      <th>(item_cnt_day, 25)</th>\n",
              "      <th>(item_cnt_day, 26)</th>\n",
              "      <th>(item_cnt_day, 27)</th>\n",
              "      <th>(item_cnt_day, 28)</th>\n",
              "      <th>(item_cnt_day, 29)</th>\n",
              "      <th>(item_cnt_day, 30)</th>\n",
              "      <th>(item_cnt_day, 31)</th>\n",
              "      <th>(item_cnt_day, 32)</th>\n",
              "      <th>(item_cnt_day, 33)</th>\n",
              "      <th>(item_cnt_day, Nov2015)</th>\n",
              "    </tr>\n",
              "  </thead>\n",
              "  <tbody>\n",
              "    <tr>\n",
              "      <th>0</th>\n",
              "      <td>0</td>\n",
              "      <td>5</td>\n",
              "      <td>5037</td>\n",
              "      <td>0.0</td>\n",
              "      <td>0.0</td>\n",
              "      <td>0.0</td>\n",
              "      <td>0.0</td>\n",
              "      <td>0.0</td>\n",
              "      <td>0.0</td>\n",
              "      <td>0.0</td>\n",
              "      <td>...</td>\n",
              "      <td>0.0</td>\n",
              "      <td>0.0</td>\n",
              "      <td>0.0</td>\n",
              "      <td>1.0</td>\n",
              "      <td>1.0</td>\n",
              "      <td>1.0</td>\n",
              "      <td>1.0</td>\n",
              "      <td>1.0</td>\n",
              "      <td>0.0</td>\n",
              "      <td>0.0</td>\n",
              "    </tr>\n",
              "    <tr>\n",
              "      <th>1</th>\n",
              "      <td>1</td>\n",
              "      <td>5</td>\n",
              "      <td>5320</td>\n",
              "      <td>0.0</td>\n",
              "      <td>0.0</td>\n",
              "      <td>0.0</td>\n",
              "      <td>0.0</td>\n",
              "      <td>0.0</td>\n",
              "      <td>0.0</td>\n",
              "      <td>0.0</td>\n",
              "      <td>...</td>\n",
              "      <td>0.0</td>\n",
              "      <td>0.0</td>\n",
              "      <td>0.0</td>\n",
              "      <td>0.0</td>\n",
              "      <td>0.0</td>\n",
              "      <td>0.0</td>\n",
              "      <td>0.0</td>\n",
              "      <td>0.0</td>\n",
              "      <td>0.0</td>\n",
              "      <td>0.0</td>\n",
              "    </tr>\n",
              "    <tr>\n",
              "      <th>2</th>\n",
              "      <td>2</td>\n",
              "      <td>5</td>\n",
              "      <td>5233</td>\n",
              "      <td>0.0</td>\n",
              "      <td>0.0</td>\n",
              "      <td>0.0</td>\n",
              "      <td>0.0</td>\n",
              "      <td>0.0</td>\n",
              "      <td>0.0</td>\n",
              "      <td>0.0</td>\n",
              "      <td>...</td>\n",
              "      <td>0.0</td>\n",
              "      <td>0.0</td>\n",
              "      <td>0.0</td>\n",
              "      <td>1.5</td>\n",
              "      <td>1.0</td>\n",
              "      <td>0.0</td>\n",
              "      <td>1.0</td>\n",
              "      <td>1.0</td>\n",
              "      <td>1.0</td>\n",
              "      <td>1.0</td>\n",
              "    </tr>\n",
              "    <tr>\n",
              "      <th>3</th>\n",
              "      <td>3</td>\n",
              "      <td>5</td>\n",
              "      <td>5232</td>\n",
              "      <td>0.0</td>\n",
              "      <td>0.0</td>\n",
              "      <td>0.0</td>\n",
              "      <td>0.0</td>\n",
              "      <td>0.0</td>\n",
              "      <td>0.0</td>\n",
              "      <td>0.0</td>\n",
              "      <td>...</td>\n",
              "      <td>0.0</td>\n",
              "      <td>0.0</td>\n",
              "      <td>0.0</td>\n",
              "      <td>0.0</td>\n",
              "      <td>0.0</td>\n",
              "      <td>0.0</td>\n",
              "      <td>1.0</td>\n",
              "      <td>0.0</td>\n",
              "      <td>0.0</td>\n",
              "      <td>0.0</td>\n",
              "    </tr>\n",
              "    <tr>\n",
              "      <th>4</th>\n",
              "      <td>4</td>\n",
              "      <td>5</td>\n",
              "      <td>5268</td>\n",
              "      <td>0.0</td>\n",
              "      <td>0.0</td>\n",
              "      <td>0.0</td>\n",
              "      <td>0.0</td>\n",
              "      <td>0.0</td>\n",
              "      <td>0.0</td>\n",
              "      <td>0.0</td>\n",
              "      <td>...</td>\n",
              "      <td>0.0</td>\n",
              "      <td>0.0</td>\n",
              "      <td>0.0</td>\n",
              "      <td>0.0</td>\n",
              "      <td>0.0</td>\n",
              "      <td>0.0</td>\n",
              "      <td>0.0</td>\n",
              "      <td>0.0</td>\n",
              "      <td>0.0</td>\n",
              "      <td>0.0</td>\n",
              "    </tr>\n",
              "    <tr>\n",
              "      <th>...</th>\n",
              "      <td>...</td>\n",
              "      <td>...</td>\n",
              "      <td>...</td>\n",
              "      <td>...</td>\n",
              "      <td>...</td>\n",
              "      <td>...</td>\n",
              "      <td>...</td>\n",
              "      <td>...</td>\n",
              "      <td>...</td>\n",
              "      <td>...</td>\n",
              "      <td>...</td>\n",
              "      <td>...</td>\n",
              "      <td>...</td>\n",
              "      <td>...</td>\n",
              "      <td>...</td>\n",
              "      <td>...</td>\n",
              "      <td>...</td>\n",
              "      <td>...</td>\n",
              "      <td>...</td>\n",
              "      <td>...</td>\n",
              "      <td>...</td>\n",
              "    </tr>\n",
              "    <tr>\n",
              "      <th>214195</th>\n",
              "      <td>214195</td>\n",
              "      <td>45</td>\n",
              "      <td>18454</td>\n",
              "      <td>0.0</td>\n",
              "      <td>0.0</td>\n",
              "      <td>0.0</td>\n",
              "      <td>0.0</td>\n",
              "      <td>0.0</td>\n",
              "      <td>0.0</td>\n",
              "      <td>0.0</td>\n",
              "      <td>...</td>\n",
              "      <td>1.0</td>\n",
              "      <td>1.0</td>\n",
              "      <td>0.0</td>\n",
              "      <td>0.0</td>\n",
              "      <td>0.0</td>\n",
              "      <td>0.0</td>\n",
              "      <td>0.0</td>\n",
              "      <td>0.0</td>\n",
              "      <td>1.0</td>\n",
              "      <td>1.0</td>\n",
              "    </tr>\n",
              "    <tr>\n",
              "      <th>214196</th>\n",
              "      <td>214196</td>\n",
              "      <td>45</td>\n",
              "      <td>16188</td>\n",
              "      <td>0.0</td>\n",
              "      <td>0.0</td>\n",
              "      <td>0.0</td>\n",
              "      <td>0.0</td>\n",
              "      <td>0.0</td>\n",
              "      <td>0.0</td>\n",
              "      <td>0.0</td>\n",
              "      <td>...</td>\n",
              "      <td>0.0</td>\n",
              "      <td>0.0</td>\n",
              "      <td>0.0</td>\n",
              "      <td>0.0</td>\n",
              "      <td>0.0</td>\n",
              "      <td>0.0</td>\n",
              "      <td>0.0</td>\n",
              "      <td>0.0</td>\n",
              "      <td>0.0</td>\n",
              "      <td>0.0</td>\n",
              "    </tr>\n",
              "    <tr>\n",
              "      <th>214197</th>\n",
              "      <td>214197</td>\n",
              "      <td>45</td>\n",
              "      <td>15757</td>\n",
              "      <td>1.0</td>\n",
              "      <td>0.0</td>\n",
              "      <td>0.0</td>\n",
              "      <td>0.0</td>\n",
              "      <td>0.0</td>\n",
              "      <td>0.0</td>\n",
              "      <td>0.0</td>\n",
              "      <td>...</td>\n",
              "      <td>1.0</td>\n",
              "      <td>0.0</td>\n",
              "      <td>0.0</td>\n",
              "      <td>0.0</td>\n",
              "      <td>0.0</td>\n",
              "      <td>0.0</td>\n",
              "      <td>0.0</td>\n",
              "      <td>0.0</td>\n",
              "      <td>0.0</td>\n",
              "      <td>0.0</td>\n",
              "    </tr>\n",
              "    <tr>\n",
              "      <th>214198</th>\n",
              "      <td>214198</td>\n",
              "      <td>45</td>\n",
              "      <td>19648</td>\n",
              "      <td>0.0</td>\n",
              "      <td>0.0</td>\n",
              "      <td>0.0</td>\n",
              "      <td>0.0</td>\n",
              "      <td>0.0</td>\n",
              "      <td>0.0</td>\n",
              "      <td>0.0</td>\n",
              "      <td>...</td>\n",
              "      <td>0.0</td>\n",
              "      <td>0.0</td>\n",
              "      <td>0.0</td>\n",
              "      <td>0.0</td>\n",
              "      <td>0.0</td>\n",
              "      <td>0.0</td>\n",
              "      <td>0.0</td>\n",
              "      <td>0.0</td>\n",
              "      <td>0.0</td>\n",
              "      <td>0.0</td>\n",
              "    </tr>\n",
              "    <tr>\n",
              "      <th>214199</th>\n",
              "      <td>214199</td>\n",
              "      <td>45</td>\n",
              "      <td>969</td>\n",
              "      <td>0.0</td>\n",
              "      <td>0.0</td>\n",
              "      <td>0.0</td>\n",
              "      <td>0.0</td>\n",
              "      <td>0.0</td>\n",
              "      <td>0.0</td>\n",
              "      <td>0.0</td>\n",
              "      <td>...</td>\n",
              "      <td>0.0</td>\n",
              "      <td>0.0</td>\n",
              "      <td>0.0</td>\n",
              "      <td>0.0</td>\n",
              "      <td>0.0</td>\n",
              "      <td>0.0</td>\n",
              "      <td>0.0</td>\n",
              "      <td>0.0</td>\n",
              "      <td>0.0</td>\n",
              "      <td>0.0</td>\n",
              "    </tr>\n",
              "  </tbody>\n",
              "</table>\n",
              "<p>214200 rows × 38 columns</p>\n",
              "</div>\n",
              "      <button class=\"colab-df-convert\" onclick=\"convertToInteractive('df-098857e0-518c-4e55-9622-4557fb1055a1')\"\n",
              "              title=\"Convert this dataframe to an interactive table.\"\n",
              "              style=\"display:none;\">\n",
              "        \n",
              "  <svg xmlns=\"http://www.w3.org/2000/svg\" height=\"24px\"viewBox=\"0 0 24 24\"\n",
              "       width=\"24px\">\n",
              "    <path d=\"M0 0h24v24H0V0z\" fill=\"none\"/>\n",
              "    <path d=\"M18.56 5.44l.94 2.06.94-2.06 2.06-.94-2.06-.94-.94-2.06-.94 2.06-2.06.94zm-11 1L8.5 8.5l.94-2.06 2.06-.94-2.06-.94L8.5 2.5l-.94 2.06-2.06.94zm10 10l.94 2.06.94-2.06 2.06-.94-2.06-.94-.94-2.06-.94 2.06-2.06.94z\"/><path d=\"M17.41 7.96l-1.37-1.37c-.4-.4-.92-.59-1.43-.59-.52 0-1.04.2-1.43.59L10.3 9.45l-7.72 7.72c-.78.78-.78 2.05 0 2.83L4 21.41c.39.39.9.59 1.41.59.51 0 1.02-.2 1.41-.59l7.78-7.78 2.81-2.81c.8-.78.8-2.07 0-2.86zM5.41 20L4 18.59l7.72-7.72 1.47 1.35L5.41 20z\"/>\n",
              "  </svg>\n",
              "      </button>\n",
              "      \n",
              "  <style>\n",
              "    .colab-df-container {\n",
              "      display:flex;\n",
              "      flex-wrap:wrap;\n",
              "      gap: 12px;\n",
              "    }\n",
              "\n",
              "    .colab-df-convert {\n",
              "      background-color: #E8F0FE;\n",
              "      border: none;\n",
              "      border-radius: 50%;\n",
              "      cursor: pointer;\n",
              "      display: none;\n",
              "      fill: #1967D2;\n",
              "      height: 32px;\n",
              "      padding: 0 0 0 0;\n",
              "      width: 32px;\n",
              "    }\n",
              "\n",
              "    .colab-df-convert:hover {\n",
              "      background-color: #E2EBFA;\n",
              "      box-shadow: 0px 1px 2px rgba(60, 64, 67, 0.3), 0px 1px 3px 1px rgba(60, 64, 67, 0.15);\n",
              "      fill: #174EA6;\n",
              "    }\n",
              "\n",
              "    [theme=dark] .colab-df-convert {\n",
              "      background-color: #3B4455;\n",
              "      fill: #D2E3FC;\n",
              "    }\n",
              "\n",
              "    [theme=dark] .colab-df-convert:hover {\n",
              "      background-color: #434B5C;\n",
              "      box-shadow: 0px 1px 3px 1px rgba(0, 0, 0, 0.15);\n",
              "      filter: drop-shadow(0px 1px 2px rgba(0, 0, 0, 0.3));\n",
              "      fill: #FFFFFF;\n",
              "    }\n",
              "  </style>\n",
              "\n",
              "      <script>\n",
              "        const buttonEl =\n",
              "          document.querySelector('#df-098857e0-518c-4e55-9622-4557fb1055a1 button.colab-df-convert');\n",
              "        buttonEl.style.display =\n",
              "          google.colab.kernel.accessAllowed ? 'block' : 'none';\n",
              "\n",
              "        async function convertToInteractive(key) {\n",
              "          const element = document.querySelector('#df-098857e0-518c-4e55-9622-4557fb1055a1');\n",
              "          const dataTable =\n",
              "            await google.colab.kernel.invokeFunction('convertToInteractive',\n",
              "                                                     [key], {});\n",
              "          if (!dataTable) return;\n",
              "\n",
              "          const docLinkHtml = 'Like what you see? Visit the ' +\n",
              "            '<a target=\"_blank\" href=https://colab.research.google.com/notebooks/data_table.ipynb>data table notebook</a>'\n",
              "            + ' to learn more about interactive tables.';\n",
              "          element.innerHTML = '';\n",
              "          dataTable['output_type'] = 'display_data';\n",
              "          await google.colab.output.renderOutput(dataTable, element);\n",
              "          const docLink = document.createElement('div');\n",
              "          docLink.innerHTML = docLinkHtml;\n",
              "          element.appendChild(docLink);\n",
              "        }\n",
              "      </script>\n",
              "    </div>\n",
              "  </div>\n",
              "  "
            ]
          },
          "metadata": {},
          "execution_count": 77
        }
      ]
    },
    {
      "cell_type": "code",
      "source": [
        "from sklearn.model_selection import train_test_split\n",
        "from sklearn.metrics import mean_squared_error, max_error\n",
        "\n",
        "X = train_final.drop(columns=[('item_cnt_day', 'Nov2015')])\n",
        "y = train_final[('item_cnt_day', 'Nov2015')]\n",
        "\n",
        "X_train, X_valid, y_train, y_valid = train_test_split(X, y, test_size=0.2,\n",
        "                                                      random_state=13)"
      ],
      "metadata": {
        "id": "IHCDIDR_aLCO"
      },
      "execution_count": null,
      "outputs": []
    },
    {
      "cell_type": "code",
      "source": [
        "from sklearn.linear_model import LinearRegression\n",
        "\n",
        "\n",
        "model_lr = LinearRegression()\n",
        "model_lr.fit(X_train, y_train)\n",
        "y_pred_lr = model_lr.predict(X_valid)"
      ],
      "metadata": {
        "id": "wmTGYXmxaP_X",
        "colab": {
          "base_uri": "https://localhost:8080/"
        },
        "outputId": "9ef9e41c-bf82-4d3f-937b-f6ae2aaa9d92"
      },
      "execution_count": null,
      "outputs": [
        {
          "output_type": "stream",
          "name": "stderr",
          "text": [
            "/usr/local/lib/python3.8/dist-packages/sklearn/utils/validation.py:1688: FutureWarning: Feature names only support names that are all strings. Got feature names with dtypes: ['str', 'tuple']. An error will be raised in 1.2.\n",
            "  warnings.warn(\n",
            "/usr/local/lib/python3.8/dist-packages/sklearn/utils/validation.py:1688: FutureWarning: Feature names only support names that are all strings. Got feature names with dtypes: ['str', 'tuple']. An error will be raised in 1.2.\n",
            "  warnings.warn(\n"
          ]
        }
      ]
    },
    {
      "cell_type": "code",
      "source": [
        "print(X.shape,\n",
        "y.shape,\n",
        "X_train.shape,\n",
        "X_valid.shape,\n",
        "y_train.shape,\n",
        "y_valid.shape)"
      ],
      "metadata": {
        "colab": {
          "base_uri": "https://localhost:8080/"
        },
        "id": "woeoeGW5bhGz",
        "outputId": "22068fa5-8784-468d-ca28-ce2308e9c789"
      },
      "execution_count": null,
      "outputs": [
        {
          "output_type": "stream",
          "name": "stdout",
          "text": [
            "(214200, 37) (214200,) (171360, 37) (42840, 37) (171360,) (42840,)\n"
          ]
        }
      ]
    },
    {
      "cell_type": "code",
      "source": [
        "print('MSE for LR:', mean_squared_error(y_valid, y_pred_lr))\n",
        "print('MAX ERROR for LR', max_error(y_valid, y_pred_lr))"
      ],
      "metadata": {
        "colab": {
          "base_uri": "https://localhost:8080/"
        },
        "id": "RrlTK8XnbtRb",
        "outputId": "57aeca27-32b8-45fc-8722-837950bb1d51"
      },
      "execution_count": null,
      "outputs": [
        {
          "output_type": "stream",
          "name": "stdout",
          "text": [
            "MAE for LR: 0.004827474577825245\n",
            "MAX ERROR for LR 2.9693426640587894\n"
          ]
        }
      ]
    },
    {
      "cell_type": "code",
      "source": [
        "from sklearn.neighbors import KNeighborsRegressor\n",
        "\n",
        "\n",
        "model_knn = KNeighborsRegressor(n_neighbors = 3)\n",
        "model_knn.fit(X_train, y_train)\n",
        "y_pred_knn = model_knn.predict(X_valid)"
      ],
      "metadata": {
        "id": "aHN0HK5Vcv6T",
        "colab": {
          "base_uri": "https://localhost:8080/"
        },
        "outputId": "c4e5c68a-8c56-4809-94bf-15a1c2feda39"
      },
      "execution_count": null,
      "outputs": [
        {
          "output_type": "stream",
          "name": "stderr",
          "text": [
            "/usr/local/lib/python3.8/dist-packages/sklearn/utils/validation.py:1688: FutureWarning: Feature names only support names that are all strings. Got feature names with dtypes: ['str', 'tuple']. An error will be raised in 1.2.\n",
            "  warnings.warn(\n",
            "/usr/local/lib/python3.8/dist-packages/sklearn/utils/validation.py:1688: FutureWarning: Feature names only support names that are all strings. Got feature names with dtypes: ['str', 'tuple']. An error will be raised in 1.2.\n",
            "  warnings.warn(\n"
          ]
        }
      ]
    },
    {
      "cell_type": "code",
      "source": [
        "print('MSE for KNN:', mean_squared_error(y_valid, y_pred_knn))\n",
        "print('MAX ERROR for KNN', max_error(y_valid, y_pred_knn))"
      ],
      "metadata": {
        "colab": {
          "base_uri": "https://localhost:8080/"
        },
        "id": "JaD3wtyYc4Ek",
        "outputId": "249e530f-b31c-4c03-ee8f-867d2f10e17c"
      },
      "execution_count": null,
      "outputs": [
        {
          "output_type": "stream",
          "name": "stdout",
          "text": [
            "MAE for KNN: 0.14602503808987308\n",
            "MAX ERROR for KNN 13.42962962962963\n"
          ]
        }
      ]
    },
    {
      "cell_type": "markdown",
      "source": [
        "# 2.2. Модель бустинга для ноября 2015 года"
      ],
      "metadata": {
        "id": "QM4h_EFwrrh9"
      }
    },
    {
      "cell_type": "markdown",
      "source": [
        "***Установка CatBoost***\n"
      ],
      "metadata": {
        "id": "iaeRHbMsqzqN"
      }
    },
    {
      "cell_type": "code",
      "source": [
        "!pip install catboost"
      ],
      "metadata": {
        "colab": {
          "base_uri": "https://localhost:8080/"
        },
        "id": "zQd4OOHvrVr9",
        "outputId": "47e591fe-ed1a-4508-ccaf-b335e1223389"
      },
      "execution_count": null,
      "outputs": [
        {
          "output_type": "stream",
          "name": "stdout",
          "text": [
            "Looking in indexes: https://pypi.org/simple, https://us-python.pkg.dev/colab-wheels/public/simple/\n",
            "Collecting catboost\n",
            "  Downloading catboost-1.1.1-cp38-none-manylinux1_x86_64.whl (76.6 MB)\n",
            "\u001b[2K     \u001b[90m━━━━━━━━━━━━━━━━━━━━━━━━━━━━━━━━━━━━━━━━\u001b[0m \u001b[32m76.6/76.6 MB\u001b[0m \u001b[31m6.3 MB/s\u001b[0m eta \u001b[36m0:00:00\u001b[0m\n",
            "\u001b[?25hRequirement already satisfied: pandas>=0.24.0 in /usr/local/lib/python3.8/dist-packages (from catboost) (1.3.5)\n",
            "Requirement already satisfied: graphviz in /usr/local/lib/python3.8/dist-packages (from catboost) (0.10.1)\n",
            "Requirement already satisfied: six in /usr/local/lib/python3.8/dist-packages (from catboost) (1.15.0)\n",
            "Requirement already satisfied: scipy in /usr/local/lib/python3.8/dist-packages (from catboost) (1.7.3)\n",
            "Requirement already satisfied: numpy>=1.16.0 in /usr/local/lib/python3.8/dist-packages (from catboost) (1.21.6)\n",
            "Requirement already satisfied: plotly in /usr/local/lib/python3.8/dist-packages (from catboost) (5.5.0)\n",
            "Requirement already satisfied: matplotlib in /usr/local/lib/python3.8/dist-packages (from catboost) (3.2.2)\n",
            "Requirement already satisfied: python-dateutil>=2.7.3 in /usr/local/lib/python3.8/dist-packages (from pandas>=0.24.0->catboost) (2.8.2)\n",
            "Requirement already satisfied: pytz>=2017.3 in /usr/local/lib/python3.8/dist-packages (from pandas>=0.24.0->catboost) (2022.7.1)\n",
            "Requirement already satisfied: cycler>=0.10 in /usr/local/lib/python3.8/dist-packages (from matplotlib->catboost) (0.11.0)\n",
            "Requirement already satisfied: kiwisolver>=1.0.1 in /usr/local/lib/python3.8/dist-packages (from matplotlib->catboost) (1.4.4)\n",
            "Requirement already satisfied: pyparsing!=2.0.4,!=2.1.2,!=2.1.6,>=2.0.1 in /usr/local/lib/python3.8/dist-packages (from matplotlib->catboost) (3.0.9)\n",
            "Requirement already satisfied: tenacity>=6.2.0 in /usr/local/lib/python3.8/dist-packages (from plotly->catboost) (8.2.1)\n",
            "Installing collected packages: catboost\n",
            "Successfully installed catboost-1.1.1\n"
          ]
        }
      ]
    },
    {
      "cell_type": "code",
      "source": [
        "import catboost as cb\n",
        "import lightgbm as lgb"
      ],
      "metadata": {
        "id": "wT0dwc8bsn2J"
      },
      "execution_count": null,
      "outputs": []
    },
    {
      "cell_type": "code",
      "source": [
        "CB_model = cb.CatBoostRegressor()\n",
        "LGB_model = lgb.LGBMRegressor()\n",
        "\n",
        "CB_model.fit(X_train, y_train)\n",
        "LGB_model.fit(X_train, y_train)"
      ],
      "metadata": {
        "id": "8WQqwrqJs00V",
        "colab": {
          "base_uri": "https://localhost:8080/"
        },
        "outputId": "1f828f20-edde-497f-ab2e-aa61edce7123"
      },
      "execution_count": null,
      "outputs": [
        {
          "output_type": "stream",
          "name": "stdout",
          "text": [
            "Learning rate set to 0.092286\n",
            "0:\tlearn: 0.3417191\ttotal: 171ms\tremaining: 2m 50s\n",
            "1:\tlearn: 0.3130647\ttotal: 281ms\tremaining: 2m 20s\n",
            "2:\tlearn: 0.2873959\ttotal: 384ms\tremaining: 2m 7s\n",
            "3:\tlearn: 0.2642261\ttotal: 516ms\tremaining: 2m 8s\n",
            "4:\tlearn: 0.2433571\ttotal: 594ms\tremaining: 1m 58s\n",
            "5:\tlearn: 0.2244381\ttotal: 664ms\tremaining: 1m 49s\n",
            "6:\tlearn: 0.2073290\ttotal: 741ms\tremaining: 1m 45s\n",
            "7:\tlearn: 0.1921040\ttotal: 824ms\tremaining: 1m 42s\n",
            "8:\tlearn: 0.1786484\ttotal: 905ms\tremaining: 1m 39s\n",
            "9:\tlearn: 0.1664058\ttotal: 1s\tremaining: 1m 39s\n",
            "10:\tlearn: 0.1554662\ttotal: 1.11s\tremaining: 1m 40s\n",
            "11:\tlearn: 0.1458219\ttotal: 1.24s\tremaining: 1m 41s\n",
            "12:\tlearn: 0.1373374\ttotal: 1.31s\tremaining: 1m 39s\n",
            "13:\tlearn: 0.1298185\ttotal: 1.4s\tremaining: 1m 38s\n",
            "14:\tlearn: 0.1231451\ttotal: 1.47s\tremaining: 1m 36s\n",
            "15:\tlearn: 0.1173756\ttotal: 1.53s\tremaining: 1m 34s\n",
            "16:\tlearn: 0.1122929\ttotal: 1.62s\tremaining: 1m 33s\n",
            "17:\tlearn: 0.1078985\ttotal: 1.72s\tremaining: 1m 33s\n",
            "18:\tlearn: 0.1041124\ttotal: 1.81s\tremaining: 1m 33s\n",
            "19:\tlearn: 0.1007945\ttotal: 1.93s\tremaining: 1m 34s\n",
            "20:\tlearn: 0.0979418\ttotal: 2.04s\tremaining: 1m 35s\n",
            "21:\tlearn: 0.0955381\ttotal: 2.16s\tremaining: 1m 35s\n",
            "22:\tlearn: 0.0934208\ttotal: 2.26s\tremaining: 1m 36s\n",
            "23:\tlearn: 0.0916083\ttotal: 2.38s\tremaining: 1m 36s\n",
            "24:\tlearn: 0.0900632\ttotal: 2.52s\tremaining: 1m 38s\n",
            "25:\tlearn: 0.0887571\ttotal: 2.63s\tremaining: 1m 38s\n",
            "26:\tlearn: 0.0876295\ttotal: 2.73s\tremaining: 1m 38s\n",
            "27:\tlearn: 0.0866846\ttotal: 2.83s\tremaining: 1m 38s\n",
            "28:\tlearn: 0.0858616\ttotal: 2.97s\tremaining: 1m 39s\n",
            "29:\tlearn: 0.0850780\ttotal: 3.12s\tremaining: 1m 40s\n",
            "30:\tlearn: 0.0844676\ttotal: 3.27s\tremaining: 1m 42s\n",
            "31:\tlearn: 0.0839476\ttotal: 3.44s\tremaining: 1m 44s\n",
            "32:\tlearn: 0.0834378\ttotal: 3.59s\tremaining: 1m 45s\n",
            "33:\tlearn: 0.0830138\ttotal: 3.77s\tremaining: 1m 47s\n",
            "34:\tlearn: 0.0826962\ttotal: 3.87s\tremaining: 1m 46s\n",
            "35:\tlearn: 0.0824102\ttotal: 3.97s\tremaining: 1m 46s\n",
            "36:\tlearn: 0.0821731\ttotal: 4.08s\tremaining: 1m 46s\n",
            "37:\tlearn: 0.0819794\ttotal: 4.21s\tremaining: 1m 46s\n",
            "38:\tlearn: 0.0818031\ttotal: 4.34s\tremaining: 1m 46s\n",
            "39:\tlearn: 0.0817525\ttotal: 4.45s\tremaining: 1m 46s\n",
            "40:\tlearn: 0.0815904\ttotal: 4.55s\tremaining: 1m 46s\n",
            "41:\tlearn: 0.0814631\ttotal: 4.67s\tremaining: 1m 46s\n",
            "42:\tlearn: 0.0813276\ttotal: 4.9s\tremaining: 1m 48s\n",
            "43:\tlearn: 0.0812900\ttotal: 5.07s\tremaining: 1m 50s\n",
            "44:\tlearn: 0.0812545\ttotal: 5.29s\tremaining: 1m 52s\n",
            "45:\tlearn: 0.0812205\ttotal: 5.5s\tremaining: 1m 54s\n",
            "46:\tlearn: 0.0810400\ttotal: 5.64s\tremaining: 1m 54s\n",
            "47:\tlearn: 0.0810114\ttotal: 5.71s\tremaining: 1m 53s\n",
            "48:\tlearn: 0.0809836\ttotal: 5.84s\tremaining: 1m 53s\n",
            "49:\tlearn: 0.0809562\ttotal: 5.98s\tremaining: 1m 53s\n",
            "50:\tlearn: 0.0808711\ttotal: 6.1s\tremaining: 1m 53s\n",
            "51:\tlearn: 0.0808466\ttotal: 6.19s\tremaining: 1m 52s\n",
            "52:\tlearn: 0.0808226\ttotal: 6.29s\tremaining: 1m 52s\n",
            "53:\tlearn: 0.0807999\ttotal: 6.42s\tremaining: 1m 52s\n",
            "54:\tlearn: 0.0807783\ttotal: 6.55s\tremaining: 1m 52s\n",
            "55:\tlearn: 0.0807590\ttotal: 6.64s\tremaining: 1m 51s\n",
            "56:\tlearn: 0.0807396\ttotal: 6.71s\tremaining: 1m 51s\n",
            "57:\tlearn: 0.0807199\ttotal: 6.78s\tremaining: 1m 50s\n",
            "58:\tlearn: 0.0807031\ttotal: 6.81s\tremaining: 1m 48s\n",
            "59:\tlearn: 0.0806862\ttotal: 6.85s\tremaining: 1m 47s\n",
            "60:\tlearn: 0.0806193\ttotal: 6.94s\tremaining: 1m 46s\n",
            "61:\tlearn: 0.0806042\ttotal: 7.02s\tremaining: 1m 46s\n",
            "62:\tlearn: 0.0805898\ttotal: 7.13s\tremaining: 1m 46s\n",
            "63:\tlearn: 0.0805756\ttotal: 7.18s\tremaining: 1m 45s\n",
            "64:\tlearn: 0.0805624\ttotal: 7.27s\tremaining: 1m 44s\n",
            "65:\tlearn: 0.0805494\ttotal: 7.32s\tremaining: 1m 43s\n",
            "66:\tlearn: 0.0804835\ttotal: 7.38s\tremaining: 1m 42s\n",
            "67:\tlearn: 0.0804310\ttotal: 7.5s\tremaining: 1m 42s\n",
            "68:\tlearn: 0.0804203\ttotal: 7.57s\tremaining: 1m 42s\n",
            "69:\tlearn: 0.0803759\ttotal: 7.69s\tremaining: 1m 42s\n",
            "70:\tlearn: 0.0803660\ttotal: 7.75s\tremaining: 1m 41s\n",
            "71:\tlearn: 0.0802743\ttotal: 7.8s\tremaining: 1m 40s\n",
            "72:\tlearn: 0.0802662\ttotal: 7.85s\tremaining: 1m 39s\n",
            "73:\tlearn: 0.0802386\ttotal: 7.92s\tremaining: 1m 39s\n",
            "74:\tlearn: 0.0802313\ttotal: 7.97s\tremaining: 1m 38s\n",
            "75:\tlearn: 0.0802239\ttotal: 8.02s\tremaining: 1m 37s\n",
            "76:\tlearn: 0.0801758\ttotal: 8.09s\tremaining: 1m 36s\n",
            "77:\tlearn: 0.0801689\ttotal: 8.16s\tremaining: 1m 36s\n",
            "78:\tlearn: 0.0801624\ttotal: 8.26s\tremaining: 1m 36s\n",
            "79:\tlearn: 0.0800866\ttotal: 8.34s\tremaining: 1m 35s\n",
            "80:\tlearn: 0.0800377\ttotal: 8.46s\tremaining: 1m 35s\n",
            "81:\tlearn: 0.0800322\ttotal: 8.53s\tremaining: 1m 35s\n",
            "82:\tlearn: 0.0799718\ttotal: 8.6s\tremaining: 1m 34s\n",
            "83:\tlearn: 0.0799667\ttotal: 8.66s\tremaining: 1m 34s\n",
            "84:\tlearn: 0.0799623\ttotal: 8.72s\tremaining: 1m 33s\n",
            "85:\tlearn: 0.0799448\ttotal: 8.8s\tremaining: 1m 33s\n",
            "86:\tlearn: 0.0799405\ttotal: 8.87s\tremaining: 1m 33s\n",
            "87:\tlearn: 0.0799339\ttotal: 8.94s\tremaining: 1m 32s\n",
            "88:\tlearn: 0.0799302\ttotal: 9.01s\tremaining: 1m 32s\n",
            "89:\tlearn: 0.0799222\ttotal: 9.09s\tremaining: 1m 31s\n",
            "90:\tlearn: 0.0799008\ttotal: 9.17s\tremaining: 1m 31s\n",
            "91:\tlearn: 0.0798975\ttotal: 9.24s\tremaining: 1m 31s\n",
            "92:\tlearn: 0.0798732\ttotal: 9.34s\tremaining: 1m 31s\n",
            "93:\tlearn: 0.0798704\ttotal: 9.42s\tremaining: 1m 30s\n",
            "94:\tlearn: 0.0797759\ttotal: 9.51s\tremaining: 1m 30s\n",
            "95:\tlearn: 0.0797600\ttotal: 9.6s\tremaining: 1m 30s\n",
            "96:\tlearn: 0.0797569\ttotal: 9.68s\tremaining: 1m 30s\n",
            "97:\tlearn: 0.0797535\ttotal: 9.74s\tremaining: 1m 29s\n",
            "98:\tlearn: 0.0797272\ttotal: 9.84s\tremaining: 1m 29s\n",
            "99:\tlearn: 0.0796713\ttotal: 9.97s\tremaining: 1m 29s\n",
            "100:\tlearn: 0.0796691\ttotal: 10s\tremaining: 1m 29s\n",
            "101:\tlearn: 0.0794924\ttotal: 10.1s\tremaining: 1m 28s\n",
            "102:\tlearn: 0.0794900\ttotal: 10.2s\tremaining: 1m 28s\n",
            "103:\tlearn: 0.0794564\ttotal: 10.3s\tremaining: 1m 28s\n",
            "104:\tlearn: 0.0794023\ttotal: 10.4s\tremaining: 1m 28s\n",
            "105:\tlearn: 0.0793990\ttotal: 10.5s\tremaining: 1m 28s\n",
            "106:\tlearn: 0.0793934\ttotal: 10.6s\tremaining: 1m 28s\n",
            "107:\tlearn: 0.0793916\ttotal: 10.7s\tremaining: 1m 28s\n",
            "108:\tlearn: 0.0793653\ttotal: 10.8s\tremaining: 1m 28s\n",
            "109:\tlearn: 0.0793237\ttotal: 10.9s\tremaining: 1m 28s\n",
            "110:\tlearn: 0.0792977\ttotal: 11s\tremaining: 1m 27s\n",
            "111:\tlearn: 0.0792930\ttotal: 11.1s\tremaining: 1m 27s\n",
            "112:\tlearn: 0.0792431\ttotal: 11.2s\tremaining: 1m 27s\n",
            "113:\tlearn: 0.0792400\ttotal: 11.3s\tremaining: 1m 27s\n",
            "114:\tlearn: 0.0789674\ttotal: 11.4s\tremaining: 1m 27s\n",
            "115:\tlearn: 0.0789632\ttotal: 11.5s\tremaining: 1m 27s\n",
            "116:\tlearn: 0.0789343\ttotal: 11.5s\tremaining: 1m 27s\n",
            "117:\tlearn: 0.0789281\ttotal: 11.7s\tremaining: 1m 27s\n",
            "118:\tlearn: 0.0789262\ttotal: 11.7s\tremaining: 1m 26s\n",
            "119:\tlearn: 0.0788781\ttotal: 11.8s\tremaining: 1m 26s\n",
            "120:\tlearn: 0.0788549\ttotal: 11.9s\tremaining: 1m 26s\n",
            "121:\tlearn: 0.0788512\ttotal: 12s\tremaining: 1m 26s\n",
            "122:\tlearn: 0.0788447\ttotal: 12.2s\tremaining: 1m 26s\n",
            "123:\tlearn: 0.0788428\ttotal: 12.2s\tremaining: 1m 26s\n",
            "124:\tlearn: 0.0788323\ttotal: 12.3s\tremaining: 1m 26s\n",
            "125:\tlearn: 0.0788315\ttotal: 12.4s\tremaining: 1m 25s\n",
            "126:\tlearn: 0.0788251\ttotal: 12.5s\tremaining: 1m 25s\n",
            "127:\tlearn: 0.0788007\ttotal: 12.6s\tremaining: 1m 25s\n",
            "128:\tlearn: 0.0787989\ttotal: 12.7s\tremaining: 1m 25s\n",
            "129:\tlearn: 0.0787968\ttotal: 12.8s\tremaining: 1m 25s\n",
            "130:\tlearn: 0.0787756\ttotal: 12.9s\tremaining: 1m 25s\n",
            "131:\tlearn: 0.0787732\ttotal: 13s\tremaining: 1m 25s\n",
            "132:\tlearn: 0.0787708\ttotal: 13.1s\tremaining: 1m 25s\n",
            "133:\tlearn: 0.0787688\ttotal: 13.1s\tremaining: 1m 24s\n",
            "134:\tlearn: 0.0787443\ttotal: 13.2s\tremaining: 1m 24s\n",
            "135:\tlearn: 0.0787409\ttotal: 13.4s\tremaining: 1m 24s\n",
            "136:\tlearn: 0.0787384\ttotal: 13.5s\tremaining: 1m 24s\n",
            "137:\tlearn: 0.0787008\ttotal: 13.6s\tremaining: 1m 24s\n",
            "138:\tlearn: 0.0786993\ttotal: 13.7s\tremaining: 1m 24s\n",
            "139:\tlearn: 0.0784924\ttotal: 13.8s\tremaining: 1m 24s\n",
            "140:\tlearn: 0.0784904\ttotal: 13.9s\tremaining: 1m 24s\n",
            "141:\tlearn: 0.0784891\ttotal: 13.9s\tremaining: 1m 24s\n",
            "142:\tlearn: 0.0784844\ttotal: 14s\tremaining: 1m 24s\n",
            "143:\tlearn: 0.0784658\ttotal: 14.1s\tremaining: 1m 23s\n",
            "144:\tlearn: 0.0784477\ttotal: 14.2s\tremaining: 1m 23s\n",
            "145:\tlearn: 0.0782127\ttotal: 14.3s\tremaining: 1m 23s\n",
            "146:\tlearn: 0.0782104\ttotal: 14.4s\tremaining: 1m 23s\n",
            "147:\tlearn: 0.0782090\ttotal: 14.4s\tremaining: 1m 23s\n",
            "148:\tlearn: 0.0782069\ttotal: 14.5s\tremaining: 1m 22s\n",
            "149:\tlearn: 0.0781868\ttotal: 14.6s\tremaining: 1m 22s\n",
            "150:\tlearn: 0.0780160\ttotal: 14.7s\tremaining: 1m 22s\n",
            "151:\tlearn: 0.0779942\ttotal: 14.8s\tremaining: 1m 22s\n",
            "152:\tlearn: 0.0779924\ttotal: 14.9s\tremaining: 1m 22s\n",
            "153:\tlearn: 0.0779879\ttotal: 14.9s\tremaining: 1m 22s\n",
            "154:\tlearn: 0.0779861\ttotal: 15s\tremaining: 1m 21s\n",
            "155:\tlearn: 0.0779807\ttotal: 15.1s\tremaining: 1m 21s\n",
            "156:\tlearn: 0.0779560\ttotal: 15.2s\tremaining: 1m 21s\n",
            "157:\tlearn: 0.0779540\ttotal: 15.2s\tremaining: 1m 21s\n",
            "158:\tlearn: 0.0777490\ttotal: 15.3s\tremaining: 1m 21s\n",
            "159:\tlearn: 0.0777449\ttotal: 15.4s\tremaining: 1m 20s\n",
            "160:\tlearn: 0.0777432\ttotal: 15.5s\tremaining: 1m 20s\n",
            "161:\tlearn: 0.0777407\ttotal: 15.6s\tremaining: 1m 20s\n",
            "162:\tlearn: 0.0777352\ttotal: 15.8s\tremaining: 1m 20s\n",
            "163:\tlearn: 0.0775451\ttotal: 15.9s\tremaining: 1m 20s\n",
            "164:\tlearn: 0.0775434\ttotal: 15.9s\tremaining: 1m 20s\n",
            "165:\tlearn: 0.0775395\ttotal: 16s\tremaining: 1m 20s\n",
            "166:\tlearn: 0.0775005\ttotal: 16.2s\tremaining: 1m 20s\n",
            "167:\tlearn: 0.0774955\ttotal: 16.3s\tremaining: 1m 20s\n",
            "168:\tlearn: 0.0774890\ttotal: 16.4s\tremaining: 1m 20s\n",
            "169:\tlearn: 0.0774830\ttotal: 16.5s\tremaining: 1m 20s\n",
            "170:\tlearn: 0.0774735\ttotal: 16.6s\tremaining: 1m 20s\n",
            "171:\tlearn: 0.0774720\ttotal: 16.7s\tremaining: 1m 20s\n",
            "172:\tlearn: 0.0774676\ttotal: 16.8s\tremaining: 1m 20s\n",
            "173:\tlearn: 0.0774618\ttotal: 16.9s\tremaining: 1m 20s\n",
            "174:\tlearn: 0.0774604\ttotal: 17.1s\tremaining: 1m 20s\n",
            "175:\tlearn: 0.0774588\ttotal: 17.2s\tremaining: 1m 20s\n",
            "176:\tlearn: 0.0774566\ttotal: 17.3s\tremaining: 1m 20s\n",
            "177:\tlearn: 0.0774354\ttotal: 17.5s\tremaining: 1m 20s\n",
            "178:\tlearn: 0.0774322\ttotal: 17.6s\tremaining: 1m 20s\n",
            "179:\tlearn: 0.0774310\ttotal: 17.8s\tremaining: 1m 20s\n",
            "180:\tlearn: 0.0774290\ttotal: 17.9s\tremaining: 1m 20s\n",
            "181:\tlearn: 0.0774271\ttotal: 18s\tremaining: 1m 20s\n",
            "182:\tlearn: 0.0772507\ttotal: 18.1s\tremaining: 1m 20s\n",
            "183:\tlearn: 0.0772488\ttotal: 18.2s\tremaining: 1m 20s\n",
            "184:\tlearn: 0.0772473\ttotal: 18.3s\tremaining: 1m 20s\n",
            "185:\tlearn: 0.0772459\ttotal: 18.4s\tremaining: 1m 20s\n",
            "186:\tlearn: 0.0772442\ttotal: 18.6s\tremaining: 1m 20s\n",
            "187:\tlearn: 0.0772426\ttotal: 18.6s\tremaining: 1m 20s\n",
            "188:\tlearn: 0.0772396\ttotal: 18.7s\tremaining: 1m 20s\n",
            "189:\tlearn: 0.0772369\ttotal: 18.8s\tremaining: 1m 20s\n",
            "190:\tlearn: 0.0772331\ttotal: 19s\tremaining: 1m 20s\n",
            "191:\tlearn: 0.0772282\ttotal: 19.2s\tremaining: 1m 20s\n",
            "192:\tlearn: 0.0772266\ttotal: 19.4s\tremaining: 1m 21s\n",
            "193:\tlearn: 0.0772256\ttotal: 19.6s\tremaining: 1m 21s\n",
            "194:\tlearn: 0.0772240\ttotal: 19.7s\tremaining: 1m 21s\n",
            "195:\tlearn: 0.0772140\ttotal: 19.9s\tremaining: 1m 21s\n",
            "196:\tlearn: 0.0770504\ttotal: 20.1s\tremaining: 1m 21s\n",
            "197:\tlearn: 0.0770493\ttotal: 20.2s\tremaining: 1m 21s\n",
            "198:\tlearn: 0.0770288\ttotal: 20.4s\tremaining: 1m 22s\n",
            "199:\tlearn: 0.0770278\ttotal: 20.5s\tremaining: 1m 22s\n",
            "200:\tlearn: 0.0770242\ttotal: 20.7s\tremaining: 1m 22s\n",
            "201:\tlearn: 0.0770207\ttotal: 20.8s\tremaining: 1m 22s\n",
            "202:\tlearn: 0.0770198\ttotal: 20.9s\tremaining: 1m 21s\n",
            "203:\tlearn: 0.0770186\ttotal: 21s\tremaining: 1m 21s\n",
            "204:\tlearn: 0.0770172\ttotal: 21.1s\tremaining: 1m 21s\n",
            "205:\tlearn: 0.0770128\ttotal: 21.2s\tremaining: 1m 21s\n",
            "206:\tlearn: 0.0768610\ttotal: 21.3s\tremaining: 1m 21s\n",
            "207:\tlearn: 0.0768388\ttotal: 21.4s\tremaining: 1m 21s\n",
            "208:\tlearn: 0.0768285\ttotal: 21.5s\tremaining: 1m 21s\n",
            "209:\tlearn: 0.0768276\ttotal: 21.5s\tremaining: 1m 21s\n",
            "210:\tlearn: 0.0768268\ttotal: 21.6s\tremaining: 1m 20s\n",
            "211:\tlearn: 0.0768241\ttotal: 21.7s\tremaining: 1m 20s\n",
            "212:\tlearn: 0.0768228\ttotal: 21.7s\tremaining: 1m 20s\n",
            "213:\tlearn: 0.0766820\ttotal: 21.8s\tremaining: 1m 20s\n",
            "214:\tlearn: 0.0766812\ttotal: 21.9s\tremaining: 1m 20s\n",
            "215:\tlearn: 0.0766774\ttotal: 22s\tremaining: 1m 19s\n",
            "216:\tlearn: 0.0766617\ttotal: 22.2s\tremaining: 1m 19s\n",
            "217:\tlearn: 0.0766605\ttotal: 22.2s\tremaining: 1m 19s\n",
            "218:\tlearn: 0.0766593\ttotal: 22.3s\tremaining: 1m 19s\n",
            "219:\tlearn: 0.0766385\ttotal: 22.4s\tremaining: 1m 19s\n",
            "220:\tlearn: 0.0766236\ttotal: 22.5s\tremaining: 1m 19s\n",
            "221:\tlearn: 0.0766211\ttotal: 22.6s\tremaining: 1m 19s\n",
            "222:\tlearn: 0.0766198\ttotal: 22.7s\tremaining: 1m 19s\n",
            "223:\tlearn: 0.0766006\ttotal: 22.8s\tremaining: 1m 18s\n",
            "224:\tlearn: 0.0764698\ttotal: 22.9s\tremaining: 1m 18s\n",
            "225:\tlearn: 0.0764691\ttotal: 23s\tremaining: 1m 18s\n",
            "226:\tlearn: 0.0764680\ttotal: 23s\tremaining: 1m 18s\n",
            "227:\tlearn: 0.0764674\ttotal: 23.1s\tremaining: 1m 18s\n",
            "228:\tlearn: 0.0764646\ttotal: 23.2s\tremaining: 1m 18s\n",
            "229:\tlearn: 0.0764624\ttotal: 23.3s\tremaining: 1m 18s\n",
            "230:\tlearn: 0.0764429\ttotal: 23.4s\tremaining: 1m 18s\n",
            "231:\tlearn: 0.0764425\ttotal: 23.5s\tremaining: 1m 17s\n",
            "232:\tlearn: 0.0764242\ttotal: 23.6s\tremaining: 1m 17s\n",
            "233:\tlearn: 0.0764234\ttotal: 23.7s\tremaining: 1m 17s\n",
            "234:\tlearn: 0.0763020\ttotal: 23.8s\tremaining: 1m 17s\n",
            "235:\tlearn: 0.0763014\ttotal: 23.8s\tremaining: 1m 17s\n",
            "236:\tlearn: 0.0762993\ttotal: 23.9s\tremaining: 1m 16s\n",
            "237:\tlearn: 0.0762982\ttotal: 24s\tremaining: 1m 16s\n",
            "238:\tlearn: 0.0762864\ttotal: 24.1s\tremaining: 1m 16s\n",
            "239:\tlearn: 0.0762690\ttotal: 24.2s\tremaining: 1m 16s\n",
            "240:\tlearn: 0.0762630\ttotal: 24.3s\tremaining: 1m 16s\n",
            "241:\tlearn: 0.0761503\ttotal: 24.4s\tremaining: 1m 16s\n",
            "242:\tlearn: 0.0761491\ttotal: 24.5s\tremaining: 1m 16s\n",
            "243:\tlearn: 0.0761470\ttotal: 24.6s\tremaining: 1m 16s\n",
            "244:\tlearn: 0.0761446\ttotal: 24.7s\tremaining: 1m 16s\n",
            "245:\tlearn: 0.0761429\ttotal: 24.9s\tremaining: 1m 16s\n",
            "246:\tlearn: 0.0761381\ttotal: 25s\tremaining: 1m 16s\n",
            "247:\tlearn: 0.0761378\ttotal: 25.1s\tremaining: 1m 16s\n",
            "248:\tlearn: 0.0761228\ttotal: 25.3s\tremaining: 1m 16s\n",
            "249:\tlearn: 0.0761211\ttotal: 25.4s\tremaining: 1m 16s\n",
            "250:\tlearn: 0.0761046\ttotal: 25.6s\tremaining: 1m 16s\n",
            "251:\tlearn: 0.0761037\ttotal: 25.7s\tremaining: 1m 16s\n",
            "252:\tlearn: 0.0761032\ttotal: 25.7s\tremaining: 1m 15s\n",
            "253:\tlearn: 0.0761013\ttotal: 25.9s\tremaining: 1m 16s\n",
            "254:\tlearn: 0.0760843\ttotal: 26s\tremaining: 1m 15s\n",
            "255:\tlearn: 0.0760830\ttotal: 26.1s\tremaining: 1m 15s\n",
            "256:\tlearn: 0.0759990\ttotal: 26.2s\tremaining: 1m 15s\n",
            "257:\tlearn: 0.0759857\ttotal: 26.4s\tremaining: 1m 15s\n",
            "258:\tlearn: 0.0759849\ttotal: 26.5s\tremaining: 1m 15s\n",
            "259:\tlearn: 0.0759843\ttotal: 26.5s\tremaining: 1m 15s\n",
            "260:\tlearn: 0.0759693\ttotal: 26.6s\tremaining: 1m 15s\n",
            "261:\tlearn: 0.0759689\ttotal: 26.7s\tremaining: 1m 15s\n",
            "262:\tlearn: 0.0759530\ttotal: 26.8s\tremaining: 1m 15s\n",
            "263:\tlearn: 0.0759522\ttotal: 26.9s\tremaining: 1m 14s\n",
            "264:\tlearn: 0.0759511\ttotal: 26.9s\tremaining: 1m 14s\n",
            "265:\tlearn: 0.0759495\ttotal: 27s\tremaining: 1m 14s\n",
            "266:\tlearn: 0.0759487\ttotal: 27.1s\tremaining: 1m 14s\n",
            "267:\tlearn: 0.0759336\ttotal: 27.2s\tremaining: 1m 14s\n",
            "268:\tlearn: 0.0759278\ttotal: 27.4s\tremaining: 1m 14s\n",
            "269:\tlearn: 0.0759165\ttotal: 27.5s\tremaining: 1m 14s\n",
            "270:\tlearn: 0.0759158\ttotal: 27.6s\tremaining: 1m 14s\n",
            "271:\tlearn: 0.0759151\ttotal: 27.7s\tremaining: 1m 14s\n",
            "272:\tlearn: 0.0758997\ttotal: 27.8s\tremaining: 1m 13s\n",
            "273:\tlearn: 0.0758837\ttotal: 27.9s\tremaining: 1m 13s\n",
            "274:\tlearn: 0.0758832\ttotal: 27.9s\tremaining: 1m 13s\n",
            "275:\tlearn: 0.0758828\ttotal: 28s\tremaining: 1m 13s\n",
            "276:\tlearn: 0.0758817\ttotal: 28.1s\tremaining: 1m 13s\n",
            "277:\tlearn: 0.0758810\ttotal: 28.2s\tremaining: 1m 13s\n",
            "278:\tlearn: 0.0758798\ttotal: 28.2s\tremaining: 1m 12s\n",
            "279:\tlearn: 0.0758788\ttotal: 28.4s\tremaining: 1m 12s\n",
            "280:\tlearn: 0.0758778\ttotal: 28.5s\tremaining: 1m 12s\n",
            "281:\tlearn: 0.0758774\ttotal: 28.5s\tremaining: 1m 12s\n",
            "282:\tlearn: 0.0758635\ttotal: 28.6s\tremaining: 1m 12s\n",
            "283:\tlearn: 0.0758629\ttotal: 28.7s\tremaining: 1m 12s\n",
            "284:\tlearn: 0.0758619\ttotal: 28.7s\tremaining: 1m 12s\n",
            "285:\tlearn: 0.0758614\ttotal: 28.8s\tremaining: 1m 12s\n",
            "286:\tlearn: 0.0758611\ttotal: 28.9s\tremaining: 1m 11s\n",
            "287:\tlearn: 0.0758469\ttotal: 29s\tremaining: 1m 11s\n",
            "288:\tlearn: 0.0758464\ttotal: 29.1s\tremaining: 1m 11s\n",
            "289:\tlearn: 0.0758455\ttotal: 29.2s\tremaining: 1m 11s\n",
            "290:\tlearn: 0.0758441\ttotal: 29.3s\tremaining: 1m 11s\n",
            "291:\tlearn: 0.0758435\ttotal: 29.4s\tremaining: 1m 11s\n",
            "292:\tlearn: 0.0758308\ttotal: 29.5s\tremaining: 1m 11s\n",
            "293:\tlearn: 0.0758305\ttotal: 29.6s\tremaining: 1m 11s\n",
            "294:\tlearn: 0.0758296\ttotal: 29.7s\tremaining: 1m 10s\n",
            "295:\tlearn: 0.0758288\ttotal: 29.8s\tremaining: 1m 10s\n",
            "296:\tlearn: 0.0758167\ttotal: 29.9s\tremaining: 1m 10s\n",
            "297:\tlearn: 0.0758147\ttotal: 29.9s\tremaining: 1m 10s\n",
            "298:\tlearn: 0.0758143\ttotal: 30s\tremaining: 1m 10s\n",
            "299:\tlearn: 0.0758139\ttotal: 30.1s\tremaining: 1m 10s\n",
            "300:\tlearn: 0.0758130\ttotal: 30.2s\tremaining: 1m 10s\n",
            "301:\tlearn: 0.0758122\ttotal: 30.3s\tremaining: 1m 9s\n",
            "302:\tlearn: 0.0757998\ttotal: 30.3s\tremaining: 1m 9s\n",
            "303:\tlearn: 0.0757989\ttotal: 30.4s\tremaining: 1m 9s\n",
            "304:\tlearn: 0.0757957\ttotal: 30.5s\tremaining: 1m 9s\n",
            "305:\tlearn: 0.0757860\ttotal: 30.6s\tremaining: 1m 9s\n",
            "306:\tlearn: 0.0757725\ttotal: 30.7s\tremaining: 1m 9s\n",
            "307:\tlearn: 0.0757723\ttotal: 30.8s\tremaining: 1m 9s\n",
            "308:\tlearn: 0.0757611\ttotal: 30.8s\tremaining: 1m 8s\n",
            "309:\tlearn: 0.0757609\ttotal: 30.9s\tremaining: 1m 8s\n",
            "310:\tlearn: 0.0757604\ttotal: 31s\tremaining: 1m 8s\n",
            "311:\tlearn: 0.0757598\ttotal: 31.1s\tremaining: 1m 8s\n",
            "312:\tlearn: 0.0757591\ttotal: 31.2s\tremaining: 1m 8s\n",
            "313:\tlearn: 0.0757474\ttotal: 31.3s\tremaining: 1m 8s\n",
            "314:\tlearn: 0.0757467\ttotal: 31.4s\tremaining: 1m 8s\n",
            "315:\tlearn: 0.0757464\ttotal: 31.5s\tremaining: 1m 8s\n",
            "316:\tlearn: 0.0757455\ttotal: 31.6s\tremaining: 1m 8s\n",
            "317:\tlearn: 0.0757406\ttotal: 31.8s\tremaining: 1m 8s\n",
            "318:\tlearn: 0.0757317\ttotal: 31.9s\tremaining: 1m 8s\n",
            "319:\tlearn: 0.0757314\ttotal: 32s\tremaining: 1m 8s\n",
            "320:\tlearn: 0.0757227\ttotal: 32.3s\tremaining: 1m 8s\n",
            "321:\tlearn: 0.0756239\ttotal: 32.4s\tremaining: 1m 8s\n",
            "322:\tlearn: 0.0756235\ttotal: 32.6s\tremaining: 1m 8s\n",
            "323:\tlearn: 0.0756107\ttotal: 32.8s\tremaining: 1m 8s\n",
            "324:\tlearn: 0.0756080\ttotal: 32.9s\tremaining: 1m 8s\n",
            "325:\tlearn: 0.0755972\ttotal: 33s\tremaining: 1m 8s\n",
            "326:\tlearn: 0.0755878\ttotal: 33.2s\tremaining: 1m 8s\n",
            "327:\tlearn: 0.0755834\ttotal: 33.3s\tremaining: 1m 8s\n",
            "328:\tlearn: 0.0755744\ttotal: 33.4s\tremaining: 1m 8s\n",
            "329:\tlearn: 0.0755732\ttotal: 33.5s\tremaining: 1m 7s\n",
            "330:\tlearn: 0.0755728\ttotal: 33.6s\tremaining: 1m 7s\n",
            "331:\tlearn: 0.0755705\ttotal: 33.6s\tremaining: 1m 7s\n",
            "332:\tlearn: 0.0755696\ttotal: 33.7s\tremaining: 1m 7s\n",
            "333:\tlearn: 0.0755600\ttotal: 33.8s\tremaining: 1m 7s\n",
            "334:\tlearn: 0.0755517\ttotal: 33.9s\tremaining: 1m 7s\n",
            "335:\tlearn: 0.0755504\ttotal: 33.9s\tremaining: 1m 7s\n",
            "336:\tlearn: 0.0755483\ttotal: 34s\tremaining: 1m 6s\n",
            "337:\tlearn: 0.0755374\ttotal: 34.1s\tremaining: 1m 6s\n",
            "338:\tlearn: 0.0755362\ttotal: 34.2s\tremaining: 1m 6s\n",
            "339:\tlearn: 0.0755277\ttotal: 34.3s\tremaining: 1m 6s\n",
            "340:\tlearn: 0.0754360\ttotal: 34.4s\tremaining: 1m 6s\n",
            "341:\tlearn: 0.0754354\ttotal: 34.5s\tremaining: 1m 6s\n",
            "342:\tlearn: 0.0754335\ttotal: 34.6s\tremaining: 1m 6s\n",
            "343:\tlearn: 0.0754311\ttotal: 34.6s\tremaining: 1m 6s\n",
            "344:\tlearn: 0.0754288\ttotal: 34.7s\tremaining: 1m 5s\n",
            "345:\tlearn: 0.0754265\ttotal: 34.8s\tremaining: 1m 5s\n",
            "346:\tlearn: 0.0754187\ttotal: 34.9s\tremaining: 1m 5s\n",
            "347:\tlearn: 0.0754183\ttotal: 35s\tremaining: 1m 5s\n",
            "348:\tlearn: 0.0754095\ttotal: 35.1s\tremaining: 1m 5s\n",
            "349:\tlearn: 0.0754051\ttotal: 35.1s\tremaining: 1m 5s\n",
            "350:\tlearn: 0.0754018\ttotal: 35.2s\tremaining: 1m 5s\n",
            "351:\tlearn: 0.0753975\ttotal: 35.3s\tremaining: 1m 4s\n",
            "352:\tlearn: 0.0753967\ttotal: 35.4s\tremaining: 1m 4s\n",
            "353:\tlearn: 0.0753964\ttotal: 35.4s\tremaining: 1m 4s\n",
            "354:\tlearn: 0.0753887\ttotal: 35.5s\tremaining: 1m 4s\n",
            "355:\tlearn: 0.0753440\ttotal: 35.5s\tremaining: 1m 4s\n",
            "356:\tlearn: 0.0753177\ttotal: 35.6s\tremaining: 1m 4s\n",
            "357:\tlearn: 0.0753174\ttotal: 35.6s\tremaining: 1m 3s\n",
            "358:\tlearn: 0.0753157\ttotal: 35.6s\tremaining: 1m 3s\n",
            "359:\tlearn: 0.0753154\ttotal: 35.7s\tremaining: 1m 3s\n",
            "360:\tlearn: 0.0753051\ttotal: 35.7s\tremaining: 1m 3s\n",
            "361:\tlearn: 0.0753041\ttotal: 35.8s\tremaining: 1m 3s\n",
            "362:\tlearn: 0.0753031\ttotal: 35.8s\tremaining: 1m 2s\n",
            "363:\tlearn: 0.0753028\ttotal: 35.8s\tremaining: 1m 2s\n",
            "364:\tlearn: 0.0753006\ttotal: 35.9s\tremaining: 1m 2s\n",
            "365:\tlearn: 0.0752997\ttotal: 35.9s\tremaining: 1m 2s\n",
            "366:\tlearn: 0.0752928\ttotal: 35.9s\tremaining: 1m 2s\n",
            "367:\tlearn: 0.0752855\ttotal: 36s\tremaining: 1m 1s\n",
            "368:\tlearn: 0.0752851\ttotal: 36s\tremaining: 1m 1s\n",
            "369:\tlearn: 0.0752763\ttotal: 36.1s\tremaining: 1m 1s\n",
            "370:\tlearn: 0.0752752\ttotal: 36.1s\tremaining: 1m 1s\n",
            "371:\tlearn: 0.0752713\ttotal: 36.1s\tremaining: 1m 1s\n",
            "372:\tlearn: 0.0752691\ttotal: 36.2s\tremaining: 1m\n",
            "373:\tlearn: 0.0752619\ttotal: 36.2s\tremaining: 1m\n",
            "374:\tlearn: 0.0752603\ttotal: 36.3s\tremaining: 1m\n",
            "375:\tlearn: 0.0752562\ttotal: 36.3s\tremaining: 1m\n",
            "376:\tlearn: 0.0752550\ttotal: 36.3s\tremaining: 1m\n",
            "377:\tlearn: 0.0752525\ttotal: 36.4s\tremaining: 59.8s\n",
            "378:\tlearn: 0.0752506\ttotal: 36.4s\tremaining: 59.7s\n",
            "379:\tlearn: 0.0752499\ttotal: 36.5s\tremaining: 59.5s\n",
            "380:\tlearn: 0.0752482\ttotal: 36.5s\tremaining: 59.3s\n",
            "381:\tlearn: 0.0752475\ttotal: 36.5s\tremaining: 59.1s\n",
            "382:\tlearn: 0.0752466\ttotal: 36.6s\tremaining: 58.9s\n",
            "383:\tlearn: 0.0752456\ttotal: 36.6s\tremaining: 58.7s\n",
            "384:\tlearn: 0.0752423\ttotal: 36.6s\tremaining: 58.5s\n",
            "385:\tlearn: 0.0752409\ttotal: 36.7s\tremaining: 58.3s\n",
            "386:\tlearn: 0.0752403\ttotal: 36.7s\tremaining: 58.2s\n",
            "387:\tlearn: 0.0752391\ttotal: 36.7s\tremaining: 58s\n",
            "388:\tlearn: 0.0752376\ttotal: 36.8s\tremaining: 57.8s\n",
            "389:\tlearn: 0.0752365\ttotal: 36.8s\tremaining: 57.6s\n",
            "390:\tlearn: 0.0752280\ttotal: 36.8s\tremaining: 57.4s\n",
            "391:\tlearn: 0.0752056\ttotal: 36.9s\tremaining: 57.2s\n",
            "392:\tlearn: 0.0752056\ttotal: 36.9s\tremaining: 57s\n",
            "393:\tlearn: 0.0752051\ttotal: 37s\tremaining: 56.9s\n",
            "394:\tlearn: 0.0752013\ttotal: 37s\tremaining: 56.7s\n",
            "395:\tlearn: 0.0751982\ttotal: 37s\tremaining: 56.5s\n",
            "396:\tlearn: 0.0751976\ttotal: 37.1s\tremaining: 56.3s\n",
            "397:\tlearn: 0.0751944\ttotal: 37.1s\tremaining: 56.1s\n",
            "398:\tlearn: 0.0751914\ttotal: 37.1s\tremaining: 55.9s\n",
            "399:\tlearn: 0.0751899\ttotal: 37.2s\tremaining: 55.8s\n",
            "400:\tlearn: 0.0751889\ttotal: 37.2s\tremaining: 55.6s\n",
            "401:\tlearn: 0.0751868\ttotal: 37.3s\tremaining: 55.4s\n",
            "402:\tlearn: 0.0751849\ttotal: 37.3s\tremaining: 55.2s\n",
            "403:\tlearn: 0.0751835\ttotal: 37.3s\tremaining: 55.1s\n",
            "404:\tlearn: 0.0751828\ttotal: 37.4s\tremaining: 54.9s\n",
            "405:\tlearn: 0.0751789\ttotal: 37.4s\tremaining: 54.7s\n",
            "406:\tlearn: 0.0751755\ttotal: 37.5s\tremaining: 54.6s\n",
            "407:\tlearn: 0.0751722\ttotal: 37.5s\tremaining: 54.4s\n",
            "408:\tlearn: 0.0751712\ttotal: 37.5s\tremaining: 54.2s\n",
            "409:\tlearn: 0.0751708\ttotal: 37.5s\tremaining: 54s\n",
            "410:\tlearn: 0.0751677\ttotal: 37.6s\tremaining: 53.9s\n",
            "411:\tlearn: 0.0751648\ttotal: 37.6s\tremaining: 53.7s\n",
            "412:\tlearn: 0.0751618\ttotal: 37.7s\tremaining: 53.5s\n",
            "413:\tlearn: 0.0751590\ttotal: 37.7s\tremaining: 53.4s\n",
            "414:\tlearn: 0.0751581\ttotal: 37.7s\tremaining: 53.2s\n",
            "415:\tlearn: 0.0751554\ttotal: 37.8s\tremaining: 53s\n",
            "416:\tlearn: 0.0751547\ttotal: 37.8s\tremaining: 52.9s\n",
            "417:\tlearn: 0.0751533\ttotal: 37.8s\tremaining: 52.7s\n",
            "418:\tlearn: 0.0751508\ttotal: 37.9s\tremaining: 52.5s\n",
            "419:\tlearn: 0.0751484\ttotal: 37.9s\tremaining: 52.4s\n",
            "420:\tlearn: 0.0751460\ttotal: 38s\tremaining: 52.2s\n",
            "421:\tlearn: 0.0751451\ttotal: 38s\tremaining: 52s\n",
            "422:\tlearn: 0.0751444\ttotal: 38s\tremaining: 51.9s\n",
            "423:\tlearn: 0.0751422\ttotal: 38.1s\tremaining: 51.7s\n",
            "424:\tlearn: 0.0751413\ttotal: 38.1s\tremaining: 51.5s\n",
            "425:\tlearn: 0.0751384\ttotal: 38.2s\tremaining: 51.4s\n",
            "426:\tlearn: 0.0751363\ttotal: 38.2s\tremaining: 51.3s\n",
            "427:\tlearn: 0.0751342\ttotal: 38.2s\tremaining: 51.1s\n",
            "428:\tlearn: 0.0751328\ttotal: 38.3s\tremaining: 51s\n",
            "429:\tlearn: 0.0751256\ttotal: 38.3s\tremaining: 50.8s\n",
            "430:\tlearn: 0.0751236\ttotal: 38.4s\tremaining: 50.6s\n",
            "431:\tlearn: 0.0751219\ttotal: 38.4s\tremaining: 50.5s\n",
            "432:\tlearn: 0.0751203\ttotal: 38.4s\tremaining: 50.3s\n",
            "433:\tlearn: 0.0751128\ttotal: 38.5s\tremaining: 50.2s\n",
            "434:\tlearn: 0.0751110\ttotal: 38.5s\tremaining: 50.1s\n",
            "435:\tlearn: 0.0751091\ttotal: 38.6s\tremaining: 49.9s\n",
            "436:\tlearn: 0.0751090\ttotal: 38.6s\tremaining: 49.7s\n",
            "437:\tlearn: 0.0751067\ttotal: 38.6s\tremaining: 49.6s\n",
            "438:\tlearn: 0.0751056\ttotal: 38.7s\tremaining: 49.4s\n",
            "439:\tlearn: 0.0751044\ttotal: 38.7s\tremaining: 49.3s\n",
            "440:\tlearn: 0.0751010\ttotal: 38.8s\tremaining: 49.1s\n",
            "441:\tlearn: 0.0750985\ttotal: 38.8s\tremaining: 49s\n",
            "442:\tlearn: 0.0750941\ttotal: 38.8s\tremaining: 48.8s\n",
            "443:\tlearn: 0.0750900\ttotal: 38.9s\tremaining: 48.7s\n",
            "444:\tlearn: 0.0750860\ttotal: 38.9s\tremaining: 48.5s\n",
            "445:\tlearn: 0.0750838\ttotal: 38.9s\tremaining: 48.4s\n",
            "446:\tlearn: 0.0750821\ttotal: 39s\tremaining: 48.2s\n",
            "447:\tlearn: 0.0750813\ttotal: 39s\tremaining: 48.1s\n",
            "448:\tlearn: 0.0750713\ttotal: 39.1s\tremaining: 47.9s\n",
            "449:\tlearn: 0.0749885\ttotal: 39.1s\tremaining: 47.8s\n",
            "450:\tlearn: 0.0749881\ttotal: 39.1s\tremaining: 47.6s\n",
            "451:\tlearn: 0.0749853\ttotal: 39.2s\tremaining: 47.5s\n",
            "452:\tlearn: 0.0749814\ttotal: 39.2s\tremaining: 47.4s\n",
            "453:\tlearn: 0.0749779\ttotal: 39.3s\tremaining: 47.2s\n",
            "454:\tlearn: 0.0749757\ttotal: 39.3s\tremaining: 47.1s\n",
            "455:\tlearn: 0.0749730\ttotal: 39.3s\tremaining: 46.9s\n",
            "456:\tlearn: 0.0749719\ttotal: 39.4s\tremaining: 46.8s\n",
            "457:\tlearn: 0.0749705\ttotal: 39.4s\tremaining: 46.6s\n",
            "458:\tlearn: 0.0749686\ttotal: 39.4s\tremaining: 46.5s\n",
            "459:\tlearn: 0.0749660\ttotal: 39.5s\tremaining: 46.4s\n",
            "460:\tlearn: 0.0749651\ttotal: 39.5s\tremaining: 46.2s\n",
            "461:\tlearn: 0.0749635\ttotal: 39.6s\tremaining: 46.1s\n",
            "462:\tlearn: 0.0749601\ttotal: 39.6s\tremaining: 45.9s\n",
            "463:\tlearn: 0.0749568\ttotal: 39.6s\tremaining: 45.8s\n",
            "464:\tlearn: 0.0749557\ttotal: 39.6s\tremaining: 45.6s\n",
            "465:\tlearn: 0.0749546\ttotal: 39.7s\tremaining: 45.5s\n",
            "466:\tlearn: 0.0749526\ttotal: 39.7s\tremaining: 45.3s\n",
            "467:\tlearn: 0.0749513\ttotal: 39.8s\tremaining: 45.2s\n",
            "468:\tlearn: 0.0749482\ttotal: 39.8s\tremaining: 45.1s\n",
            "469:\tlearn: 0.0749472\ttotal: 39.8s\tremaining: 44.9s\n",
            "470:\tlearn: 0.0749464\ttotal: 39.9s\tremaining: 44.8s\n",
            "471:\tlearn: 0.0749462\ttotal: 39.9s\tremaining: 44.7s\n",
            "472:\tlearn: 0.0749425\ttotal: 40s\tremaining: 44.6s\n",
            "473:\tlearn: 0.0749176\ttotal: 40.1s\tremaining: 44.5s\n",
            "474:\tlearn: 0.0749145\ttotal: 40.2s\tremaining: 44.4s\n",
            "475:\tlearn: 0.0749098\ttotal: 40.4s\tremaining: 44.5s\n",
            "476:\tlearn: 0.0749069\ttotal: 40.5s\tremaining: 44.4s\n",
            "477:\tlearn: 0.0749059\ttotal: 40.5s\tremaining: 44.2s\n",
            "478:\tlearn: 0.0749024\ttotal: 40.5s\tremaining: 44.1s\n",
            "479:\tlearn: 0.0749017\ttotal: 40.6s\tremaining: 44s\n",
            "480:\tlearn: 0.0748990\ttotal: 40.6s\tremaining: 43.8s\n",
            "481:\tlearn: 0.0748939\ttotal: 40.7s\tremaining: 43.7s\n",
            "482:\tlearn: 0.0748799\ttotal: 40.8s\tremaining: 43.6s\n",
            "483:\tlearn: 0.0748773\ttotal: 40.8s\tremaining: 43.5s\n",
            "484:\tlearn: 0.0748754\ttotal: 40.9s\tremaining: 43.4s\n",
            "485:\tlearn: 0.0748735\ttotal: 40.9s\tremaining: 43.3s\n",
            "486:\tlearn: 0.0748611\ttotal: 40.9s\tremaining: 43.1s\n",
            "487:\tlearn: 0.0748563\ttotal: 41s\tremaining: 43s\n",
            "488:\tlearn: 0.0748555\ttotal: 41s\tremaining: 42.9s\n",
            "489:\tlearn: 0.0748507\ttotal: 41.1s\tremaining: 42.8s\n",
            "490:\tlearn: 0.0748458\ttotal: 41.1s\tremaining: 42.6s\n",
            "491:\tlearn: 0.0748449\ttotal: 41.2s\tremaining: 42.5s\n",
            "492:\tlearn: 0.0748423\ttotal: 41.2s\tremaining: 42.4s\n",
            "493:\tlearn: 0.0748414\ttotal: 41.2s\tremaining: 42.2s\n",
            "494:\tlearn: 0.0748375\ttotal: 41.3s\tremaining: 42.1s\n",
            "495:\tlearn: 0.0748374\ttotal: 41.3s\tremaining: 42s\n",
            "496:\tlearn: 0.0748171\ttotal: 41.3s\tremaining: 41.8s\n",
            "497:\tlearn: 0.0748046\ttotal: 41.4s\tremaining: 41.7s\n",
            "498:\tlearn: 0.0748018\ttotal: 41.4s\tremaining: 41.6s\n",
            "499:\tlearn: 0.0747995\ttotal: 41.4s\tremaining: 41.4s\n",
            "500:\tlearn: 0.0747977\ttotal: 41.5s\tremaining: 41.3s\n",
            "501:\tlearn: 0.0747941\ttotal: 41.5s\tremaining: 41.2s\n",
            "502:\tlearn: 0.0747912\ttotal: 41.6s\tremaining: 41.1s\n",
            "503:\tlearn: 0.0747904\ttotal: 41.6s\tremaining: 41s\n",
            "504:\tlearn: 0.0747869\ttotal: 41.6s\tremaining: 40.8s\n",
            "505:\tlearn: 0.0747850\ttotal: 41.7s\tremaining: 40.7s\n",
            "506:\tlearn: 0.0747818\ttotal: 41.7s\tremaining: 40.6s\n",
            "507:\tlearn: 0.0747811\ttotal: 41.8s\tremaining: 40.4s\n",
            "508:\tlearn: 0.0747722\ttotal: 41.8s\tremaining: 40.3s\n",
            "509:\tlearn: 0.0747662\ttotal: 41.8s\tremaining: 40.2s\n",
            "510:\tlearn: 0.0747644\ttotal: 41.9s\tremaining: 40.1s\n",
            "511:\tlearn: 0.0747628\ttotal: 41.9s\tremaining: 40s\n",
            "512:\tlearn: 0.0747618\ttotal: 42s\tremaining: 39.8s\n",
            "513:\tlearn: 0.0747602\ttotal: 42s\tremaining: 39.7s\n",
            "514:\tlearn: 0.0747596\ttotal: 42s\tremaining: 39.6s\n",
            "515:\tlearn: 0.0747551\ttotal: 42.1s\tremaining: 39.5s\n",
            "516:\tlearn: 0.0747550\ttotal: 42.1s\tremaining: 39.3s\n",
            "517:\tlearn: 0.0747494\ttotal: 42.1s\tremaining: 39.2s\n",
            "518:\tlearn: 0.0747278\ttotal: 42.2s\tremaining: 39.1s\n",
            "519:\tlearn: 0.0747261\ttotal: 42.2s\tremaining: 39s\n",
            "520:\tlearn: 0.0747248\ttotal: 42.3s\tremaining: 38.9s\n",
            "521:\tlearn: 0.0747240\ttotal: 42.3s\tremaining: 38.7s\n",
            "522:\tlearn: 0.0747234\ttotal: 42.3s\tremaining: 38.6s\n",
            "523:\tlearn: 0.0747226\ttotal: 42.4s\tremaining: 38.5s\n",
            "524:\tlearn: 0.0747217\ttotal: 42.4s\tremaining: 38.4s\n",
            "525:\tlearn: 0.0747202\ttotal: 42.4s\tremaining: 38.2s\n",
            "526:\tlearn: 0.0747193\ttotal: 42.5s\tremaining: 38.1s\n",
            "527:\tlearn: 0.0747156\ttotal: 42.5s\tremaining: 38s\n",
            "528:\tlearn: 0.0747148\ttotal: 42.5s\tremaining: 37.9s\n",
            "529:\tlearn: 0.0747116\ttotal: 42.6s\tremaining: 37.8s\n",
            "530:\tlearn: 0.0747092\ttotal: 42.6s\tremaining: 37.7s\n",
            "531:\tlearn: 0.0747089\ttotal: 42.7s\tremaining: 37.5s\n",
            "532:\tlearn: 0.0747068\ttotal: 42.7s\tremaining: 37.4s\n",
            "533:\tlearn: 0.0747066\ttotal: 42.7s\tremaining: 37.3s\n",
            "534:\tlearn: 0.0747046\ttotal: 42.8s\tremaining: 37.2s\n",
            "535:\tlearn: 0.0746987\ttotal: 42.8s\tremaining: 37.1s\n",
            "536:\tlearn: 0.0746972\ttotal: 42.8s\tremaining: 36.9s\n",
            "537:\tlearn: 0.0746967\ttotal: 42.9s\tremaining: 36.8s\n",
            "538:\tlearn: 0.0746959\ttotal: 42.9s\tremaining: 36.7s\n",
            "539:\tlearn: 0.0746949\ttotal: 43s\tremaining: 36.6s\n",
            "540:\tlearn: 0.0746947\ttotal: 43s\tremaining: 36.5s\n",
            "541:\tlearn: 0.0746894\ttotal: 43s\tremaining: 36.4s\n",
            "542:\tlearn: 0.0746878\ttotal: 43.1s\tremaining: 36.2s\n",
            "543:\tlearn: 0.0746871\ttotal: 43.1s\tremaining: 36.1s\n",
            "544:\tlearn: 0.0746853\ttotal: 43.1s\tremaining: 36s\n",
            "545:\tlearn: 0.0746847\ttotal: 43.2s\tremaining: 35.9s\n",
            "546:\tlearn: 0.0746845\ttotal: 43.2s\tremaining: 35.8s\n",
            "547:\tlearn: 0.0746826\ttotal: 43.2s\tremaining: 35.7s\n",
            "548:\tlearn: 0.0746810\ttotal: 43.3s\tremaining: 35.6s\n",
            "549:\tlearn: 0.0746798\ttotal: 43.3s\tremaining: 35.4s\n",
            "550:\tlearn: 0.0746787\ttotal: 43.4s\tremaining: 35.3s\n",
            "551:\tlearn: 0.0746757\ttotal: 43.4s\tremaining: 35.2s\n",
            "552:\tlearn: 0.0746744\ttotal: 43.4s\tremaining: 35.1s\n",
            "553:\tlearn: 0.0746703\ttotal: 43.5s\tremaining: 35s\n",
            "554:\tlearn: 0.0746673\ttotal: 43.5s\tremaining: 34.9s\n",
            "555:\tlearn: 0.0746666\ttotal: 43.6s\tremaining: 34.8s\n",
            "556:\tlearn: 0.0746653\ttotal: 43.6s\tremaining: 34.7s\n",
            "557:\tlearn: 0.0746622\ttotal: 43.6s\tremaining: 34.6s\n",
            "558:\tlearn: 0.0746611\ttotal: 43.7s\tremaining: 34.5s\n",
            "559:\tlearn: 0.0746604\ttotal: 43.7s\tremaining: 34.3s\n",
            "560:\tlearn: 0.0746562\ttotal: 43.8s\tremaining: 34.2s\n",
            "561:\tlearn: 0.0746556\ttotal: 43.8s\tremaining: 34.1s\n",
            "562:\tlearn: 0.0746536\ttotal: 43.8s\tremaining: 34s\n",
            "563:\tlearn: 0.0746517\ttotal: 43.9s\tremaining: 33.9s\n",
            "564:\tlearn: 0.0746499\ttotal: 43.9s\tremaining: 33.8s\n",
            "565:\tlearn: 0.0746486\ttotal: 43.9s\tremaining: 33.7s\n",
            "566:\tlearn: 0.0746480\ttotal: 44s\tremaining: 33.6s\n",
            "567:\tlearn: 0.0746468\ttotal: 44s\tremaining: 33.5s\n",
            "568:\tlearn: 0.0746445\ttotal: 44s\tremaining: 33.4s\n",
            "569:\tlearn: 0.0746432\ttotal: 44.1s\tremaining: 33.2s\n",
            "570:\tlearn: 0.0746414\ttotal: 44.1s\tremaining: 33.1s\n",
            "571:\tlearn: 0.0746398\ttotal: 44.1s\tremaining: 33s\n",
            "572:\tlearn: 0.0746383\ttotal: 44.2s\tremaining: 32.9s\n",
            "573:\tlearn: 0.0746361\ttotal: 44.2s\tremaining: 32.8s\n",
            "574:\tlearn: 0.0746350\ttotal: 44.3s\tremaining: 32.7s\n",
            "575:\tlearn: 0.0746337\ttotal: 44.3s\tremaining: 32.6s\n",
            "576:\tlearn: 0.0746313\ttotal: 44.3s\tremaining: 32.5s\n",
            "577:\tlearn: 0.0746308\ttotal: 44.4s\tremaining: 32.4s\n",
            "578:\tlearn: 0.0746293\ttotal: 44.4s\tremaining: 32.3s\n",
            "579:\tlearn: 0.0746278\ttotal: 44.4s\tremaining: 32.2s\n",
            "580:\tlearn: 0.0746264\ttotal: 44.5s\tremaining: 32.1s\n",
            "581:\tlearn: 0.0746251\ttotal: 44.5s\tremaining: 32s\n",
            "582:\tlearn: 0.0746216\ttotal: 44.6s\tremaining: 31.9s\n",
            "583:\tlearn: 0.0746166\ttotal: 44.6s\tremaining: 31.8s\n",
            "584:\tlearn: 0.0746125\ttotal: 44.6s\tremaining: 31.7s\n",
            "585:\tlearn: 0.0746024\ttotal: 44.7s\tremaining: 31.6s\n",
            "586:\tlearn: 0.0745887\ttotal: 44.7s\tremaining: 31.5s\n",
            "587:\tlearn: 0.0745866\ttotal: 44.8s\tremaining: 31.4s\n",
            "588:\tlearn: 0.0745856\ttotal: 44.8s\tremaining: 31.3s\n",
            "589:\tlearn: 0.0745835\ttotal: 44.9s\tremaining: 31.2s\n",
            "590:\tlearn: 0.0745829\ttotal: 44.9s\tremaining: 31.1s\n",
            "591:\tlearn: 0.0745713\ttotal: 44.9s\tremaining: 31s\n",
            "592:\tlearn: 0.0745701\ttotal: 45s\tremaining: 30.9s\n",
            "593:\tlearn: 0.0745662\ttotal: 45s\tremaining: 30.8s\n",
            "594:\tlearn: 0.0745616\ttotal: 45s\tremaining: 30.7s\n",
            "595:\tlearn: 0.0745610\ttotal: 45.1s\tremaining: 30.6s\n",
            "596:\tlearn: 0.0745599\ttotal: 45.1s\tremaining: 30.5s\n",
            "597:\tlearn: 0.0745497\ttotal: 45.2s\tremaining: 30.4s\n",
            "598:\tlearn: 0.0745488\ttotal: 45.2s\tremaining: 30.3s\n",
            "599:\tlearn: 0.0745447\ttotal: 45.2s\tremaining: 30.2s\n",
            "600:\tlearn: 0.0745426\ttotal: 45.3s\tremaining: 30.1s\n",
            "601:\tlearn: 0.0745395\ttotal: 45.3s\tremaining: 30s\n",
            "602:\tlearn: 0.0745288\ttotal: 45.5s\tremaining: 29.9s\n",
            "603:\tlearn: 0.0745257\ttotal: 45.5s\tremaining: 29.9s\n",
            "604:\tlearn: 0.0745244\ttotal: 45.6s\tremaining: 29.8s\n",
            "605:\tlearn: 0.0745202\ttotal: 45.7s\tremaining: 29.7s\n",
            "606:\tlearn: 0.0745171\ttotal: 45.8s\tremaining: 29.7s\n",
            "607:\tlearn: 0.0745123\ttotal: 45.9s\tremaining: 29.6s\n",
            "608:\tlearn: 0.0745083\ttotal: 46s\tremaining: 29.5s\n",
            "609:\tlearn: 0.0745055\ttotal: 46.1s\tremaining: 29.5s\n",
            "610:\tlearn: 0.0745050\ttotal: 46.2s\tremaining: 29.4s\n",
            "611:\tlearn: 0.0745037\ttotal: 46.3s\tremaining: 29.3s\n",
            "612:\tlearn: 0.0745003\ttotal: 46.4s\tremaining: 29.3s\n",
            "613:\tlearn: 0.0744997\ttotal: 46.4s\tremaining: 29.2s\n",
            "614:\tlearn: 0.0744978\ttotal: 46.5s\tremaining: 29.1s\n",
            "615:\tlearn: 0.0744970\ttotal: 46.6s\tremaining: 29s\n",
            "616:\tlearn: 0.0744959\ttotal: 46.7s\tremaining: 29s\n",
            "617:\tlearn: 0.0744907\ttotal: 46.8s\tremaining: 28.9s\n",
            "618:\tlearn: 0.0744899\ttotal: 46.8s\tremaining: 28.8s\n",
            "619:\tlearn: 0.0744876\ttotal: 46.9s\tremaining: 28.8s\n",
            "620:\tlearn: 0.0744857\ttotal: 47s\tremaining: 28.7s\n",
            "621:\tlearn: 0.0744851\ttotal: 47.1s\tremaining: 28.6s\n",
            "622:\tlearn: 0.0744831\ttotal: 47.1s\tremaining: 28.5s\n",
            "623:\tlearn: 0.0744821\ttotal: 47.2s\tremaining: 28.5s\n",
            "624:\tlearn: 0.0744801\ttotal: 47.3s\tremaining: 28.4s\n",
            "625:\tlearn: 0.0744796\ttotal: 47.4s\tremaining: 28.3s\n",
            "626:\tlearn: 0.0744777\ttotal: 47.5s\tremaining: 28.2s\n",
            "627:\tlearn: 0.0744765\ttotal: 47.5s\tremaining: 28.2s\n",
            "628:\tlearn: 0.0744734\ttotal: 47.6s\tremaining: 28.1s\n",
            "629:\tlearn: 0.0744716\ttotal: 47.7s\tremaining: 28s\n",
            "630:\tlearn: 0.0744699\ttotal: 47.8s\tremaining: 27.9s\n",
            "631:\tlearn: 0.0744687\ttotal: 47.9s\tremaining: 27.9s\n",
            "632:\tlearn: 0.0744648\ttotal: 48s\tremaining: 27.8s\n",
            "633:\tlearn: 0.0744597\ttotal: 48.1s\tremaining: 27.7s\n",
            "634:\tlearn: 0.0744575\ttotal: 48.1s\tremaining: 27.7s\n",
            "635:\tlearn: 0.0744559\ttotal: 48.2s\tremaining: 27.6s\n",
            "636:\tlearn: 0.0744529\ttotal: 48.3s\tremaining: 27.5s\n",
            "637:\tlearn: 0.0744385\ttotal: 48.4s\tremaining: 27.5s\n",
            "638:\tlearn: 0.0744378\ttotal: 48.5s\tremaining: 27.4s\n",
            "639:\tlearn: 0.0744340\ttotal: 48.6s\tremaining: 27.4s\n",
            "640:\tlearn: 0.0744203\ttotal: 48.7s\tremaining: 27.3s\n",
            "641:\tlearn: 0.0744197\ttotal: 48.8s\tremaining: 27.2s\n",
            "642:\tlearn: 0.0744187\ttotal: 48.9s\tremaining: 27.2s\n",
            "643:\tlearn: 0.0744181\ttotal: 49s\tremaining: 27.1s\n",
            "644:\tlearn: 0.0744176\ttotal: 49.1s\tremaining: 27s\n",
            "645:\tlearn: 0.0744171\ttotal: 49.1s\tremaining: 26.9s\n",
            "646:\tlearn: 0.0744156\ttotal: 49.2s\tremaining: 26.9s\n",
            "647:\tlearn: 0.0744133\ttotal: 49.3s\tremaining: 26.8s\n",
            "648:\tlearn: 0.0744099\ttotal: 49.4s\tremaining: 26.7s\n",
            "649:\tlearn: 0.0744073\ttotal: 49.5s\tremaining: 26.7s\n",
            "650:\tlearn: 0.0744043\ttotal: 49.6s\tremaining: 26.6s\n",
            "651:\tlearn: 0.0744016\ttotal: 49.7s\tremaining: 26.5s\n",
            "652:\tlearn: 0.0743989\ttotal: 49.7s\tremaining: 26.4s\n",
            "653:\tlearn: 0.0743978\ttotal: 49.8s\tremaining: 26.3s\n",
            "654:\tlearn: 0.0743957\ttotal: 49.8s\tremaining: 26.2s\n",
            "655:\tlearn: 0.0743944\ttotal: 49.8s\tremaining: 26.1s\n",
            "656:\tlearn: 0.0743927\ttotal: 49.9s\tremaining: 26s\n",
            "657:\tlearn: 0.0743921\ttotal: 49.9s\tremaining: 25.9s\n",
            "658:\tlearn: 0.0743912\ttotal: 50s\tremaining: 25.9s\n",
            "659:\tlearn: 0.0743900\ttotal: 50s\tremaining: 25.8s\n",
            "660:\tlearn: 0.0743896\ttotal: 50s\tremaining: 25.7s\n",
            "661:\tlearn: 0.0743881\ttotal: 50.1s\tremaining: 25.6s\n",
            "662:\tlearn: 0.0743846\ttotal: 50.1s\tremaining: 25.5s\n",
            "663:\tlearn: 0.0743816\ttotal: 50.1s\tremaining: 25.4s\n",
            "664:\tlearn: 0.0743807\ttotal: 50.2s\tremaining: 25.3s\n",
            "665:\tlearn: 0.0743798\ttotal: 50.2s\tremaining: 25.2s\n",
            "666:\tlearn: 0.0743771\ttotal: 50.3s\tremaining: 25.1s\n",
            "667:\tlearn: 0.0743735\ttotal: 50.3s\tremaining: 25s\n",
            "668:\tlearn: 0.0743697\ttotal: 50.3s\tremaining: 24.9s\n",
            "669:\tlearn: 0.0743623\ttotal: 50.4s\tremaining: 24.8s\n",
            "670:\tlearn: 0.0743590\ttotal: 50.4s\tremaining: 24.7s\n",
            "671:\tlearn: 0.0743574\ttotal: 50.5s\tremaining: 24.6s\n",
            "672:\tlearn: 0.0743569\ttotal: 50.5s\tremaining: 24.5s\n",
            "673:\tlearn: 0.0743555\ttotal: 50.5s\tremaining: 24.4s\n",
            "674:\tlearn: 0.0743551\ttotal: 50.6s\tremaining: 24.3s\n",
            "675:\tlearn: 0.0743539\ttotal: 50.6s\tremaining: 24.2s\n",
            "676:\tlearn: 0.0743495\ttotal: 50.6s\tremaining: 24.2s\n",
            "677:\tlearn: 0.0743480\ttotal: 50.7s\tremaining: 24.1s\n",
            "678:\tlearn: 0.0743462\ttotal: 50.7s\tremaining: 24s\n",
            "679:\tlearn: 0.0743436\ttotal: 50.8s\tremaining: 23.9s\n",
            "680:\tlearn: 0.0743411\ttotal: 50.8s\tremaining: 23.8s\n",
            "681:\tlearn: 0.0743403\ttotal: 50.8s\tremaining: 23.7s\n",
            "682:\tlearn: 0.0743379\ttotal: 50.9s\tremaining: 23.6s\n",
            "683:\tlearn: 0.0743350\ttotal: 50.9s\tremaining: 23.5s\n",
            "684:\tlearn: 0.0743306\ttotal: 51s\tremaining: 23.4s\n",
            "685:\tlearn: 0.0743303\ttotal: 51s\tremaining: 23.3s\n",
            "686:\tlearn: 0.0743297\ttotal: 51s\tremaining: 23.2s\n",
            "687:\tlearn: 0.0743239\ttotal: 51.1s\tremaining: 23.2s\n",
            "688:\tlearn: 0.0743224\ttotal: 51.1s\tremaining: 23.1s\n",
            "689:\tlearn: 0.0743201\ttotal: 51.1s\tremaining: 23s\n",
            "690:\tlearn: 0.0743194\ttotal: 51.2s\tremaining: 22.9s\n",
            "691:\tlearn: 0.0743171\ttotal: 51.2s\tremaining: 22.8s\n",
            "692:\tlearn: 0.0743168\ttotal: 51.2s\tremaining: 22.7s\n",
            "693:\tlearn: 0.0743157\ttotal: 51.3s\tremaining: 22.6s\n",
            "694:\tlearn: 0.0743103\ttotal: 51.3s\tremaining: 22.5s\n",
            "695:\tlearn: 0.0743076\ttotal: 51.4s\tremaining: 22.4s\n",
            "696:\tlearn: 0.0743057\ttotal: 51.4s\tremaining: 22.3s\n",
            "697:\tlearn: 0.0742946\ttotal: 51.4s\tremaining: 22.3s\n",
            "698:\tlearn: 0.0742925\ttotal: 51.5s\tremaining: 22.2s\n",
            "699:\tlearn: 0.0742915\ttotal: 51.5s\tremaining: 22.1s\n",
            "700:\tlearn: 0.0742863\ttotal: 51.6s\tremaining: 22s\n",
            "701:\tlearn: 0.0742848\ttotal: 51.6s\tremaining: 21.9s\n",
            "702:\tlearn: 0.0742826\ttotal: 51.7s\tremaining: 21.8s\n",
            "703:\tlearn: 0.0742815\ttotal: 51.7s\tremaining: 21.7s\n",
            "704:\tlearn: 0.0742798\ttotal: 51.7s\tremaining: 21.7s\n",
            "705:\tlearn: 0.0742709\ttotal: 51.8s\tremaining: 21.6s\n",
            "706:\tlearn: 0.0742681\ttotal: 51.8s\tremaining: 21.5s\n",
            "707:\tlearn: 0.0742676\ttotal: 51.9s\tremaining: 21.4s\n",
            "708:\tlearn: 0.0742663\ttotal: 51.9s\tremaining: 21.3s\n",
            "709:\tlearn: 0.0742632\ttotal: 51.9s\tremaining: 21.2s\n",
            "710:\tlearn: 0.0742569\ttotal: 52s\tremaining: 21.1s\n",
            "711:\tlearn: 0.0742511\ttotal: 52s\tremaining: 21.1s\n",
            "712:\tlearn: 0.0742458\ttotal: 52.1s\tremaining: 21s\n",
            "713:\tlearn: 0.0742171\ttotal: 52.1s\tremaining: 20.9s\n",
            "714:\tlearn: 0.0742121\ttotal: 52.2s\tremaining: 20.8s\n",
            "715:\tlearn: 0.0742075\ttotal: 52.2s\tremaining: 20.7s\n",
            "716:\tlearn: 0.0742040\ttotal: 52.3s\tremaining: 20.6s\n",
            "717:\tlearn: 0.0742011\ttotal: 52.3s\tremaining: 20.6s\n",
            "718:\tlearn: 0.0741997\ttotal: 52.4s\tremaining: 20.5s\n",
            "719:\tlearn: 0.0741985\ttotal: 52.4s\tremaining: 20.4s\n",
            "720:\tlearn: 0.0741931\ttotal: 52.4s\tremaining: 20.3s\n",
            "721:\tlearn: 0.0741925\ttotal: 52.5s\tremaining: 20.2s\n",
            "722:\tlearn: 0.0741917\ttotal: 52.5s\tremaining: 20.1s\n",
            "723:\tlearn: 0.0741879\ttotal: 52.6s\tremaining: 20s\n",
            "724:\tlearn: 0.0741845\ttotal: 52.6s\tremaining: 20s\n",
            "725:\tlearn: 0.0741816\ttotal: 52.6s\tremaining: 19.9s\n",
            "726:\tlearn: 0.0741784\ttotal: 52.7s\tremaining: 19.8s\n",
            "727:\tlearn: 0.0741746\ttotal: 52.7s\tremaining: 19.7s\n",
            "728:\tlearn: 0.0741696\ttotal: 52.8s\tremaining: 19.6s\n",
            "729:\tlearn: 0.0741673\ttotal: 52.8s\tremaining: 19.5s\n",
            "730:\tlearn: 0.0741629\ttotal: 52.9s\tremaining: 19.4s\n",
            "731:\tlearn: 0.0741609\ttotal: 52.9s\tremaining: 19.4s\n",
            "732:\tlearn: 0.0741589\ttotal: 52.9s\tremaining: 19.3s\n",
            "733:\tlearn: 0.0741551\ttotal: 53s\tremaining: 19.2s\n",
            "734:\tlearn: 0.0741516\ttotal: 53s\tremaining: 19.1s\n",
            "735:\tlearn: 0.0741444\ttotal: 53.1s\tremaining: 19s\n",
            "736:\tlearn: 0.0741420\ttotal: 53.1s\tremaining: 19s\n",
            "737:\tlearn: 0.0741415\ttotal: 53.3s\tremaining: 18.9s\n",
            "738:\tlearn: 0.0741392\ttotal: 53.3s\tremaining: 18.8s\n",
            "739:\tlearn: 0.0741360\ttotal: 53.4s\tremaining: 18.8s\n",
            "740:\tlearn: 0.0741348\ttotal: 53.5s\tremaining: 18.7s\n",
            "741:\tlearn: 0.0741320\ttotal: 53.5s\tremaining: 18.6s\n",
            "742:\tlearn: 0.0741304\ttotal: 53.7s\tremaining: 18.6s\n",
            "743:\tlearn: 0.0741289\ttotal: 53.7s\tremaining: 18.5s\n",
            "744:\tlearn: 0.0741259\ttotal: 53.8s\tremaining: 18.4s\n",
            "745:\tlearn: 0.0741254\ttotal: 53.9s\tremaining: 18.3s\n",
            "746:\tlearn: 0.0741242\ttotal: 53.9s\tremaining: 18.3s\n",
            "747:\tlearn: 0.0741215\ttotal: 53.9s\tremaining: 18.2s\n",
            "748:\tlearn: 0.0741193\ttotal: 54s\tremaining: 18.1s\n",
            "749:\tlearn: 0.0741173\ttotal: 54s\tremaining: 18s\n",
            "750:\tlearn: 0.0741156\ttotal: 54.1s\tremaining: 17.9s\n",
            "751:\tlearn: 0.0741132\ttotal: 54.1s\tremaining: 17.9s\n",
            "752:\tlearn: 0.0741112\ttotal: 54.2s\tremaining: 17.8s\n",
            "753:\tlearn: 0.0741078\ttotal: 54.3s\tremaining: 17.7s\n",
            "754:\tlearn: 0.0741064\ttotal: 54.3s\tremaining: 17.6s\n",
            "755:\tlearn: 0.0741059\ttotal: 54.3s\tremaining: 17.5s\n",
            "756:\tlearn: 0.0741042\ttotal: 54.4s\tremaining: 17.5s\n",
            "757:\tlearn: 0.0740962\ttotal: 54.4s\tremaining: 17.4s\n",
            "758:\tlearn: 0.0740952\ttotal: 54.5s\tremaining: 17.3s\n",
            "759:\tlearn: 0.0740915\ttotal: 54.5s\tremaining: 17.2s\n",
            "760:\tlearn: 0.0740889\ttotal: 54.6s\tremaining: 17.1s\n",
            "761:\tlearn: 0.0740823\ttotal: 54.6s\tremaining: 17.1s\n",
            "762:\tlearn: 0.0740798\ttotal: 54.6s\tremaining: 17s\n",
            "763:\tlearn: 0.0740765\ttotal: 54.7s\tremaining: 16.9s\n",
            "764:\tlearn: 0.0740750\ttotal: 54.8s\tremaining: 16.8s\n",
            "765:\tlearn: 0.0740729\ttotal: 54.8s\tremaining: 16.7s\n",
            "766:\tlearn: 0.0740709\ttotal: 54.9s\tremaining: 16.7s\n",
            "767:\tlearn: 0.0740658\ttotal: 54.9s\tremaining: 16.6s\n",
            "768:\tlearn: 0.0740649\ttotal: 54.9s\tremaining: 16.5s\n",
            "769:\tlearn: 0.0740624\ttotal: 55s\tremaining: 16.4s\n",
            "770:\tlearn: 0.0740607\ttotal: 55s\tremaining: 16.3s\n",
            "771:\tlearn: 0.0740602\ttotal: 55.1s\tremaining: 16.3s\n",
            "772:\tlearn: 0.0740589\ttotal: 55.1s\tremaining: 16.2s\n",
            "773:\tlearn: 0.0740574\ttotal: 55.2s\tremaining: 16.1s\n",
            "774:\tlearn: 0.0740552\ttotal: 55.2s\tremaining: 16s\n",
            "775:\tlearn: 0.0740160\ttotal: 55.3s\tremaining: 16s\n",
            "776:\tlearn: 0.0740156\ttotal: 55.3s\tremaining: 15.9s\n",
            "777:\tlearn: 0.0740118\ttotal: 55.4s\tremaining: 15.8s\n",
            "778:\tlearn: 0.0740106\ttotal: 55.4s\tremaining: 15.7s\n",
            "779:\tlearn: 0.0740087\ttotal: 55.5s\tremaining: 15.6s\n",
            "780:\tlearn: 0.0740075\ttotal: 55.5s\tremaining: 15.6s\n",
            "781:\tlearn: 0.0740052\ttotal: 55.6s\tremaining: 15.5s\n",
            "782:\tlearn: 0.0739785\ttotal: 55.6s\tremaining: 15.4s\n",
            "783:\tlearn: 0.0739744\ttotal: 55.7s\tremaining: 15.3s\n",
            "784:\tlearn: 0.0739735\ttotal: 55.7s\tremaining: 15.3s\n",
            "785:\tlearn: 0.0739715\ttotal: 55.8s\tremaining: 15.2s\n",
            "786:\tlearn: 0.0739711\ttotal: 55.8s\tremaining: 15.1s\n",
            "787:\tlearn: 0.0739703\ttotal: 55.9s\tremaining: 15s\n",
            "788:\tlearn: 0.0739631\ttotal: 55.9s\tremaining: 15s\n",
            "789:\tlearn: 0.0739587\ttotal: 56s\tremaining: 14.9s\n",
            "790:\tlearn: 0.0739572\ttotal: 56s\tremaining: 14.8s\n",
            "791:\tlearn: 0.0739535\ttotal: 56.1s\tremaining: 14.7s\n",
            "792:\tlearn: 0.0739503\ttotal: 56.1s\tremaining: 14.7s\n",
            "793:\tlearn: 0.0739475\ttotal: 56.2s\tremaining: 14.6s\n",
            "794:\tlearn: 0.0739465\ttotal: 56.3s\tremaining: 14.5s\n",
            "795:\tlearn: 0.0739444\ttotal: 56.3s\tremaining: 14.4s\n",
            "796:\tlearn: 0.0739403\ttotal: 56.3s\tremaining: 14.4s\n",
            "797:\tlearn: 0.0739364\ttotal: 56.4s\tremaining: 14.3s\n",
            "798:\tlearn: 0.0739319\ttotal: 56.4s\tremaining: 14.2s\n",
            "799:\tlearn: 0.0739312\ttotal: 56.5s\tremaining: 14.1s\n",
            "800:\tlearn: 0.0739284\ttotal: 56.5s\tremaining: 14s\n",
            "801:\tlearn: 0.0739248\ttotal: 56.6s\tremaining: 14s\n",
            "802:\tlearn: 0.0739237\ttotal: 56.6s\tremaining: 13.9s\n",
            "803:\tlearn: 0.0739215\ttotal: 56.7s\tremaining: 13.8s\n",
            "804:\tlearn: 0.0739186\ttotal: 56.7s\tremaining: 13.7s\n",
            "805:\tlearn: 0.0738831\ttotal: 56.8s\tremaining: 13.7s\n",
            "806:\tlearn: 0.0738776\ttotal: 56.8s\tremaining: 13.6s\n",
            "807:\tlearn: 0.0738758\ttotal: 56.8s\tremaining: 13.5s\n",
            "808:\tlearn: 0.0738730\ttotal: 56.9s\tremaining: 13.4s\n",
            "809:\tlearn: 0.0738646\ttotal: 57s\tremaining: 13.4s\n",
            "810:\tlearn: 0.0738628\ttotal: 57s\tremaining: 13.3s\n",
            "811:\tlearn: 0.0738614\ttotal: 57s\tremaining: 13.2s\n",
            "812:\tlearn: 0.0738589\ttotal: 57.1s\tremaining: 13.1s\n",
            "813:\tlearn: 0.0738556\ttotal: 57.1s\tremaining: 13.1s\n",
            "814:\tlearn: 0.0738546\ttotal: 57.2s\tremaining: 13s\n",
            "815:\tlearn: 0.0738480\ttotal: 57.2s\tremaining: 12.9s\n",
            "816:\tlearn: 0.0738460\ttotal: 57.3s\tremaining: 12.8s\n",
            "817:\tlearn: 0.0738450\ttotal: 57.3s\tremaining: 12.8s\n",
            "818:\tlearn: 0.0738399\ttotal: 57.4s\tremaining: 12.7s\n",
            "819:\tlearn: 0.0738381\ttotal: 57.4s\tremaining: 12.6s\n",
            "820:\tlearn: 0.0738362\ttotal: 57.5s\tremaining: 12.5s\n",
            "821:\tlearn: 0.0738327\ttotal: 57.5s\tremaining: 12.5s\n",
            "822:\tlearn: 0.0738317\ttotal: 57.6s\tremaining: 12.4s\n",
            "823:\tlearn: 0.0738291\ttotal: 57.6s\tremaining: 12.3s\n",
            "824:\tlearn: 0.0738274\ttotal: 57.7s\tremaining: 12.2s\n",
            "825:\tlearn: 0.0738259\ttotal: 57.7s\tremaining: 12.2s\n",
            "826:\tlearn: 0.0738249\ttotal: 57.8s\tremaining: 12.1s\n",
            "827:\tlearn: 0.0738236\ttotal: 57.8s\tremaining: 12s\n",
            "828:\tlearn: 0.0738095\ttotal: 57.9s\tremaining: 11.9s\n",
            "829:\tlearn: 0.0738048\ttotal: 58s\tremaining: 11.9s\n",
            "830:\tlearn: 0.0738039\ttotal: 58.1s\tremaining: 11.8s\n",
            "831:\tlearn: 0.0738034\ttotal: 58.1s\tremaining: 11.7s\n",
            "832:\tlearn: 0.0738022\ttotal: 58.2s\tremaining: 11.7s\n",
            "833:\tlearn: 0.0738009\ttotal: 58.2s\tremaining: 11.6s\n",
            "834:\tlearn: 0.0738005\ttotal: 58.3s\tremaining: 11.5s\n",
            "835:\tlearn: 0.0737984\ttotal: 58.4s\tremaining: 11.4s\n",
            "836:\tlearn: 0.0737972\ttotal: 58.4s\tremaining: 11.4s\n",
            "837:\tlearn: 0.0737963\ttotal: 58.5s\tremaining: 11.3s\n",
            "838:\tlearn: 0.0737946\ttotal: 58.6s\tremaining: 11.2s\n",
            "839:\tlearn: 0.0737922\ttotal: 58.6s\tremaining: 11.2s\n",
            "840:\tlearn: 0.0737890\ttotal: 58.7s\tremaining: 11.1s\n",
            "841:\tlearn: 0.0737861\ttotal: 58.8s\tremaining: 11s\n",
            "842:\tlearn: 0.0737839\ttotal: 58.9s\tremaining: 11s\n",
            "843:\tlearn: 0.0737811\ttotal: 59s\tremaining: 10.9s\n",
            "844:\tlearn: 0.0737752\ttotal: 59s\tremaining: 10.8s\n",
            "845:\tlearn: 0.0737736\ttotal: 59.1s\tremaining: 10.8s\n",
            "846:\tlearn: 0.0737716\ttotal: 59.1s\tremaining: 10.7s\n",
            "847:\tlearn: 0.0737394\ttotal: 59.2s\tremaining: 10.6s\n",
            "848:\tlearn: 0.0737367\ttotal: 59.2s\tremaining: 10.5s\n",
            "849:\tlearn: 0.0737342\ttotal: 59.3s\tremaining: 10.5s\n",
            "850:\tlearn: 0.0737333\ttotal: 59.3s\tremaining: 10.4s\n",
            "851:\tlearn: 0.0737325\ttotal: 59.3s\tremaining: 10.3s\n",
            "852:\tlearn: 0.0737322\ttotal: 59.4s\tremaining: 10.2s\n",
            "853:\tlearn: 0.0737314\ttotal: 59.4s\tremaining: 10.2s\n",
            "854:\tlearn: 0.0737266\ttotal: 59.4s\tremaining: 10.1s\n",
            "855:\tlearn: 0.0737201\ttotal: 59.5s\tremaining: 10s\n",
            "856:\tlearn: 0.0737178\ttotal: 59.5s\tremaining: 9.94s\n",
            "857:\tlearn: 0.0737167\ttotal: 59.6s\tremaining: 9.87s\n",
            "858:\tlearn: 0.0736860\ttotal: 59.7s\tremaining: 9.8s\n",
            "859:\tlearn: 0.0736849\ttotal: 59.8s\tremaining: 9.73s\n",
            "860:\tlearn: 0.0736759\ttotal: 59.9s\tremaining: 9.66s\n",
            "861:\tlearn: 0.0736735\ttotal: 59.9s\tremaining: 9.59s\n",
            "862:\tlearn: 0.0736223\ttotal: 1m\tremaining: 9.53s\n",
            "863:\tlearn: 0.0736181\ttotal: 1m\tremaining: 9.46s\n",
            "864:\tlearn: 0.0736155\ttotal: 1m\tremaining: 9.39s\n",
            "865:\tlearn: 0.0736150\ttotal: 1m\tremaining: 9.32s\n",
            "866:\tlearn: 0.0736087\ttotal: 1m\tremaining: 9.26s\n",
            "867:\tlearn: 0.0736057\ttotal: 1m\tremaining: 9.2s\n",
            "868:\tlearn: 0.0736049\ttotal: 1m\tremaining: 9.13s\n",
            "869:\tlearn: 0.0736042\ttotal: 1m\tremaining: 9.06s\n",
            "870:\tlearn: 0.0736014\ttotal: 1m\tremaining: 8.99s\n",
            "871:\tlearn: 0.0735989\ttotal: 1m\tremaining: 8.93s\n",
            "872:\tlearn: 0.0735974\ttotal: 1m\tremaining: 8.86s\n",
            "873:\tlearn: 0.0735949\ttotal: 1m 1s\tremaining: 8.79s\n",
            "874:\tlearn: 0.0735915\ttotal: 1m 1s\tremaining: 8.73s\n",
            "875:\tlearn: 0.0735875\ttotal: 1m 1s\tremaining: 8.66s\n",
            "876:\tlearn: 0.0735843\ttotal: 1m 1s\tremaining: 8.6s\n",
            "877:\tlearn: 0.0735840\ttotal: 1m 1s\tremaining: 8.53s\n",
            "878:\tlearn: 0.0735792\ttotal: 1m 1s\tremaining: 8.46s\n",
            "879:\tlearn: 0.0735498\ttotal: 1m 1s\tremaining: 8.4s\n",
            "880:\tlearn: 0.0735491\ttotal: 1m 1s\tremaining: 8.33s\n",
            "881:\tlearn: 0.0735473\ttotal: 1m 1s\tremaining: 8.26s\n",
            "882:\tlearn: 0.0735454\ttotal: 1m 1s\tremaining: 8.2s\n",
            "883:\tlearn: 0.0735439\ttotal: 1m 1s\tremaining: 8.13s\n",
            "884:\tlearn: 0.0735418\ttotal: 1m 2s\tremaining: 8.06s\n",
            "885:\tlearn: 0.0735396\ttotal: 1m 2s\tremaining: 7.99s\n",
            "886:\tlearn: 0.0735376\ttotal: 1m 2s\tremaining: 7.92s\n",
            "887:\tlearn: 0.0735358\ttotal: 1m 2s\tremaining: 7.86s\n",
            "888:\tlearn: 0.0735339\ttotal: 1m 2s\tremaining: 7.79s\n",
            "889:\tlearn: 0.0735320\ttotal: 1m 2s\tremaining: 7.72s\n",
            "890:\tlearn: 0.0735303\ttotal: 1m 2s\tremaining: 7.66s\n",
            "891:\tlearn: 0.0735286\ttotal: 1m 2s\tremaining: 7.59s\n",
            "892:\tlearn: 0.0735270\ttotal: 1m 2s\tremaining: 7.52s\n",
            "893:\tlearn: 0.0735172\ttotal: 1m 2s\tremaining: 7.45s\n",
            "894:\tlearn: 0.0735170\ttotal: 1m 2s\tremaining: 7.38s\n",
            "895:\tlearn: 0.0735155\ttotal: 1m 3s\tremaining: 7.32s\n",
            "896:\tlearn: 0.0735046\ttotal: 1m 3s\tremaining: 7.25s\n",
            "897:\tlearn: 0.0735004\ttotal: 1m 3s\tremaining: 7.18s\n",
            "898:\tlearn: 0.0734724\ttotal: 1m 3s\tremaining: 7.12s\n",
            "899:\tlearn: 0.0734709\ttotal: 1m 3s\tremaining: 7.05s\n",
            "900:\tlearn: 0.0734703\ttotal: 1m 3s\tremaining: 6.98s\n",
            "901:\tlearn: 0.0734436\ttotal: 1m 3s\tremaining: 6.91s\n",
            "902:\tlearn: 0.0734433\ttotal: 1m 3s\tremaining: 6.84s\n",
            "903:\tlearn: 0.0734423\ttotal: 1m 3s\tremaining: 6.77s\n",
            "904:\tlearn: 0.0734408\ttotal: 1m 3s\tremaining: 6.7s\n",
            "905:\tlearn: 0.0734371\ttotal: 1m 3s\tremaining: 6.64s\n",
            "906:\tlearn: 0.0734312\ttotal: 1m 4s\tremaining: 6.57s\n",
            "907:\tlearn: 0.0734057\ttotal: 1m 4s\tremaining: 6.5s\n",
            "908:\tlearn: 0.0734004\ttotal: 1m 4s\tremaining: 6.42s\n",
            "909:\tlearn: 0.0733874\ttotal: 1m 4s\tremaining: 6.35s\n",
            "910:\tlearn: 0.0733829\ttotal: 1m 4s\tremaining: 6.28s\n",
            "911:\tlearn: 0.0733814\ttotal: 1m 4s\tremaining: 6.21s\n",
            "912:\tlearn: 0.0733795\ttotal: 1m 4s\tremaining: 6.13s\n",
            "913:\tlearn: 0.0733765\ttotal: 1m 4s\tremaining: 6.06s\n",
            "914:\tlearn: 0.0733755\ttotal: 1m 4s\tremaining: 5.99s\n",
            "915:\tlearn: 0.0733749\ttotal: 1m 4s\tremaining: 5.91s\n",
            "916:\tlearn: 0.0733739\ttotal: 1m 4s\tremaining: 5.84s\n",
            "917:\tlearn: 0.0733728\ttotal: 1m 4s\tremaining: 5.76s\n",
            "918:\tlearn: 0.0733708\ttotal: 1m 4s\tremaining: 5.69s\n",
            "919:\tlearn: 0.0733627\ttotal: 1m 4s\tremaining: 5.62s\n",
            "920:\tlearn: 0.0733384\ttotal: 1m 4s\tremaining: 5.55s\n",
            "921:\tlearn: 0.0733365\ttotal: 1m 4s\tremaining: 5.47s\n",
            "922:\tlearn: 0.0733334\ttotal: 1m 4s\tremaining: 5.4s\n",
            "923:\tlearn: 0.0733181\ttotal: 1m 4s\tremaining: 5.33s\n",
            "924:\tlearn: 0.0733179\ttotal: 1m 4s\tremaining: 5.26s\n",
            "925:\tlearn: 0.0733162\ttotal: 1m 4s\tremaining: 5.18s\n",
            "926:\tlearn: 0.0733153\ttotal: 1m 4s\tremaining: 5.11s\n",
            "927:\tlearn: 0.0733097\ttotal: 1m 4s\tremaining: 5.04s\n",
            "928:\tlearn: 0.0733074\ttotal: 1m 5s\tremaining: 4.97s\n",
            "929:\tlearn: 0.0733070\ttotal: 1m 5s\tremaining: 4.9s\n",
            "930:\tlearn: 0.0733060\ttotal: 1m 5s\tremaining: 4.82s\n",
            "931:\tlearn: 0.0733043\ttotal: 1m 5s\tremaining: 4.75s\n",
            "932:\tlearn: 0.0733034\ttotal: 1m 5s\tremaining: 4.68s\n",
            "933:\tlearn: 0.0733021\ttotal: 1m 5s\tremaining: 4.61s\n",
            "934:\tlearn: 0.0732979\ttotal: 1m 5s\tremaining: 4.54s\n",
            "935:\tlearn: 0.0732931\ttotal: 1m 5s\tremaining: 4.46s\n",
            "936:\tlearn: 0.0732924\ttotal: 1m 5s\tremaining: 4.39s\n",
            "937:\tlearn: 0.0732920\ttotal: 1m 5s\tremaining: 4.32s\n",
            "938:\tlearn: 0.0732919\ttotal: 1m 5s\tremaining: 4.25s\n",
            "939:\tlearn: 0.0732693\ttotal: 1m 5s\tremaining: 4.18s\n",
            "940:\tlearn: 0.0732688\ttotal: 1m 5s\tremaining: 4.11s\n",
            "941:\tlearn: 0.0732665\ttotal: 1m 5s\tremaining: 4.04s\n",
            "942:\tlearn: 0.0732647\ttotal: 1m 5s\tremaining: 3.96s\n",
            "943:\tlearn: 0.0732627\ttotal: 1m 5s\tremaining: 3.89s\n",
            "944:\tlearn: 0.0732573\ttotal: 1m 5s\tremaining: 3.82s\n",
            "945:\tlearn: 0.0732411\ttotal: 1m 5s\tremaining: 3.75s\n",
            "946:\tlearn: 0.0732377\ttotal: 1m 5s\tremaining: 3.68s\n",
            "947:\tlearn: 0.0732338\ttotal: 1m 5s\tremaining: 3.61s\n",
            "948:\tlearn: 0.0732309\ttotal: 1m 5s\tremaining: 3.54s\n",
            "949:\tlearn: 0.0732268\ttotal: 1m 5s\tremaining: 3.47s\n",
            "950:\tlearn: 0.0732265\ttotal: 1m 5s\tremaining: 3.4s\n",
            "951:\tlearn: 0.0732256\ttotal: 1m 5s\tremaining: 3.32s\n",
            "952:\tlearn: 0.0731790\ttotal: 1m 5s\tremaining: 3.25s\n",
            "953:\tlearn: 0.0731786\ttotal: 1m 6s\tremaining: 3.18s\n",
            "954:\tlearn: 0.0731778\ttotal: 1m 6s\tremaining: 3.11s\n",
            "955:\tlearn: 0.0731767\ttotal: 1m 6s\tremaining: 3.04s\n",
            "956:\tlearn: 0.0731735\ttotal: 1m 6s\tremaining: 2.97s\n",
            "957:\tlearn: 0.0731690\ttotal: 1m 6s\tremaining: 2.9s\n",
            "958:\tlearn: 0.0731633\ttotal: 1m 6s\tremaining: 2.83s\n",
            "959:\tlearn: 0.0731593\ttotal: 1m 6s\tremaining: 2.76s\n",
            "960:\tlearn: 0.0731580\ttotal: 1m 6s\tremaining: 2.69s\n",
            "961:\tlearn: 0.0731546\ttotal: 1m 6s\tremaining: 2.62s\n",
            "962:\tlearn: 0.0731493\ttotal: 1m 6s\tremaining: 2.55s\n",
            "963:\tlearn: 0.0731282\ttotal: 1m 6s\tremaining: 2.48s\n",
            "964:\tlearn: 0.0731216\ttotal: 1m 6s\tremaining: 2.41s\n",
            "965:\tlearn: 0.0731015\ttotal: 1m 6s\tremaining: 2.34s\n",
            "966:\tlearn: 0.0731010\ttotal: 1m 6s\tremaining: 2.27s\n",
            "967:\tlearn: 0.0730969\ttotal: 1m 6s\tremaining: 2.2s\n",
            "968:\tlearn: 0.0730768\ttotal: 1m 6s\tremaining: 2.13s\n",
            "969:\tlearn: 0.0730741\ttotal: 1m 6s\tremaining: 2.06s\n",
            "970:\tlearn: 0.0730692\ttotal: 1m 6s\tremaining: 1.99s\n",
            "971:\tlearn: 0.0730683\ttotal: 1m 6s\tremaining: 1.92s\n",
            "972:\tlearn: 0.0730500\ttotal: 1m 6s\tremaining: 1.85s\n",
            "973:\tlearn: 0.0730455\ttotal: 1m 6s\tremaining: 1.78s\n",
            "974:\tlearn: 0.0730427\ttotal: 1m 6s\tremaining: 1.72s\n",
            "975:\tlearn: 0.0730423\ttotal: 1m 6s\tremaining: 1.65s\n",
            "976:\tlearn: 0.0730394\ttotal: 1m 6s\tremaining: 1.58s\n",
            "977:\tlearn: 0.0730347\ttotal: 1m 7s\tremaining: 1.51s\n",
            "978:\tlearn: 0.0730341\ttotal: 1m 7s\tremaining: 1.44s\n",
            "979:\tlearn: 0.0730304\ttotal: 1m 7s\tremaining: 1.37s\n",
            "980:\tlearn: 0.0730281\ttotal: 1m 7s\tremaining: 1.3s\n",
            "981:\tlearn: 0.0730230\ttotal: 1m 7s\tremaining: 1.23s\n",
            "982:\tlearn: 0.0730208\ttotal: 1m 7s\tremaining: 1.16s\n",
            "983:\tlearn: 0.0730206\ttotal: 1m 7s\tremaining: 1.09s\n",
            "984:\tlearn: 0.0730201\ttotal: 1m 7s\tremaining: 1.02s\n",
            "985:\tlearn: 0.0730030\ttotal: 1m 7s\tremaining: 956ms\n",
            "986:\tlearn: 0.0730022\ttotal: 1m 7s\tremaining: 888ms\n",
            "987:\tlearn: 0.0729902\ttotal: 1m 7s\tremaining: 819ms\n",
            "988:\tlearn: 0.0729874\ttotal: 1m 7s\tremaining: 751ms\n",
            "989:\tlearn: 0.0729869\ttotal: 1m 7s\tremaining: 682ms\n",
            "990:\tlearn: 0.0729849\ttotal: 1m 7s\tremaining: 614ms\n",
            "991:\tlearn: 0.0729816\ttotal: 1m 7s\tremaining: 545ms\n",
            "992:\tlearn: 0.0729766\ttotal: 1m 7s\tremaining: 477ms\n",
            "993:\tlearn: 0.0729749\ttotal: 1m 7s\tremaining: 409ms\n",
            "994:\tlearn: 0.0729739\ttotal: 1m 7s\tremaining: 340ms\n",
            "995:\tlearn: 0.0729716\ttotal: 1m 7s\tremaining: 272ms\n",
            "996:\tlearn: 0.0729699\ttotal: 1m 7s\tremaining: 204ms\n",
            "997:\tlearn: 0.0729696\ttotal: 1m 7s\tremaining: 136ms\n",
            "998:\tlearn: 0.0729692\ttotal: 1m 7s\tremaining: 67.9ms\n",
            "999:\tlearn: 0.0729690\ttotal: 1m 7s\tremaining: 0us\n"
          ]
        },
        {
          "output_type": "execute_result",
          "data": {
            "text/plain": [
              "LGBMRegressor()"
            ]
          },
          "metadata": {},
          "execution_count": 86
        }
      ]
    },
    {
      "cell_type": "code",
      "source": [
        "test_predict_CB = CB_model.predict(X_valid)"
      ],
      "metadata": {
        "id": "di89NyAyRNTE"
      },
      "execution_count": null,
      "outputs": []
    },
    {
      "cell_type": "code",
      "source": [
        "print('MSE test dataset for Catboost:', mean_squared_error(y_valid, test_predict_CB))"
      ],
      "metadata": {
        "colab": {
          "base_uri": "https://localhost:8080/"
        },
        "id": "_mOrBZJvSGKc",
        "outputId": "5643eaad-44d5-4d44-faf4-980e03f81fea"
      },
      "execution_count": null,
      "outputs": [
        {
          "output_type": "stream",
          "name": "stdout",
          "text": [
            "MAE test dataset for Catboost: 0.005137210578392914\n"
          ]
        }
      ]
    },
    {
      "cell_type": "code",
      "source": [
        "test_predict_LGB = LGB_model.predict(X_valid)"
      ],
      "metadata": {
        "id": "YAVUVG1KRa4E"
      },
      "execution_count": null,
      "outputs": []
    },
    {
      "cell_type": "code",
      "source": [
        "print('MSE test dataset for LGB:', mean_squared_error(y_valid, test_predict_LGB))"
      ],
      "metadata": {
        "colab": {
          "base_uri": "https://localhost:8080/"
        },
        "id": "-T2B45liR8yN",
        "outputId": "9b45987d-4120-41f5-ce78-b846e0eceb43"
      },
      "execution_count": null,
      "outputs": [
        {
          "output_type": "stream",
          "name": "stdout",
          "text": [
            "MAE test dataset for LGB: 0.005395915108884798\n"
          ]
        }
      ]
    }
  ],
  "metadata": {
    "colab": {
      "provenance": [],
      "include_colab_link": true
    },
    "kernelspec": {
      "display_name": "Python 3",
      "name": "python3"
    },
    "language_info": {
      "name": "python"
    }
  },
  "nbformat": 4,
  "nbformat_minor": 0
}