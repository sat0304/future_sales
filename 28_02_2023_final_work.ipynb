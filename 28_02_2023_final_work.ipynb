{
  "cells": [
    {
      "cell_type": "markdown",
      "metadata": {
        "id": "zfXb72JB4zaT"
      },
      "source": [
        "# Финальный проект\n",
        "\n",
        "## В данном задании необходимо предсказать покупки товаров в ноябре 2015 года на основе таблицы продаж за прошедшие 2 года с января 2013 по октябрь 2015."
      ]
    },
    {
      "cell_type": "code",
      "execution_count": 1,
      "metadata": {
        "id": "bxhawxri-zK7"
      },
      "outputs": [],
      "source": [
        "import matplotlib.pyplot as plt\n",
        "import numpy as np\n",
        "import pandas as pd\n",
        "import re\n",
        "import seaborn as sns"
      ]
    },
    {
      "cell_type": "code",
      "source": [
        "from google.colab import drive\n",
        "drive.mount('/content/drive')\n",
        "\n",
        "path = 'drive/MyDrive/'"
      ],
      "metadata": {
        "colab": {
          "base_uri": "https://localhost:8080/"
        },
        "id": "-LAcWeq-uRZ9",
        "outputId": "c3b7e6a1-8912-403f-f7c3-ac02d0d68a5a"
      },
      "execution_count": 2,
      "outputs": [
        {
          "output_type": "stream",
          "name": "stdout",
          "text": [
            "Mounted at /content/drive\n"
          ]
        }
      ]
    },
    {
      "cell_type": "markdown",
      "source": [
        "# 1. Чтение и преобразование исходных данных\n",
        "\n",
        "\n",
        "---\n",
        "\n"
      ],
      "metadata": {
        "id": "APclGFBJu7Ft"
      }
    },
    {
      "cell_type": "markdown",
      "source": [
        "**Таблица с категориями**"
      ],
      "metadata": {
        "id": "5GAYu62_Z3zJ"
      }
    },
    {
      "cell_type": "code",
      "execution_count": 3,
      "metadata": {
        "id": "qUn_Fmbp8mHF"
      },
      "outputs": [],
      "source": [
        "it_category = pd.read_csv(\n",
        "    filepath_or_buffer = path+\n",
        "    '/Colab Notebooks/Final_prof/item_categories.csv',\n",
        "    sep = ',')"
      ]
    },
    {
      "cell_type": "markdown",
      "source": [
        "***Свойства таблицы с категориями***"
      ],
      "metadata": {
        "id": "UolsYI91Z9iJ"
      }
    },
    {
      "cell_type": "code",
      "execution_count": 4,
      "metadata": {
        "id": "CCbvIMhM-fjc",
        "colab": {
          "base_uri": "https://localhost:8080/"
        },
        "outputId": "20bd3da6-66fd-4df3-f933-b6775dcad259"
      },
      "outputs": [
        {
          "output_type": "stream",
          "name": "stdout",
          "text": [
            "           item_category_name  item_category_id\n",
            "0     PC - Гарнитуры/Наушники                 0\n",
            "1            Аксессуары - PS2                 1\n",
            "2            Аксессуары - PS3                 2\n",
            "3            Аксессуары - PS4                 3\n",
            "4            Аксессуары - PSP                 4\n",
            "..                        ...               ...\n",
            "79                  Служебные                79\n",
            "80         Служебные - Билеты                80\n",
            "81    Чистые носители (шпиль)                81\n",
            "82  Чистые носители (штучные)                82\n",
            "83           Элементы питания                83\n",
            "\n",
            "[84 rows x 2 columns]\n",
            "\n",
            "item_category_name    84\n",
            "item_category_id      84\n",
            "dtype: int64\n"
          ]
        }
      ],
      "source": [
        "# it_category.nunique()\n",
        "# it_category.isna().sum()\n",
        "# it_category.info()\n",
        "print(it_category)\n",
        "print()\n",
        "print(it_category.nunique())"
      ]
    },
    {
      "cell_type": "markdown",
      "source": [
        "***Разделение таблицы категорий товаров на два столбца.***"
      ],
      "metadata": {
        "id": "L4cPE7nTiu0s"
      }
    },
    {
      "cell_type": "code",
      "source": [
        "def read_csv_category():\n",
        "    df_cat = it_category\n",
        "    item_category_name = df_cat['item_category_name'].tolist()\n",
        "    item_category_id = df_cat['item_category_id'].tolist()\n",
        "    return item_category_name, item_category_id"
      ],
      "metadata": {
        "id": "ExnXVo8rWyvq"
      },
      "execution_count": 5,
      "outputs": []
    },
    {
      "cell_type": "markdown",
      "source": [
        "***Добавление в столбец наименований категорий товаров одинарных кавычек справа и слева.***"
      ],
      "metadata": {
        "id": "8HPkTSUGi7C6"
      }
    },
    {
      "cell_type": "code",
      "source": [
        "def change_column(cleaned_it):\n",
        "    result_vector = []\n",
        "    for i in range(len(cleaned_it)):\n",
        "        result_vector.append('\"'\n",
        "            + cleaned_it[i] + '\"')\n",
        "    return result_vector"
      ],
      "metadata": {
        "id": "l2wZsFUUXssf"
      },
      "execution_count": 6,
      "outputs": []
    },
    {
      "cell_type": "markdown",
      "source": [
        "***Объединение таблицы категорий товаров из двух столбцов.***"
      ],
      "metadata": {
        "id": "ADEaasKmjNwz"
      }
    },
    {
      "cell_type": "code",
      "source": [
        "category_items, item_category_ids = read_csv_category()\n",
        "vector_cat = change_column(category_items)\n",
        "df_cat = pd.DataFrame({'item_category_name': vector_cat,\n",
        "                        'item_category_id': item_category_ids})\n",
        "df_cat.to_csv('item_categories.csv', index=False)"
      ],
      "metadata": {
        "id": "DfFngc0SXnQQ"
      },
      "execution_count": 7,
      "outputs": []
    },
    {
      "cell_type": "code",
      "source": [
        "df_cat"
      ],
      "metadata": {
        "colab": {
          "base_uri": "https://localhost:8080/",
          "height": 456
        },
        "id": "svch1EYDZWRp",
        "outputId": "d06d5c1c-8fe9-456a-d366-25966faccf47"
      },
      "execution_count": 8,
      "outputs": [
        {
          "output_type": "execute_result",
          "data": {
            "text/plain": [
              "             item_category_name  item_category_id\n",
              "0     \"PC - Гарнитуры/Наушники\"                 0\n",
              "1            \"Аксессуары - PS2\"                 1\n",
              "2            \"Аксессуары - PS3\"                 2\n",
              "3            \"Аксессуары - PS4\"                 3\n",
              "4            \"Аксессуары - PSP\"                 4\n",
              "..                          ...               ...\n",
              "79                  \"Служебные\"                79\n",
              "80         \"Служебные - Билеты\"                80\n",
              "81    \"Чистые носители (шпиль)\"                81\n",
              "82  \"Чистые носители (штучные)\"                82\n",
              "83           \"Элементы питания\"                83\n",
              "\n",
              "[84 rows x 2 columns]"
            ],
            "text/html": [
              "\n",
              "  <div id=\"df-f8a66f12-78f5-4c7e-a555-63b137150a8f\">\n",
              "    <div class=\"colab-df-container\">\n",
              "      <div>\n",
              "<style scoped>\n",
              "    .dataframe tbody tr th:only-of-type {\n",
              "        vertical-align: middle;\n",
              "    }\n",
              "\n",
              "    .dataframe tbody tr th {\n",
              "        vertical-align: top;\n",
              "    }\n",
              "\n",
              "    .dataframe thead th {\n",
              "        text-align: right;\n",
              "    }\n",
              "</style>\n",
              "<table border=\"1\" class=\"dataframe\">\n",
              "  <thead>\n",
              "    <tr style=\"text-align: right;\">\n",
              "      <th></th>\n",
              "      <th>item_category_name</th>\n",
              "      <th>item_category_id</th>\n",
              "    </tr>\n",
              "  </thead>\n",
              "  <tbody>\n",
              "    <tr>\n",
              "      <th>0</th>\n",
              "      <td>\"PC - Гарнитуры/Наушники\"</td>\n",
              "      <td>0</td>\n",
              "    </tr>\n",
              "    <tr>\n",
              "      <th>1</th>\n",
              "      <td>\"Аксессуары - PS2\"</td>\n",
              "      <td>1</td>\n",
              "    </tr>\n",
              "    <tr>\n",
              "      <th>2</th>\n",
              "      <td>\"Аксессуары - PS3\"</td>\n",
              "      <td>2</td>\n",
              "    </tr>\n",
              "    <tr>\n",
              "      <th>3</th>\n",
              "      <td>\"Аксессуары - PS4\"</td>\n",
              "      <td>3</td>\n",
              "    </tr>\n",
              "    <tr>\n",
              "      <th>4</th>\n",
              "      <td>\"Аксессуары - PSP\"</td>\n",
              "      <td>4</td>\n",
              "    </tr>\n",
              "    <tr>\n",
              "      <th>...</th>\n",
              "      <td>...</td>\n",
              "      <td>...</td>\n",
              "    </tr>\n",
              "    <tr>\n",
              "      <th>79</th>\n",
              "      <td>\"Служебные\"</td>\n",
              "      <td>79</td>\n",
              "    </tr>\n",
              "    <tr>\n",
              "      <th>80</th>\n",
              "      <td>\"Служебные - Билеты\"</td>\n",
              "      <td>80</td>\n",
              "    </tr>\n",
              "    <tr>\n",
              "      <th>81</th>\n",
              "      <td>\"Чистые носители (шпиль)\"</td>\n",
              "      <td>81</td>\n",
              "    </tr>\n",
              "    <tr>\n",
              "      <th>82</th>\n",
              "      <td>\"Чистые носители (штучные)\"</td>\n",
              "      <td>82</td>\n",
              "    </tr>\n",
              "    <tr>\n",
              "      <th>83</th>\n",
              "      <td>\"Элементы питания\"</td>\n",
              "      <td>83</td>\n",
              "    </tr>\n",
              "  </tbody>\n",
              "</table>\n",
              "<p>84 rows × 2 columns</p>\n",
              "</div>\n",
              "      <button class=\"colab-df-convert\" onclick=\"convertToInteractive('df-f8a66f12-78f5-4c7e-a555-63b137150a8f')\"\n",
              "              title=\"Convert this dataframe to an interactive table.\"\n",
              "              style=\"display:none;\">\n",
              "        \n",
              "  <svg xmlns=\"http://www.w3.org/2000/svg\" height=\"24px\"viewBox=\"0 0 24 24\"\n",
              "       width=\"24px\">\n",
              "    <path d=\"M0 0h24v24H0V0z\" fill=\"none\"/>\n",
              "    <path d=\"M18.56 5.44l.94 2.06.94-2.06 2.06-.94-2.06-.94-.94-2.06-.94 2.06-2.06.94zm-11 1L8.5 8.5l.94-2.06 2.06-.94-2.06-.94L8.5 2.5l-.94 2.06-2.06.94zm10 10l.94 2.06.94-2.06 2.06-.94-2.06-.94-.94-2.06-.94 2.06-2.06.94z\"/><path d=\"M17.41 7.96l-1.37-1.37c-.4-.4-.92-.59-1.43-.59-.52 0-1.04.2-1.43.59L10.3 9.45l-7.72 7.72c-.78.78-.78 2.05 0 2.83L4 21.41c.39.39.9.59 1.41.59.51 0 1.02-.2 1.41-.59l7.78-7.78 2.81-2.81c.8-.78.8-2.07 0-2.86zM5.41 20L4 18.59l7.72-7.72 1.47 1.35L5.41 20z\"/>\n",
              "  </svg>\n",
              "      </button>\n",
              "      \n",
              "  <style>\n",
              "    .colab-df-container {\n",
              "      display:flex;\n",
              "      flex-wrap:wrap;\n",
              "      gap: 12px;\n",
              "    }\n",
              "\n",
              "    .colab-df-convert {\n",
              "      background-color: #E8F0FE;\n",
              "      border: none;\n",
              "      border-radius: 50%;\n",
              "      cursor: pointer;\n",
              "      display: none;\n",
              "      fill: #1967D2;\n",
              "      height: 32px;\n",
              "      padding: 0 0 0 0;\n",
              "      width: 32px;\n",
              "    }\n",
              "\n",
              "    .colab-df-convert:hover {\n",
              "      background-color: #E2EBFA;\n",
              "      box-shadow: 0px 1px 2px rgba(60, 64, 67, 0.3), 0px 1px 3px 1px rgba(60, 64, 67, 0.15);\n",
              "      fill: #174EA6;\n",
              "    }\n",
              "\n",
              "    [theme=dark] .colab-df-convert {\n",
              "      background-color: #3B4455;\n",
              "      fill: #D2E3FC;\n",
              "    }\n",
              "\n",
              "    [theme=dark] .colab-df-convert:hover {\n",
              "      background-color: #434B5C;\n",
              "      box-shadow: 0px 1px 3px 1px rgba(0, 0, 0, 0.15);\n",
              "      filter: drop-shadow(0px 1px 2px rgba(0, 0, 0, 0.3));\n",
              "      fill: #FFFFFF;\n",
              "    }\n",
              "  </style>\n",
              "\n",
              "      <script>\n",
              "        const buttonEl =\n",
              "          document.querySelector('#df-f8a66f12-78f5-4c7e-a555-63b137150a8f button.colab-df-convert');\n",
              "        buttonEl.style.display =\n",
              "          google.colab.kernel.accessAllowed ? 'block' : 'none';\n",
              "\n",
              "        async function convertToInteractive(key) {\n",
              "          const element = document.querySelector('#df-f8a66f12-78f5-4c7e-a555-63b137150a8f');\n",
              "          const dataTable =\n",
              "            await google.colab.kernel.invokeFunction('convertToInteractive',\n",
              "                                                     [key], {});\n",
              "          if (!dataTable) return;\n",
              "\n",
              "          const docLinkHtml = 'Like what you see? Visit the ' +\n",
              "            '<a target=\"_blank\" href=https://colab.research.google.com/notebooks/data_table.ipynb>data table notebook</a>'\n",
              "            + ' to learn more about interactive tables.';\n",
              "          element.innerHTML = '';\n",
              "          dataTable['output_type'] = 'display_data';\n",
              "          await google.colab.output.renderOutput(dataTable, element);\n",
              "          const docLink = document.createElement('div');\n",
              "          docLink.innerHTML = docLinkHtml;\n",
              "          element.appendChild(docLink);\n",
              "        }\n",
              "      </script>\n",
              "    </div>\n",
              "  </div>\n",
              "  "
            ]
          },
          "metadata": {},
          "execution_count": 8
        }
      ]
    },
    {
      "cell_type": "markdown",
      "source": [
        "***Таблица с товарами***"
      ],
      "metadata": {
        "id": "dG0RY05PaJjw"
      }
    },
    {
      "cell_type": "code",
      "execution_count": 9,
      "metadata": {
        "id": "YRTtnJQF-95F"
      },
      "outputs": [],
      "source": [
        "items = pd.read_csv(\n",
        "    filepath_or_buffer = path + \n",
        "    \"/Colab Notebooks/Final_prof/items.csv\",\n",
        "    sep = ',')"
      ]
    },
    {
      "cell_type": "markdown",
      "source": [
        "***Свойства таблицы с товарами***"
      ],
      "metadata": {
        "id": "HvFQN-0OaFmQ"
      }
    },
    {
      "cell_type": "code",
      "execution_count": 10,
      "metadata": {
        "id": "mBt7kZgH-97Q",
        "colab": {
          "base_uri": "https://localhost:8080/"
        },
        "outputId": "8cfe5ccf-24d2-474c-da13-3f3cf1bcc4ed"
      },
      "outputs": [
        {
          "output_type": "stream",
          "name": "stdout",
          "text": [
            "                                               item_name  item_id  \\\n",
            "0              ! ВО ВЛАСТИ НАВАЖДЕНИЯ (ПЛАСТ.)         D        0   \n",
            "1      !ABBYY FineReader 12 Professional Edition Full...        1   \n",
            "2          ***В ЛУЧАХ СЛАВЫ   (UNV)                    D        2   \n",
            "3        ***ГОЛУБАЯ ВОЛНА  (Univ)                      D        3   \n",
            "4            ***КОРОБКА (СТЕКЛО)                       D        4   \n",
            "...                                                  ...      ...   \n",
            "22165             Ядерный титбит 2 [PC, Цифровая версия]    22165   \n",
            "22166    Язык запросов 1С:Предприятия  [Цифровая версия]    22166   \n",
            "22167  Язык запросов 1С:Предприятия 8 (+CD). Хрустале...    22167   \n",
            "22168                                Яйцо для Little Inu    22168   \n",
            "22169                      Яйцо дракона (Игра престолов)    22169   \n",
            "\n",
            "       item_category_id  \n",
            "0                    40  \n",
            "1                    76  \n",
            "2                    40  \n",
            "3                    40  \n",
            "4                    40  \n",
            "...                 ...  \n",
            "22165                31  \n",
            "22166                54  \n",
            "22167                49  \n",
            "22168                62  \n",
            "22169                69  \n",
            "\n",
            "[22170 rows x 3 columns]\n",
            "\n",
            "item_name           22170\n",
            "item_id             22170\n",
            "item_category_id       84\n",
            "dtype: int64\n"
          ]
        }
      ],
      "source": [
        "# items.isna().sum()\n",
        "# items.info()\n",
        "print(items)\n",
        "print()\n",
        "print(items.nunique())"
      ]
    },
    {
      "cell_type": "markdown",
      "source": [
        "***Разделение таблицы товаров на три столбца.***"
      ],
      "metadata": {
        "id": "3AVK8XnwjcqK"
      }
    },
    {
      "cell_type": "code",
      "source": [
        "def read_csv_items():\n",
        "    df = items\n",
        "    name_item = df['item_name'].tolist()\n",
        "    item_id = df['item_id'].tolist()\n",
        "    item_category_id = df['item_category_id'].tolist()\n",
        "    return name_item, item_id, item_category_id"
      ],
      "metadata": {
        "id": "x3v5a4cuZ7EI"
      },
      "execution_count": 11,
      "outputs": []
    },
    {
      "cell_type": "markdown",
      "source": [
        "***Удаление в столбце товаров лишних пробелов, знаков: !, *, /.***"
      ],
      "metadata": {
        "id": "o8mYZbuOjhMF"
      }
    },
    {
      "cell_type": "code",
      "source": [
        "def clean_list(vector_items):\n",
        "    cleaned_items = []\n",
        "    for i in range(len(vector_items)):\n",
        "        char = vector_items[i]\n",
        "        char = re.sub(' +', ' ', char)\n",
        "        first_rem = re.match(r'^[*|/|!]+', char)\n",
        "        last_rem = re.match(r'(.+\\s[D])$', char)\n",
        "        if first_rem and last_rem:\n",
        "            char = char.replace(first_rem.group(0), '')\n",
        "            char = char.replace(char[-1], '')\n",
        "            char = re.sub(r'^ +', '', char)\n",
        "            char = re.sub(r' +$', '', char)\n",
        "            cleaned_items.append(char)\n",
        "        elif first_rem:\n",
        "            char = char.replace(first_rem.group(0), '')\n",
        "            char = re.sub(r'^ +', '', char)\n",
        "            cleaned_items.append(char)\n",
        "        elif last_rem:\n",
        "            char = char.replace(char[-1], '')\n",
        "            char = re.sub(r' +$', '', char)\n",
        "            cleaned_items.append(char)\n",
        "        else:\n",
        "            cleaned_items.append(char)\n",
        "    return cleaned_items"
      ],
      "metadata": {
        "id": "FQtgQivzaKo4"
      },
      "execution_count": 12,
      "outputs": []
    },
    {
      "cell_type": "markdown",
      "source": [
        "***Добавление кавычек в столбец наименований товаров.***"
      ],
      "metadata": {
        "id": "V3EYr5gFkRkL"
      }
    },
    {
      "cell_type": "code",
      "source": [
        "def change_column(cleaned_it):\n",
        "    result_vector = []\n",
        "    for i in range(len(cleaned_it)):\n",
        "        result_vector.append('\"'\n",
        "            + cleaned_it[i] + '\"')\n",
        "    return result_vector"
      ],
      "metadata": {
        "id": "0Mk5yag4aUUY"
      },
      "execution_count": 13,
      "outputs": []
    },
    {
      "cell_type": "code",
      "source": [
        "name_items, item_ids, item_category_ids = read_csv_items()\n",
        "cleaned_items = clean_list(name_items)\n",
        "vector_items = change_column(cleaned_items)\n",
        "df_items = pd.DataFrame({'item_name': vector_items,\n",
        "                    'item_id': item_ids,\n",
        "                    'item_category_id': item_category_ids})\n",
        "df_items.to_csv('items.csv', index=False)"
      ],
      "metadata": {
        "id": "M38UKouLadVA"
      },
      "execution_count": 14,
      "outputs": []
    },
    {
      "cell_type": "code",
      "source": [
        "df_items"
      ],
      "metadata": {
        "colab": {
          "base_uri": "https://localhost:8080/",
          "height": 456
        },
        "id": "KBth1WOZatn5",
        "outputId": "f3e0fd10-4557-413d-c88f-b278d67d53fe"
      },
      "execution_count": 15,
      "outputs": [
        {
          "output_type": "execute_result",
          "data": {
            "text/plain": [
              "                                               item_name  item_id  \\\n",
              "0                        \"ВО ВЛАСТИ НАВАЖДЕНИЯ (ПЛАСТ.)\"        0   \n",
              "1      \"ABBYY FineReader 12 Professional Edition Full...        1   \n",
              "2                                  \"В ЛУЧАХ СЛАВЫ (UNV)\"        2   \n",
              "3                                 \"ГОЛУБАЯ ВОЛНА (Univ)\"        3   \n",
              "4                                     \"КОРОБКА (СТЕКЛО)\"        4   \n",
              "...                                                  ...      ...   \n",
              "22165           \"Ядерный титбит 2 [PC, Цифровая версия]\"    22165   \n",
              "22166   \"Язык запросов 1С:Предприятия [Цифровая версия]\"    22166   \n",
              "22167  \"Язык запросов 1С:Предприятия 8 (+CD). Хрустал...    22167   \n",
              "22168                              \"Яйцо для Little Inu\"    22168   \n",
              "22169                    \"Яйцо дракона (Игра престолов)\"    22169   \n",
              "\n",
              "       item_category_id  \n",
              "0                    40  \n",
              "1                    76  \n",
              "2                    40  \n",
              "3                    40  \n",
              "4                    40  \n",
              "...                 ...  \n",
              "22165                31  \n",
              "22166                54  \n",
              "22167                49  \n",
              "22168                62  \n",
              "22169                69  \n",
              "\n",
              "[22170 rows x 3 columns]"
            ],
            "text/html": [
              "\n",
              "  <div id=\"df-3354a843-5301-4106-840b-bf327ed05f64\">\n",
              "    <div class=\"colab-df-container\">\n",
              "      <div>\n",
              "<style scoped>\n",
              "    .dataframe tbody tr th:only-of-type {\n",
              "        vertical-align: middle;\n",
              "    }\n",
              "\n",
              "    .dataframe tbody tr th {\n",
              "        vertical-align: top;\n",
              "    }\n",
              "\n",
              "    .dataframe thead th {\n",
              "        text-align: right;\n",
              "    }\n",
              "</style>\n",
              "<table border=\"1\" class=\"dataframe\">\n",
              "  <thead>\n",
              "    <tr style=\"text-align: right;\">\n",
              "      <th></th>\n",
              "      <th>item_name</th>\n",
              "      <th>item_id</th>\n",
              "      <th>item_category_id</th>\n",
              "    </tr>\n",
              "  </thead>\n",
              "  <tbody>\n",
              "    <tr>\n",
              "      <th>0</th>\n",
              "      <td>\"ВО ВЛАСТИ НАВАЖДЕНИЯ (ПЛАСТ.)\"</td>\n",
              "      <td>0</td>\n",
              "      <td>40</td>\n",
              "    </tr>\n",
              "    <tr>\n",
              "      <th>1</th>\n",
              "      <td>\"ABBYY FineReader 12 Professional Edition Full...</td>\n",
              "      <td>1</td>\n",
              "      <td>76</td>\n",
              "    </tr>\n",
              "    <tr>\n",
              "      <th>2</th>\n",
              "      <td>\"В ЛУЧАХ СЛАВЫ (UNV)\"</td>\n",
              "      <td>2</td>\n",
              "      <td>40</td>\n",
              "    </tr>\n",
              "    <tr>\n",
              "      <th>3</th>\n",
              "      <td>\"ГОЛУБАЯ ВОЛНА (Univ)\"</td>\n",
              "      <td>3</td>\n",
              "      <td>40</td>\n",
              "    </tr>\n",
              "    <tr>\n",
              "      <th>4</th>\n",
              "      <td>\"КОРОБКА (СТЕКЛО)\"</td>\n",
              "      <td>4</td>\n",
              "      <td>40</td>\n",
              "    </tr>\n",
              "    <tr>\n",
              "      <th>...</th>\n",
              "      <td>...</td>\n",
              "      <td>...</td>\n",
              "      <td>...</td>\n",
              "    </tr>\n",
              "    <tr>\n",
              "      <th>22165</th>\n",
              "      <td>\"Ядерный титбит 2 [PC, Цифровая версия]\"</td>\n",
              "      <td>22165</td>\n",
              "      <td>31</td>\n",
              "    </tr>\n",
              "    <tr>\n",
              "      <th>22166</th>\n",
              "      <td>\"Язык запросов 1С:Предприятия [Цифровая версия]\"</td>\n",
              "      <td>22166</td>\n",
              "      <td>54</td>\n",
              "    </tr>\n",
              "    <tr>\n",
              "      <th>22167</th>\n",
              "      <td>\"Язык запросов 1С:Предприятия 8 (+CD). Хрустал...</td>\n",
              "      <td>22167</td>\n",
              "      <td>49</td>\n",
              "    </tr>\n",
              "    <tr>\n",
              "      <th>22168</th>\n",
              "      <td>\"Яйцо для Little Inu\"</td>\n",
              "      <td>22168</td>\n",
              "      <td>62</td>\n",
              "    </tr>\n",
              "    <tr>\n",
              "      <th>22169</th>\n",
              "      <td>\"Яйцо дракона (Игра престолов)\"</td>\n",
              "      <td>22169</td>\n",
              "      <td>69</td>\n",
              "    </tr>\n",
              "  </tbody>\n",
              "</table>\n",
              "<p>22170 rows × 3 columns</p>\n",
              "</div>\n",
              "      <button class=\"colab-df-convert\" onclick=\"convertToInteractive('df-3354a843-5301-4106-840b-bf327ed05f64')\"\n",
              "              title=\"Convert this dataframe to an interactive table.\"\n",
              "              style=\"display:none;\">\n",
              "        \n",
              "  <svg xmlns=\"http://www.w3.org/2000/svg\" height=\"24px\"viewBox=\"0 0 24 24\"\n",
              "       width=\"24px\">\n",
              "    <path d=\"M0 0h24v24H0V0z\" fill=\"none\"/>\n",
              "    <path d=\"M18.56 5.44l.94 2.06.94-2.06 2.06-.94-2.06-.94-.94-2.06-.94 2.06-2.06.94zm-11 1L8.5 8.5l.94-2.06 2.06-.94-2.06-.94L8.5 2.5l-.94 2.06-2.06.94zm10 10l.94 2.06.94-2.06 2.06-.94-2.06-.94-.94-2.06-.94 2.06-2.06.94z\"/><path d=\"M17.41 7.96l-1.37-1.37c-.4-.4-.92-.59-1.43-.59-.52 0-1.04.2-1.43.59L10.3 9.45l-7.72 7.72c-.78.78-.78 2.05 0 2.83L4 21.41c.39.39.9.59 1.41.59.51 0 1.02-.2 1.41-.59l7.78-7.78 2.81-2.81c.8-.78.8-2.07 0-2.86zM5.41 20L4 18.59l7.72-7.72 1.47 1.35L5.41 20z\"/>\n",
              "  </svg>\n",
              "      </button>\n",
              "      \n",
              "  <style>\n",
              "    .colab-df-container {\n",
              "      display:flex;\n",
              "      flex-wrap:wrap;\n",
              "      gap: 12px;\n",
              "    }\n",
              "\n",
              "    .colab-df-convert {\n",
              "      background-color: #E8F0FE;\n",
              "      border: none;\n",
              "      border-radius: 50%;\n",
              "      cursor: pointer;\n",
              "      display: none;\n",
              "      fill: #1967D2;\n",
              "      height: 32px;\n",
              "      padding: 0 0 0 0;\n",
              "      width: 32px;\n",
              "    }\n",
              "\n",
              "    .colab-df-convert:hover {\n",
              "      background-color: #E2EBFA;\n",
              "      box-shadow: 0px 1px 2px rgba(60, 64, 67, 0.3), 0px 1px 3px 1px rgba(60, 64, 67, 0.15);\n",
              "      fill: #174EA6;\n",
              "    }\n",
              "\n",
              "    [theme=dark] .colab-df-convert {\n",
              "      background-color: #3B4455;\n",
              "      fill: #D2E3FC;\n",
              "    }\n",
              "\n",
              "    [theme=dark] .colab-df-convert:hover {\n",
              "      background-color: #434B5C;\n",
              "      box-shadow: 0px 1px 3px 1px rgba(0, 0, 0, 0.15);\n",
              "      filter: drop-shadow(0px 1px 2px rgba(0, 0, 0, 0.3));\n",
              "      fill: #FFFFFF;\n",
              "    }\n",
              "  </style>\n",
              "\n",
              "      <script>\n",
              "        const buttonEl =\n",
              "          document.querySelector('#df-3354a843-5301-4106-840b-bf327ed05f64 button.colab-df-convert');\n",
              "        buttonEl.style.display =\n",
              "          google.colab.kernel.accessAllowed ? 'block' : 'none';\n",
              "\n",
              "        async function convertToInteractive(key) {\n",
              "          const element = document.querySelector('#df-3354a843-5301-4106-840b-bf327ed05f64');\n",
              "          const dataTable =\n",
              "            await google.colab.kernel.invokeFunction('convertToInteractive',\n",
              "                                                     [key], {});\n",
              "          if (!dataTable) return;\n",
              "\n",
              "          const docLinkHtml = 'Like what you see? Visit the ' +\n",
              "            '<a target=\"_blank\" href=https://colab.research.google.com/notebooks/data_table.ipynb>data table notebook</a>'\n",
              "            + ' to learn more about interactive tables.';\n",
              "          element.innerHTML = '';\n",
              "          dataTable['output_type'] = 'display_data';\n",
              "          await google.colab.output.renderOutput(dataTable, element);\n",
              "          const docLink = document.createElement('div');\n",
              "          docLink.innerHTML = docLinkHtml;\n",
              "          element.appendChild(docLink);\n",
              "        }\n",
              "      </script>\n",
              "    </div>\n",
              "  </div>\n",
              "  "
            ]
          },
          "metadata": {},
          "execution_count": 15
        }
      ]
    },
    {
      "cell_type": "markdown",
      "source": [
        "**Таблица продаж для обучения**"
      ],
      "metadata": {
        "id": "FYhZpYpOaQcN"
      }
    },
    {
      "cell_type": "code",
      "execution_count": 16,
      "metadata": {
        "id": "-rSZCrJTAF-W"
      },
      "outputs": [],
      "source": [
        "sales_train = pd.read_csv(\n",
        "    filepath_or_buffer = path + \n",
        "    \"/Colab Notebooks/Final_prof/sales_train.csv\",\n",
        "    sep = ',')"
      ]
    },
    {
      "cell_type": "markdown",
      "source": [
        "***Свойства таблицы продаж***"
      ],
      "metadata": {
        "id": "u8YdHRVJacW4"
      }
    },
    {
      "cell_type": "code",
      "execution_count": 17,
      "metadata": {
        "id": "mVJaqGY5APCo",
        "colab": {
          "base_uri": "https://localhost:8080/"
        },
        "outputId": "5b33785c-d6e1-47a0-dce2-207710dde686"
      },
      "outputs": [
        {
          "output_type": "stream",
          "name": "stdout",
          "text": [
            "               date  date_block_num  shop_id  item_id  item_price  \\\n",
            "0        02.01.2013               0       59    22154      999.00   \n",
            "1        03.01.2013               0       25     2552      899.00   \n",
            "2        05.01.2013               0       25     2552      899.00   \n",
            "3        06.01.2013               0       25     2554     1709.05   \n",
            "4        15.01.2013               0       25     2555     1099.00   \n",
            "...             ...             ...      ...      ...         ...   \n",
            "2935844  10.10.2015              33       25     7409      299.00   \n",
            "2935845  09.10.2015              33       25     7460      299.00   \n",
            "2935846  14.10.2015              33       25     7459      349.00   \n",
            "2935847  22.10.2015              33       25     7440      299.00   \n",
            "2935848  03.10.2015              33       25     7460      299.00   \n",
            "\n",
            "         item_cnt_day  \n",
            "0                 1.0  \n",
            "1                 1.0  \n",
            "2                -1.0  \n",
            "3                 1.0  \n",
            "4                 1.0  \n",
            "...               ...  \n",
            "2935844           1.0  \n",
            "2935845           1.0  \n",
            "2935846           1.0  \n",
            "2935847           1.0  \n",
            "2935848           1.0  \n",
            "\n",
            "[2935849 rows x 6 columns]\n",
            "\n",
            "date               1034\n",
            "date_block_num       34\n",
            "shop_id              60\n",
            "item_id           21807\n",
            "item_price        19993\n",
            "item_cnt_day        198\n",
            "dtype: int64\n"
          ]
        }
      ],
      "source": [
        "# sales_train.isna().sum()\n",
        "# sales_train.info()\n",
        "print(sales_train)\n",
        "print()\n",
        "print(sales_train.nunique())"
      ]
    },
    {
      "cell_type": "markdown",
      "source": [
        "***Таблица с образцом результата***"
      ],
      "metadata": {
        "id": "TWnK3l09ag0w"
      }
    },
    {
      "cell_type": "code",
      "execution_count": 80,
      "metadata": {
        "id": "c_IvCJzCAW8b"
      },
      "outputs": [],
      "source": [
        "sample_submission = pd.read_csv(\n",
        "    filepath_or_buffer = path + \n",
        "    \"/Colab Notebooks/Final_prof/sample_submission.csv\",\n",
        "    sep = ',')"
      ]
    },
    {
      "cell_type": "markdown",
      "source": [
        "***Свойства таблицы с образцами результатов***"
      ],
      "metadata": {
        "id": "S9x695liapkJ"
      }
    },
    {
      "cell_type": "code",
      "source": [
        "# sample_submission.isna().sum()\n",
        "# sample_submission.info()\n",
        "print(sample_submission)\n",
        "print()\n",
        "print(sample_submission.nunique())"
      ],
      "metadata": {
        "colab": {
          "base_uri": "https://localhost:8080/"
        },
        "id": "eMuRpUgi4_N5",
        "outputId": "005b3cc8-7cdf-4619-874a-8648d7dc5ca7"
      },
      "execution_count": 81,
      "outputs": [
        {
          "output_type": "stream",
          "name": "stdout",
          "text": [
            "            ID  item_cnt_month\n",
            "0            0             0.5\n",
            "1            1             0.5\n",
            "2            2             0.5\n",
            "3            3             0.5\n",
            "4            4             0.5\n",
            "...        ...             ...\n",
            "214195  214195             0.5\n",
            "214196  214196             0.5\n",
            "214197  214197             0.5\n",
            "214198  214198             0.5\n",
            "214199  214199             0.5\n",
            "\n",
            "[214200 rows x 2 columns]\n",
            "\n",
            "ID                214200\n",
            "item_cnt_month         1\n",
            "dtype: int64\n"
          ]
        }
      ]
    },
    {
      "cell_type": "markdown",
      "source": [
        "***Таблица с наименованием магазинов***"
      ],
      "metadata": {
        "id": "MiBlL1jdau9A"
      }
    },
    {
      "cell_type": "code",
      "source": [
        "shops = pd.read_csv(\n",
        "    filepath_or_buffer = path + \n",
        "    \"/Colab Notebooks/Final_prof/shops.csv\",\n",
        "    sep = ',')"
      ],
      "metadata": {
        "id": "P9DEreEi5gQp"
      },
      "execution_count": 82,
      "outputs": []
    },
    {
      "cell_type": "markdown",
      "source": [
        "***Свойства таблицы с наименованием магазинов***"
      ],
      "metadata": {
        "id": "8G2C4UKxa4Qg"
      }
    },
    {
      "cell_type": "code",
      "source": [
        "# shops.isna().sum()\n",
        "# shops.info()\n",
        "print(shops)\n",
        "print()\n",
        "print(shops.nunique())"
      ],
      "metadata": {
        "colab": {
          "base_uri": "https://localhost:8080/"
        },
        "id": "fBK0UcrV5piw",
        "outputId": "a14dd6a2-1ffa-4c32-ff95-81e766341c95"
      },
      "execution_count": 83,
      "outputs": [
        {
          "output_type": "stream",
          "name": "stdout",
          "text": [
            "                                          shop_name  shop_id\n",
            "0                     !Якутск Орджоникидзе, 56 фран        0\n",
            "1                     !Якутск ТЦ \"Центральный\" фран        1\n",
            "2                                  Адыгея ТЦ \"Мега\"        2\n",
            "3                    Балашиха ТРК \"Октябрь-Киномир\"        3\n",
            "4                          Волжский ТЦ \"Волга Молл\"        4\n",
            "5                            Вологда ТРЦ \"Мармелад\"        5\n",
            "6                        Воронеж (Плехановская, 13)        6\n",
            "7                            Воронеж ТРЦ \"Максимир\"        7\n",
            "8                      Воронеж ТРЦ Сити-Парк \"Град\"        8\n",
            "9                                 Выездная Торговля        9\n",
            "10                       Жуковский ул. Чкалова 39м?       10\n",
            "11                       Жуковский ул. Чкалова 39м²       11\n",
            "12                              Интернет-магазин ЧС       12\n",
            "13                              Казань ТЦ \"Бехетле\"       13\n",
            "14                          Казань ТЦ \"ПаркХаус\" II       14\n",
            "15                             Калуга ТРЦ \"XXI век\"       15\n",
            "16                                 Коломна ТЦ \"Рио\"       16\n",
            "17                    Красноярск ТЦ \"Взлетка Плаза\"       17\n",
            "18                             Красноярск ТЦ \"Июнь\"       18\n",
            "19                            Курск ТЦ \"Пушкинский\"       19\n",
            "20                              Москва \"Распродажа\"       20\n",
            "21                           Москва МТРЦ \"Афи Молл\"       21\n",
            "22                               Москва Магазин С21       22\n",
            "23                 Москва ТК \"Буденовский\" (пав.А2)       23\n",
            "24                 Москва ТК \"Буденовский\" (пав.К7)       24\n",
            "25                              Москва ТРК \"Атриум\"       25\n",
            "26                      Москва ТЦ \"Ареал\" (Беляево)       26\n",
            "27                   Москва ТЦ \"МЕГА Белая Дача II\"       27\n",
            "28                  Москва ТЦ \"МЕГА Теплый Стан\" II       28\n",
            "29               Москва ТЦ \"Новый век\" (Новокосино)       29\n",
            "30                           Москва ТЦ \"Перловский\"       30\n",
            "31                          Москва ТЦ \"Семеновский\"       31\n",
            "32                       Москва ТЦ \"Серебряный Дом\"       32\n",
            "33                                Мытищи ТРК \"XL-3\"       33\n",
            "34                             Н.Новгород ТРЦ \"РИО\"       34\n",
            "35                      Н.Новгород ТРЦ \"Фантастика\"       35\n",
            "36            Новосибирск ТРЦ \"Галерея Новосибирск\"       36\n",
            "37                            Новосибирск ТЦ \"Мега\"       37\n",
            "38                                   Омск ТЦ \"Мега\"       38\n",
            "39            РостовНаДону ТРК \"Мегацентр Горизонт\"       39\n",
            "40  РостовНаДону ТРК \"Мегацентр Горизонт\" Островной       40\n",
            "41                           РостовНаДону ТЦ \"Мега\"       41\n",
            "42                           СПб ТК \"Невский Центр\"       42\n",
            "43                                  СПб ТК \"Сенная\"       43\n",
            "44                              Самара ТЦ \"Мелодия\"       44\n",
            "45                             Самара ТЦ \"ПаркХаус\"       45\n",
            "46                            Сергиев Посад ТЦ \"7Я\"       46\n",
            "47                           Сургут ТРЦ \"Сити Молл\"       47\n",
            "48                     Томск ТРЦ \"Изумрудный Город\"       48\n",
            "49                            Тюмень ТРЦ \"Кристалл\"       49\n",
            "50                               Тюмень ТЦ \"Гудвин\"       50\n",
            "51                        Тюмень ТЦ \"Зеленый Берег\"       51\n",
            "52                             Уфа ТК \"Центральный\"       52\n",
            "53                                 Уфа ТЦ \"Семья\" 2       53\n",
            "54                                  Химки ТЦ \"Мега\"       54\n",
            "55                         Цифровой склад 1С-Онлайн       55\n",
            "56                             Чехов ТРЦ \"Карнавал\"       56\n",
            "57                          Якутск Орджоникидзе, 56       57\n",
            "58                          Якутск ТЦ \"Центральный\"       58\n",
            "59                           Ярославль ТЦ \"Альтаир\"       59\n",
            "\n",
            "shop_name    60\n",
            "shop_id      60\n",
            "dtype: int64\n"
          ]
        }
      ]
    },
    {
      "cell_type": "markdown",
      "source": [
        "***Разделение таблицы магазинов на два столбца.***"
      ],
      "metadata": {
        "id": "nJ-a_O3YloBa"
      }
    },
    {
      "cell_type": "code",
      "source": [
        "def read_csv_shops():\n",
        "    df_shop = shops\n",
        "    shop_item = df_shop['shop_name'].tolist()\n",
        "    shop_id = df_shop['shop_id'].tolist()\n",
        "    return shop_item, shop_id"
      ],
      "metadata": {
        "id": "9pFDE5AJciPg"
      },
      "execution_count": 84,
      "outputs": []
    },
    {
      "cell_type": "markdown",
      "source": [
        "Удаление в наименованиях магазинов символов !, ? и т.д."
      ],
      "metadata": {
        "id": "Pk_5lqhzlvy6"
      }
    },
    {
      "cell_type": "code",
      "source": [
        "def clean_list(vector_items):\n",
        "    cleaned_items = []\n",
        "    for i in range(len(vector_items)):\n",
        "        char = vector_items[i]\n",
        "        char = re.sub(' +', ' ', char)\n",
        "        first_rem = re.match(r'^[!]+', char)\n",
        "        last_rem = re.match(r'(.+\\w[?|²])$', char)\n",
        "        if first_rem and last_rem:\n",
        "            char = char.replace(first_rem.group(0), '')\n",
        "            char = char.replace(char[-1], '2')\n",
        "            char = re.sub(r'^ +', '', char)\n",
        "            char = re.sub(r' +$', '', char)\n",
        "            cleaned_items.append(char)\n",
        "        elif first_rem:\n",
        "            char = char.replace(first_rem.group(0), '')\n",
        "            char = re.sub(r'^ +', '', char)\n",
        "            cleaned_items.append(char)\n",
        "        elif last_rem:\n",
        "            char = char.replace(char[-1], '2')\n",
        "            char = re.sub(r' +$', '', char)\n",
        "            cleaned_items.append(char)\n",
        "        else:\n",
        "            cleaned_items.append(char)\n",
        "    return cleaned_items"
      ],
      "metadata": {
        "id": "_iF249wSc_rY"
      },
      "execution_count": 85,
      "outputs": []
    },
    {
      "cell_type": "markdown",
      "source": [
        "***Добавление в таблицу магазинов кавычек.***"
      ],
      "metadata": {
        "id": "8rebLqtkmAoM"
      }
    },
    {
      "cell_type": "code",
      "source": [
        "def change_column(cleaned_it):\n",
        "    result_vector = []\n",
        "    for i in range(len(cleaned_it)):\n",
        "        result_vector.append('\"'\n",
        "            + cleaned_it[i] + '\"')\n",
        "    return result_vector"
      ],
      "metadata": {
        "id": "C6JpRzZWddsx"
      },
      "execution_count": 86,
      "outputs": []
    },
    {
      "cell_type": "code",
      "source": [
        "shop_items, shop_ids = read_csv_shops()\n",
        "cleaned_shops = clean_list(shop_items)\n",
        "cleaned_shops[0] = 'Якутск Орджоникидзе, 56'\n",
        "cleaned_shops[1] = 'Якутск ТЦ \"Центральный\"'\n",
        "vector_shops = change_column(cleaned_shops)\n",
        "df_shop = pd.DataFrame({'shop_name': vector_shops,\n",
        "                    'shop_id': shop_ids})\n",
        "df_shop.to_csv('shops.csv', index=False)"
      ],
      "metadata": {
        "id": "T_fIz4O9dko4"
      },
      "execution_count": 87,
      "outputs": []
    },
    {
      "cell_type": "code",
      "source": [
        "# df_shop['shop_name'].duplicated()\n",
        "print(df_shop)\n",
        "print()\n",
        "print(df_shop.nunique())"
      ],
      "metadata": {
        "colab": {
          "base_uri": "https://localhost:8080/"
        },
        "id": "plS4fcqaeUYg",
        "outputId": "f4f34c6f-48ba-4277-e88f-74cb86190403"
      },
      "execution_count": 88,
      "outputs": [
        {
          "output_type": "stream",
          "name": "stdout",
          "text": [
            "                                            shop_name  shop_id\n",
            "0                           \"Якутск Орджоникидзе, 56\"        0\n",
            "1                           \"Якутск ТЦ \"Центральный\"\"        1\n",
            "2                                  \"Адыгея ТЦ \"Мега\"\"        2\n",
            "3                    \"Балашиха ТРК \"Октябрь-Киномир\"\"        3\n",
            "4                          \"Волжский ТЦ \"Волга Молл\"\"        4\n",
            "5                            \"Вологда ТРЦ \"Мармелад\"\"        5\n",
            "6                        \"Воронеж (Плехановская, 13)\"        6\n",
            "7                            \"Воронеж ТРЦ \"Максимир\"\"        7\n",
            "8                      \"Воронеж ТРЦ Сити-Парк \"Град\"\"        8\n",
            "9                                 \"Выездная Торговля\"        9\n",
            "10                       \"Жуковский ул. Чкалова 39м2\"       10\n",
            "11                       \"Жуковский ул. Чкалова 39м2\"       11\n",
            "12                              \"Интернет-магазин ЧС\"       12\n",
            "13                              \"Казань ТЦ \"Бехетле\"\"       13\n",
            "14                          \"Казань ТЦ \"ПаркХаус\" II\"       14\n",
            "15                             \"Калуга ТРЦ \"XXI век\"\"       15\n",
            "16                                 \"Коломна ТЦ \"Рио\"\"       16\n",
            "17                    \"Красноярск ТЦ \"Взлетка Плаза\"\"       17\n",
            "18                             \"Красноярск ТЦ \"Июнь\"\"       18\n",
            "19                            \"Курск ТЦ \"Пушкинский\"\"       19\n",
            "20                              \"Москва \"Распродажа\"\"       20\n",
            "21                           \"Москва МТРЦ \"Афи Молл\"\"       21\n",
            "22                               \"Москва Магазин С21\"       22\n",
            "23                 \"Москва ТК \"Буденовский\" (пав.А2)\"       23\n",
            "24                 \"Москва ТК \"Буденовский\" (пав.К7)\"       24\n",
            "25                              \"Москва ТРК \"Атриум\"\"       25\n",
            "26                      \"Москва ТЦ \"Ареал\" (Беляево)\"       26\n",
            "27                   \"Москва ТЦ \"МЕГА Белая Дача II\"\"       27\n",
            "28                  \"Москва ТЦ \"МЕГА Теплый Стан\" II\"       28\n",
            "29               \"Москва ТЦ \"Новый век\" (Новокосино)\"       29\n",
            "30                           \"Москва ТЦ \"Перловский\"\"       30\n",
            "31                          \"Москва ТЦ \"Семеновский\"\"       31\n",
            "32                       \"Москва ТЦ \"Серебряный Дом\"\"       32\n",
            "33                                \"Мытищи ТРК \"XL-3\"\"       33\n",
            "34                             \"Н.Новгород ТРЦ \"РИО\"\"       34\n",
            "35                      \"Н.Новгород ТРЦ \"Фантастика\"\"       35\n",
            "36            \"Новосибирск ТРЦ \"Галерея Новосибирск\"\"       36\n",
            "37                            \"Новосибирск ТЦ \"Мега\"\"       37\n",
            "38                                   \"Омск ТЦ \"Мега\"\"       38\n",
            "39            \"РостовНаДону ТРК \"Мегацентр Горизонт\"\"       39\n",
            "40  \"РостовНаДону ТРК \"Мегацентр Горизонт\" Островной\"       40\n",
            "41                           \"РостовНаДону ТЦ \"Мега\"\"       41\n",
            "42                           \"СПб ТК \"Невский Центр\"\"       42\n",
            "43                                  \"СПб ТК \"Сенная\"\"       43\n",
            "44                              \"Самара ТЦ \"Мелодия\"\"       44\n",
            "45                             \"Самара ТЦ \"ПаркХаус\"\"       45\n",
            "46                            \"Сергиев Посад ТЦ \"7Я\"\"       46\n",
            "47                           \"Сургут ТРЦ \"Сити Молл\"\"       47\n",
            "48                     \"Томск ТРЦ \"Изумрудный Город\"\"       48\n",
            "49                            \"Тюмень ТРЦ \"Кристалл\"\"       49\n",
            "50                               \"Тюмень ТЦ \"Гудвин\"\"       50\n",
            "51                        \"Тюмень ТЦ \"Зеленый Берег\"\"       51\n",
            "52                             \"Уфа ТК \"Центральный\"\"       52\n",
            "53                                 \"Уфа ТЦ \"Семья\" 2\"       53\n",
            "54                                  \"Химки ТЦ \"Мега\"\"       54\n",
            "55                         \"Цифровой склад 1С-Онлайн\"       55\n",
            "56                             \"Чехов ТРЦ \"Карнавал\"\"       56\n",
            "57                          \"Якутск Орджоникидзе, 56\"       57\n",
            "58                          \"Якутск ТЦ \"Центральный\"\"       58\n",
            "59                           \"Ярославль ТЦ \"Альтаир\"\"       59\n",
            "\n",
            "shop_name    57\n",
            "shop_id      60\n",
            "dtype: int64\n"
          ]
        }
      ]
    },
    {
      "cell_type": "markdown",
      "source": [
        "***Тестовая таблица для проверки модели***"
      ],
      "metadata": {
        "id": "vXSJLCApa5zw"
      }
    },
    {
      "cell_type": "code",
      "source": [
        "test = pd.read_csv(\n",
        "    filepath_or_buffer = path + \n",
        "    \"/Colab Notebooks/Final_prof/test.csv\",\n",
        "    sep = ',')"
      ],
      "metadata": {
        "id": "xq0kJVlM59G_"
      },
      "execution_count": 89,
      "outputs": []
    },
    {
      "cell_type": "markdown",
      "source": [
        "***Свойства тестовой таблицы***"
      ],
      "metadata": {
        "id": "WU7CG1rfbDlg"
      }
    },
    {
      "cell_type": "code",
      "source": [
        "# test.nunique()\n",
        "# test.isna().sum()\n",
        "# test.info()\n",
        "print(test)\n",
        "print()\n",
        "print(test.nunique())"
      ],
      "metadata": {
        "colab": {
          "base_uri": "https://localhost:8080/"
        },
        "id": "upTxpqT26CxZ",
        "outputId": "bdabc309-23b9-4855-f36a-931f4719fadf"
      },
      "execution_count": 90,
      "outputs": [
        {
          "output_type": "stream",
          "name": "stdout",
          "text": [
            "            ID  shop_id  item_id\n",
            "0            0        5     5037\n",
            "1            1        5     5320\n",
            "2            2        5     5233\n",
            "3            3        5     5232\n",
            "4            4        5     5268\n",
            "...        ...      ...      ...\n",
            "214195  214195       45    18454\n",
            "214196  214196       45    16188\n",
            "214197  214197       45    15757\n",
            "214198  214198       45    19648\n",
            "214199  214199       45      969\n",
            "\n",
            "[214200 rows x 3 columns]\n",
            "\n",
            "ID         214200\n",
            "shop_id        42\n",
            "item_id      5100\n",
            "dtype: int64\n"
          ]
        }
      ]
    },
    {
      "cell_type": "markdown",
      "source": [
        "**График распределения проданных товаров по категориям**"
      ],
      "metadata": {
        "id": "1bOcCEW0ZWCL"
      }
    },
    {
      "cell_type": "code",
      "source": [
        "plt.rcParams['figure.figsize'] = (19, 9)\n",
        "# sns.scatterplot(data=items, x='item_category_id', y='item_id')\n",
        "sns.barplot(data=items, x='item_category_id', y='item_id')\n",
        "# sns.boxenplot(data=items, x='item_category_id', y='item_id')\n",
        "# sns.violinplot(data=items, x='item_category_id', y='item_id')\n",
        "# sns.countplot(data=items, y='item_id')\n",
        "# sns.countplot(data=items, x='item_category_id')\n",
        "# sns.pointplot(data=items, x='item_category_id', y='item_id')\n",
        "# sns.lineplot(data=items, x='item_category_id', y='item_id')\n",
        "# sns.stripplot(data=items, x='item_category_id', y='item_id')\n",
        "# sns.swarmplot(data=items, x='item_category_id', y='item_id')\n",
        "# sns.pairplot(data=items, x_vars='item_category_id', y_vars='item_id', kind='hist')\n",
        "# sns.pairplot(items, kind=\"kde\")\n",
        "plt.title('Подсчет товаров по категориям', fontsize = 30)\n",
        "plt.xlabel('Категории', fontsize = 15)\n",
        "plt.ylabel('Товары по категориям', fontsize = 15)\n",
        "plt.show()"
      ],
      "metadata": {
        "colab": {
          "base_uri": "https://localhost:8080/",
          "height": 585
        },
        "id": "yMbqTGU5YZ2o",
        "outputId": "84613159-d910-493a-801a-ab24cf08d991"
      },
      "execution_count": 91,
      "outputs": [
        {
          "output_type": "display_data",
          "data": {
            "text/plain": [
              "<Figure size 1368x648 with 1 Axes>"
            ],
            "image/png": "[encoded data removed]"
          },
          "metadata": {
            "needs_background": "light"
          }
        }
      ]
    },
    {
      "cell_type": "markdown",
      "source": [
        "***Количество проданных товаров имеет максимумы в декабре месяце. А также, ежегодные продажи уменьшаются.***"
      ],
      "metadata": {
        "id": "i02amdy9146Y"
      }
    },
    {
      "cell_type": "code",
      "source": [
        "plt.rcParams['figure.figsize'] = (19, 9)\n",
        "sns.countplot(data=sales_train, x='date_block_num')\n",
        "plt.title('Количество проданных товаров по месяцам', fontsize = 30)\n",
        "plt.xlabel('0 - январь 2013, 33 - октябрь 2015', fontsize = 15)\n",
        "plt.ylabel('Количество продаж', fontsize = 15)\n",
        "plt.show()"
      ],
      "metadata": {
        "colab": {
          "base_uri": "https://localhost:8080/",
          "height": 586
        },
        "id": "KjdaKSLA153-",
        "outputId": "4f7f270c-7834-4aee-cdef-eec0e66c3e8b"
      },
      "execution_count": 92,
      "outputs": [
        {
          "output_type": "display_data",
          "data": {
            "text/plain": [
              "<Figure size 1368x648 with 1 Axes>"
            ],
            "image/png": "[encoded data removed]"
          },
          "metadata": {
            "needs_background": "light"
          }
        }
      ]
    },
    {
      "cell_type": "code",
      "source": [
        "sales_train['item_price'].hist(bins=1000, color = 'magenta')"
      ],
      "metadata": {
        "colab": {
          "base_uri": "https://localhost:8080/",
          "height": 569
        },
        "id": "GhfDAEagelxF",
        "outputId": "62a68fb8-ffe6-4a5e-feef-c0cf3729deef"
      },
      "execution_count": 93,
      "outputs": [
        {
          "output_type": "execute_result",
          "data": {
            "text/plain": [
              "<matplotlib.axes._subplots.AxesSubplot at 0x7f46635f3970>"
            ]
          },
          "metadata": {},
          "execution_count": 93
        },
        {
          "output_type": "display_data",
          "data": {
            "text/plain": [
              "<Figure size 1368x648 with 1 Axes>"
            ],
            "image/png": "[encoded data removed]"
          },
          "metadata": {
            "needs_background": "light"
          }
        }
      ]
    },
    {
      "cell_type": "code",
      "source": [
        "sales_train.hist(bins=100, color = 'fuchsia')"
      ],
      "metadata": {
        "colab": {
          "base_uri": "https://localhost:8080/",
          "height": 697
        },
        "id": "M3YErpGSdkGu",
        "outputId": "c8b2def6-0a45-4e62-fb60-942c3f69c0e7"
      },
      "execution_count": 94,
      "outputs": [
        {
          "output_type": "execute_result",
          "data": {
            "text/plain": [
              "array([[<matplotlib.axes._subplots.AxesSubplot object at 0x7f466309a1f0>,\n",
              "        <matplotlib.axes._subplots.AxesSubplot object at 0x7f4663080f40>],\n",
              "       [<matplotlib.axes._subplots.AxesSubplot object at 0x7f46630e36d0>,\n",
              "        <matplotlib.axes._subplots.AxesSubplot object at 0x7f466300f2e0>],\n",
              "       [<matplotlib.axes._subplots.AxesSubplot object at 0x7f4662ff2550>,\n",
              "        <matplotlib.axes._subplots.AxesSubplot object at 0x7f4662f9bcd0>]],\n",
              "      dtype=object)"
            ]
          },
          "metadata": {},
          "execution_count": 94
        },
        {
          "output_type": "display_data",
          "data": {
            "text/plain": [
              "<Figure size 1368x648 with 6 Axes>"
            ],
            "image/png": "[encoded data removed]"
          },
          "metadata": {
            "needs_background": "light"
          }
        }
      ]
    },
    {
      "cell_type": "markdown",
      "source": [
        "Основная масса товаров имеет невысокую стоимость до 3000 тыс. руб. "
      ],
      "metadata": {
        "id": "-xY0MDD-4mPZ"
      }
    },
    {
      "cell_type": "code",
      "source": [
        "plt.rcParams['figure.figsize'] = (19, 9)\n",
        "sns.boxenplot(data=sales_train, x='item_price', color = 'magenta')\n",
        "plt.title('Разброс ценовых показателей товаров', fontsize = 30)\n",
        "plt.xlabel('Шкала ценовых параметров', fontsize = 15)\n",
        "plt.ylabel('Количество товаров в ценовом диапазоне', fontsize = 15)\n",
        "plt.show()"
      ],
      "metadata": {
        "colab": {
          "base_uri": "https://localhost:8080/",
          "height": 586
        },
        "id": "L9eXNb414mrZ",
        "outputId": "a90331b5-0172-4038-d67f-444e361fa96c"
      },
      "execution_count": 95,
      "outputs": [
        {
          "output_type": "display_data",
          "data": {
            "text/plain": [
              "<Figure size 1368x648 with 1 Axes>"
            ],
            "image/png": "[encoded data removed]"
          },
          "metadata": {
            "needs_background": "light"
          }
        }
      ]
    },
    {
      "cell_type": "markdown",
      "source": [
        "Удаление строк обучающей таблицы, где стоимость товаров выше 3000 рублей."
      ],
      "metadata": {
        "id": "TupWUx8siiEr"
      }
    },
    {
      "cell_type": "code",
      "source": [
        "train = sales_train[(\n",
        "    sales_train[\"item_price\"] > 0) & (\n",
        "    sales_train[\"item_price\"] < 3000)]"
      ],
      "metadata": {
        "id": "kCwcvUbsi2Ym"
      },
      "execution_count": 96,
      "outputs": []
    },
    {
      "cell_type": "code",
      "source": [
        "train.shape"
      ],
      "metadata": {
        "colab": {
          "base_uri": "https://localhost:8080/"
        },
        "id": "mNgQFHU7kHho",
        "outputId": "b3404388-8ab7-44da-bf5b-2fa7d5dce53d"
      },
      "execution_count": 97,
      "outputs": [
        {
          "output_type": "execute_result",
          "data": {
            "text/plain": [
              "(2844582, 6)"
            ]
          },
          "metadata": {},
          "execution_count": 97
        }
      ]
    },
    {
      "cell_type": "markdown",
      "source": [
        "***Проверка полученной обучающей таблицы без экстримальных ценовых значений***"
      ],
      "metadata": {
        "id": "lJ5uV2aCjK0D"
      }
    },
    {
      "cell_type": "code",
      "source": [
        "plt.rcParams['figure.figsize'] = (19, 9)\n",
        "sns.histplot(data=train, x='item_price', color = 'magenta')\n",
        "plt.title('Разброс ценовых показателей товаров', fontsize = 30)\n",
        "plt.xlabel('Шкала ценовых параметров', fontsize = 15)\n",
        "plt.ylabel('Количество товаров в ценовом диапазоне', fontsize = 15)\n",
        "plt.show()"
      ],
      "metadata": {
        "colab": {
          "base_uri": "https://localhost:8080/",
          "height": 586
        },
        "id": "uMBvZWxEjbyJ",
        "outputId": "795d4945-3b14-4665-8b54-6943d719982e"
      },
      "execution_count": 99,
      "outputs": [
        {
          "output_type": "display_data",
          "data": {
            "text/plain": [
              "<Figure size 1368x648 with 1 Axes>"
            ],
            "image/png": "[encoded data removed]"
          },
          "metadata": {
            "needs_background": "light"
          }
        }
      ]
    },
    {
      "cell_type": "markdown",
      "source": [
        "Ежеднено продается в среднем 200 товаров.\n",
        "Отрицательные числа - означают возврат ранее проданных товаров."
      ],
      "metadata": {
        "id": "txeV9D1JQo_5"
      }
    },
    {
      "cell_type": "code",
      "source": [
        "plt.rcParams['figure.figsize'] = (13, 7)\n",
        "sns.stripplot(data=train, x='item_cnt_day')\n",
        "plt.title('Распределение ежедневно продаваемых товаров', fontsize = 30)\n",
        "plt.xlabel('Количество проданных товаров за день', fontsize = 15)\n",
        "plt.ylabel('Дневные продажи товаров', fontsize = 15)\n",
        "plt.show()"
      ],
      "metadata": {
        "colab": {
          "base_uri": "https://localhost:8080/",
          "height": 476
        },
        "id": "FmoT_MECQpt6",
        "outputId": "4c4395c5-345f-491c-f86e-1dc81ba50e68"
      },
      "execution_count": 100,
      "outputs": [
        {
          "output_type": "display_data",
          "data": {
            "text/plain": [
              "<Figure size 936x504 with 1 Axes>"
            ],
            "image/png": "[encoded data removed]"
          },
          "metadata": {
            "needs_background": "light"
          }
        }
      ]
    },
    {
      "cell_type": "markdown",
      "source": [
        "Удаление возвращенных товаров (которые имеют отрицательное значение)."
      ],
      "metadata": {
        "id": "6XFtJSZVV_RK"
      }
    },
    {
      "cell_type": "code",
      "source": [
        "sales_train_to_drop = train.drop(train[\n",
        "    train['item_cnt_day'] < 0].index)"
      ],
      "metadata": {
        "id": "gQr9EgXOWXB6"
      },
      "execution_count": 101,
      "outputs": []
    },
    {
      "cell_type": "code",
      "source": [
        "print(sales_train.shape)\n",
        "print()\n",
        "print(sales_train_to_drop.shape)\n",
        "print()\n",
        "print(train.shape)\n",
        "print()\n",
        "train = sales_train_to_drop\n",
        "print(train.shape)"
      ],
      "metadata": {
        "colab": {
          "base_uri": "https://localhost:8080/"
        },
        "id": "nQYqIlKsWDBF",
        "outputId": "28148e8a-4cd3-4065-b359-d0be36537706"
      },
      "execution_count": 102,
      "outputs": [
        {
          "output_type": "stream",
          "name": "stdout",
          "text": [
            "(2935849, 6)\n",
            "\n",
            "(2837785, 6)\n",
            "\n",
            "(2844582, 6)\n",
            "\n",
            "(2837785, 6)\n"
          ]
        }
      ]
    },
    {
      "cell_type": "markdown",
      "source": [
        "**Проверка удаления строк с возвращенными товарами**"
      ],
      "metadata": {
        "id": "YlYMJ3W_nrNr"
      }
    },
    {
      "cell_type": "code",
      "source": [
        "plt.rcParams['figure.figsize'] = (13, 7)\n",
        "sns.stripplot(data=train, x='item_cnt_day')\n",
        "plt.title('Распределение ежедневно продаваемых товаров', fontsize = 30)\n",
        "plt.xlabel('Количество проданных товаров за день', fontsize = 15)\n",
        "plt.ylabel('Дневные продажи товаров', fontsize = 15)\n",
        "plt.show()"
      ],
      "metadata": {
        "colab": {
          "base_uri": "https://localhost:8080/",
          "height": 476
        },
        "id": "FiIaYNDxn7cf",
        "outputId": "2458b1db-f72c-40c5-cb63-375161b6bb1a"
      },
      "execution_count": 103,
      "outputs": [
        {
          "output_type": "display_data",
          "data": {
            "text/plain": [
              "<Figure size 936x504 with 1 Axes>"
            ],
            "image/png": "[encoded data removed]"
          },
          "metadata": {
            "needs_background": "light"
          }
        }
      ]
    },
    {
      "cell_type": "markdown",
      "source": [
        "**Удаление строк с экстремальным количеством продаж в течение дня**"
      ],
      "metadata": {
        "id": "54iZV9GMoWRy"
      }
    },
    {
      "cell_type": "code",
      "source": [
        "print(train['item_cnt_day'].describe())"
      ],
      "metadata": {
        "colab": {
          "base_uri": "https://localhost:8080/"
        },
        "id": "Tsr2BXYy4rLv",
        "outputId": "4908116a-3798-458c-b9a9-3d973b24f7a4"
      },
      "execution_count": 104,
      "outputs": [
        {
          "output_type": "stream",
          "name": "stdout",
          "text": [
            "count    2.837785e+06\n",
            "mean     1.242750e+00\n",
            "std      2.606868e+00\n",
            "min      1.000000e+00\n",
            "25%      1.000000e+00\n",
            "50%      1.000000e+00\n",
            "75%      1.000000e+00\n",
            "max      2.169000e+03\n",
            "Name: item_cnt_day, dtype: float64\n"
          ]
        }
      ]
    },
    {
      "cell_type": "code",
      "source": [
        "sales_train_to_drop = train.drop(train[\n",
        "    train['item_cnt_day'] > 500].index)\n",
        "train = sales_train_to_drop"
      ],
      "metadata": {
        "id": "io3vghSMogu5"
      },
      "execution_count": 105,
      "outputs": []
    },
    {
      "cell_type": "markdown",
      "source": [
        "**Проверка удаления строк с экстремальным количеством проданных товаров за день**"
      ],
      "metadata": {
        "id": "MCknaByBoKJ5"
      }
    },
    {
      "cell_type": "code",
      "source": [
        "plt.rcParams['figure.figsize'] = (13, 7)\n",
        "sns.stripplot(data=train, x='item_cnt_day')\n",
        "plt.title('Распределение ежедневно проданных товаров ', fontsize = 30)\n",
        "plt.xlabel('Количество проданных товаров за день', fontsize = 15)\n",
        "plt.ylabel('Дневные продажи товаров', fontsize = 15)\n",
        "plt.show()"
      ],
      "metadata": {
        "colab": {
          "base_uri": "https://localhost:8080/",
          "height": 476
        },
        "id": "Psx33LdBpB4h",
        "outputId": "a8ed1a8e-a79d-41b2-8e5a-9b44496e4170"
      },
      "execution_count": 106,
      "outputs": [
        {
          "output_type": "display_data",
          "data": {
            "text/plain": [
              "<Figure size 936x504 with 1 Axes>"
            ],
            "image/png": "[encoded data removed]"
          },
          "metadata": {
            "needs_background": "light"
          }
        }
      ]
    },
    {
      "cell_type": "code",
      "source": [
        "sales_train_to_drop = train.drop(train[\n",
        "    train['item_cnt_day'] > 26].index)\n",
        "train = sales_train_to_drop"
      ],
      "metadata": {
        "id": "QZ0oezvxsmW9"
      },
      "execution_count": 107,
      "outputs": []
    },
    {
      "cell_type": "code",
      "source": [
        "train.shape"
      ],
      "metadata": {
        "colab": {
          "base_uri": "https://localhost:8080/"
        },
        "id": "8un9pKwJSPOf",
        "outputId": "298fb105-ad4b-48b6-ecf6-16a0cd237b03"
      },
      "execution_count": 108,
      "outputs": [
        {
          "output_type": "execute_result",
          "data": {
            "text/plain": [
              "(2835843, 6)"
            ]
          },
          "metadata": {},
          "execution_count": 108
        }
      ]
    },
    {
      "cell_type": "code",
      "source": [
        "plt.rcParams['figure.figsize'] = (13, 7)\n",
        "sns.stripplot(data=train, x='item_cnt_day')\n",
        "plt.title('Распределение ежедневно проданных товаров ', fontsize = 30)\n",
        "plt.xlabel('Количество проданных товаров за день', fontsize = 15)\n",
        "plt.ylabel('Дневные продажи товаров', fontsize = 15)\n",
        "plt.show()"
      ],
      "metadata": {
        "colab": {
          "base_uri": "https://localhost:8080/",
          "height": 476
        },
        "id": "4YXbRHoisrtq",
        "outputId": "61ff0603-db47-40f3-b7e7-097577d83fd8"
      },
      "execution_count": 109,
      "outputs": [
        {
          "output_type": "display_data",
          "data": {
            "text/plain": [
              "<Figure size 936x504 with 1 Axes>"
            ],
            "image/png": "[encoded data removed]"
          },
          "metadata": {
            "needs_background": "light"
          }
        }
      ]
    },
    {
      "cell_type": "markdown",
      "source": [
        "**Выбор магазинов в обучающей выборке, которые присутствуют в тестовой выборке**"
      ],
      "metadata": {
        "id": "I5c7Gtx7r8fC"
      }
    },
    {
      "cell_type": "code",
      "source": [
        "train[\"shop_id\"] = train[\"shop_id\"].replace({0: 57, 1: 58, 11: 10, 40: 39})"
      ],
      "metadata": {
        "id": "TBwYZqXtt3bL"
      },
      "execution_count": 110,
      "outputs": []
    },
    {
      "cell_type": "code",
      "source": [
        "print(train[\"shop_id\"].unique())"
      ],
      "metadata": {
        "colab": {
          "base_uri": "https://localhost:8080/"
        },
        "id": "MBPgW33ksbpR",
        "outputId": "f53ff167-2c23-4e2d-a014-313fde40c094"
      },
      "execution_count": 111,
      "outputs": [
        {
          "output_type": "stream",
          "name": "stdout",
          "text": [
            "[59 25 24 23 19 22 18 21 28 27 29 26  4  6  2  3  7 57 58 16 15  8 10 14\n",
            " 13 12 53 31 30 32 35 56 54 47 50 42 43 52 51 41 38 44 37 46 45  5 55 17\n",
            "  9 49 39 48 34 33 20 36]\n"
          ]
        }
      ]
    },
    {
      "cell_type": "code",
      "source": [
        "print(len(train[\"shop_id\"].unique()))"
      ],
      "metadata": {
        "colab": {
          "base_uri": "https://localhost:8080/"
        },
        "id": "DZqVFAaZ_Aqv",
        "outputId": "90ed7abc-c94b-4e90-fa94-6962df3bdb29"
      },
      "execution_count": 112,
      "outputs": [
        {
          "output_type": "stream",
          "name": "stdout",
          "text": [
            "56\n"
          ]
        }
      ]
    },
    {
      "cell_type": "code",
      "source": [
        "test[\"shop_id\"].unique()\n"
      ],
      "metadata": {
        "colab": {
          "base_uri": "https://localhost:8080/"
        },
        "id": "qQcOcrO_sKIC",
        "outputId": "c1612713-c61a-424e-a43e-edefbe543577"
      },
      "execution_count": 113,
      "outputs": [
        {
          "output_type": "execute_result",
          "data": {
            "text/plain": [
              "array([ 5,  4,  6,  3,  2,  7, 10, 12, 28, 31, 26, 25, 22, 24, 21, 15, 16,\n",
              "       18, 14, 19, 42, 50, 49, 53, 52, 47, 48, 57, 58, 59, 55, 56, 36, 37,\n",
              "       35, 38, 34, 46, 41, 44, 39, 45])"
            ]
          },
          "metadata": {},
          "execution_count": 113
        }
      ]
    },
    {
      "cell_type": "code",
      "source": [
        "print(len(test[\"shop_id\"].unique()))"
      ],
      "metadata": {
        "colab": {
          "base_uri": "https://localhost:8080/"
        },
        "id": "7kM7Mkb8_G1U",
        "outputId": "df997600-8015-4073-bf75-b4687a296e88"
      },
      "execution_count": 114,
      "outputs": [
        {
          "output_type": "stream",
          "name": "stdout",
          "text": [
            "42\n"
          ]
        }
      ]
    },
    {
      "cell_type": "markdown",
      "source": [
        "***Удаление в обучаемой выборке названий магазинов, которые отсутствуют в тестовой.***"
      ],
      "metadata": {
        "id": "uz4lAyR-AW9e"
      }
    },
    {
      "cell_type": "code",
      "source": [
        "train = train.loc[train.shop_id.isin(test[\"shop_id\"].unique()), :]"
      ],
      "metadata": {
        "id": "lHjxbiHetKQi"
      },
      "execution_count": 115,
      "outputs": []
    },
    {
      "cell_type": "code",
      "source": [
        "print(train[\"shop_id\"].unique())\n",
        "print()\n",
        "print(train.shape)\n",
        "print()\n",
        "print(len(train[\"shop_id\"].unique()))"
      ],
      "metadata": {
        "colab": {
          "base_uri": "https://localhost:8080/"
        },
        "id": "DIJNUtqEtMbs",
        "outputId": "283bf7cb-c31b-4c49-f809-7157a484cb79"
      },
      "execution_count": 116,
      "outputs": [
        {
          "output_type": "stream",
          "name": "stdout",
          "text": [
            "[59 25 24 19 22 18 21 28 26  4  6  2  3  7 57 58 16 15 10 14 12 53 31 35\n",
            " 56 47 50 42 52 41 38 44 37 46 45  5 55 49 39 48 34 36]\n",
            "\n",
            "(2347536, 6)\n",
            "\n",
            "42\n"
          ]
        }
      ]
    },
    {
      "cell_type": "code",
      "source": [
        "train = train.drop(columns=['date', 'item_price'])"
      ],
      "metadata": {
        "id": "TzTvQ7o2SofW"
      },
      "execution_count": 117,
      "outputs": []
    },
    {
      "cell_type": "code",
      "source": [
        "train"
      ],
      "metadata": {
        "colab": {
          "base_uri": "https://localhost:8080/",
          "height": 456
        },
        "id": "idLlwJ_-Igrz",
        "outputId": "ce2be046-4958-4e7c-d3d1-1a3ebf083ec4"
      },
      "execution_count": 118,
      "outputs": [
        {
          "output_type": "execute_result",
          "data": {
            "text/plain": [
              "         date_block_num  shop_id  item_id  item_cnt_day\n",
              "0                     0       59    22154           1.0\n",
              "1                     0       25     2552           1.0\n",
              "3                     0       25     2554           1.0\n",
              "4                     0       25     2555           1.0\n",
              "5                     0       25     2564           1.0\n",
              "...                 ...      ...      ...           ...\n",
              "2935844              33       25     7409           1.0\n",
              "2935845              33       25     7460           1.0\n",
              "2935846              33       25     7459           1.0\n",
              "2935847              33       25     7440           1.0\n",
              "2935848              33       25     7460           1.0\n",
              "\n",
              "[2347536 rows x 4 columns]"
            ],
            "text/html": [
              "\n",
              "  <div id=\"df-a3217f01-f949-4531-b2a5-ff94b047e715\">\n",
              "    <div class=\"colab-df-container\">\n",
              "      <div>\n",
              "<style scoped>\n",
              "    .dataframe tbody tr th:only-of-type {\n",
              "        vertical-align: middle;\n",
              "    }\n",
              "\n",
              "    .dataframe tbody tr th {\n",
              "        vertical-align: top;\n",
              "    }\n",
              "\n",
              "    .dataframe thead th {\n",
              "        text-align: right;\n",
              "    }\n",
              "</style>\n",
              "<table border=\"1\" class=\"dataframe\">\n",
              "  <thead>\n",
              "    <tr style=\"text-align: right;\">\n",
              "      <th></th>\n",
              "      <th>date_block_num</th>\n",
              "      <th>shop_id</th>\n",
              "      <th>item_id</th>\n",
              "      <th>item_cnt_day</th>\n",
              "    </tr>\n",
              "  </thead>\n",
              "  <tbody>\n",
              "    <tr>\n",
              "      <th>0</th>\n",
              "      <td>0</td>\n",
              "      <td>59</td>\n",
              "      <td>22154</td>\n",
              "      <td>1.0</td>\n",
              "    </tr>\n",
              "    <tr>\n",
              "      <th>1</th>\n",
              "      <td>0</td>\n",
              "      <td>25</td>\n",
              "      <td>2552</td>\n",
              "      <td>1.0</td>\n",
              "    </tr>\n",
              "    <tr>\n",
              "      <th>3</th>\n",
              "      <td>0</td>\n",
              "      <td>25</td>\n",
              "      <td>2554</td>\n",
              "      <td>1.0</td>\n",
              "    </tr>\n",
              "    <tr>\n",
              "      <th>4</th>\n",
              "      <td>0</td>\n",
              "      <td>25</td>\n",
              "      <td>2555</td>\n",
              "      <td>1.0</td>\n",
              "    </tr>\n",
              "    <tr>\n",
              "      <th>5</th>\n",
              "      <td>0</td>\n",
              "      <td>25</td>\n",
              "      <td>2564</td>\n",
              "      <td>1.0</td>\n",
              "    </tr>\n",
              "    <tr>\n",
              "      <th>...</th>\n",
              "      <td>...</td>\n",
              "      <td>...</td>\n",
              "      <td>...</td>\n",
              "      <td>...</td>\n",
              "    </tr>\n",
              "    <tr>\n",
              "      <th>2935844</th>\n",
              "      <td>33</td>\n",
              "      <td>25</td>\n",
              "      <td>7409</td>\n",
              "      <td>1.0</td>\n",
              "    </tr>\n",
              "    <tr>\n",
              "      <th>2935845</th>\n",
              "      <td>33</td>\n",
              "      <td>25</td>\n",
              "      <td>7460</td>\n",
              "      <td>1.0</td>\n",
              "    </tr>\n",
              "    <tr>\n",
              "      <th>2935846</th>\n",
              "      <td>33</td>\n",
              "      <td>25</td>\n",
              "      <td>7459</td>\n",
              "      <td>1.0</td>\n",
              "    </tr>\n",
              "    <tr>\n",
              "      <th>2935847</th>\n",
              "      <td>33</td>\n",
              "      <td>25</td>\n",
              "      <td>7440</td>\n",
              "      <td>1.0</td>\n",
              "    </tr>\n",
              "    <tr>\n",
              "      <th>2935848</th>\n",
              "      <td>33</td>\n",
              "      <td>25</td>\n",
              "      <td>7460</td>\n",
              "      <td>1.0</td>\n",
              "    </tr>\n",
              "  </tbody>\n",
              "</table>\n",
              "<p>2347536 rows × 4 columns</p>\n",
              "</div>\n",
              "      <button class=\"colab-df-convert\" onclick=\"convertToInteractive('df-a3217f01-f949-4531-b2a5-ff94b047e715')\"\n",
              "              title=\"Convert this dataframe to an interactive table.\"\n",
              "              style=\"display:none;\">\n",
              "        \n",
              "  <svg xmlns=\"http://www.w3.org/2000/svg\" height=\"24px\"viewBox=\"0 0 24 24\"\n",
              "       width=\"24px\">\n",
              "    <path d=\"M0 0h24v24H0V0z\" fill=\"none\"/>\n",
              "    <path d=\"M18.56 5.44l.94 2.06.94-2.06 2.06-.94-2.06-.94-.94-2.06-.94 2.06-2.06.94zm-11 1L8.5 8.5l.94-2.06 2.06-.94-2.06-.94L8.5 2.5l-.94 2.06-2.06.94zm10 10l.94 2.06.94-2.06 2.06-.94-2.06-.94-.94-2.06-.94 2.06-2.06.94z\"/><path d=\"M17.41 7.96l-1.37-1.37c-.4-.4-.92-.59-1.43-.59-.52 0-1.04.2-1.43.59L10.3 9.45l-7.72 7.72c-.78.78-.78 2.05 0 2.83L4 21.41c.39.39.9.59 1.41.59.51 0 1.02-.2 1.41-.59l7.78-7.78 2.81-2.81c.8-.78.8-2.07 0-2.86zM5.41 20L4 18.59l7.72-7.72 1.47 1.35L5.41 20z\"/>\n",
              "  </svg>\n",
              "      </button>\n",
              "      \n",
              "  <style>\n",
              "    .colab-df-container {\n",
              "      display:flex;\n",
              "      flex-wrap:wrap;\n",
              "      gap: 12px;\n",
              "    }\n",
              "\n",
              "    .colab-df-convert {\n",
              "      background-color: #E8F0FE;\n",
              "      border: none;\n",
              "      border-radius: 50%;\n",
              "      cursor: pointer;\n",
              "      display: none;\n",
              "      fill: #1967D2;\n",
              "      height: 32px;\n",
              "      padding: 0 0 0 0;\n",
              "      width: 32px;\n",
              "    }\n",
              "\n",
              "    .colab-df-convert:hover {\n",
              "      background-color: #E2EBFA;\n",
              "      box-shadow: 0px 1px 2px rgba(60, 64, 67, 0.3), 0px 1px 3px 1px rgba(60, 64, 67, 0.15);\n",
              "      fill: #174EA6;\n",
              "    }\n",
              "\n",
              "    [theme=dark] .colab-df-convert {\n",
              "      background-color: #3B4455;\n",
              "      fill: #D2E3FC;\n",
              "    }\n",
              "\n",
              "    [theme=dark] .colab-df-convert:hover {\n",
              "      background-color: #434B5C;\n",
              "      box-shadow: 0px 1px 3px 1px rgba(0, 0, 0, 0.15);\n",
              "      filter: drop-shadow(0px 1px 2px rgba(0, 0, 0, 0.3));\n",
              "      fill: #FFFFFF;\n",
              "    }\n",
              "  </style>\n",
              "\n",
              "      <script>\n",
              "        const buttonEl =\n",
              "          document.querySelector('#df-a3217f01-f949-4531-b2a5-ff94b047e715 button.colab-df-convert');\n",
              "        buttonEl.style.display =\n",
              "          google.colab.kernel.accessAllowed ? 'block' : 'none';\n",
              "\n",
              "        async function convertToInteractive(key) {\n",
              "          const element = document.querySelector('#df-a3217f01-f949-4531-b2a5-ff94b047e715');\n",
              "          const dataTable =\n",
              "            await google.colab.kernel.invokeFunction('convertToInteractive',\n",
              "                                                     [key], {});\n",
              "          if (!dataTable) return;\n",
              "\n",
              "          const docLinkHtml = 'Like what you see? Visit the ' +\n",
              "            '<a target=\"_blank\" href=https://colab.research.google.com/notebooks/data_table.ipynb>data table notebook</a>'\n",
              "            + ' to learn more about interactive tables.';\n",
              "          element.innerHTML = '';\n",
              "          dataTable['output_type'] = 'display_data';\n",
              "          await google.colab.output.renderOutput(dataTable, element);\n",
              "          const docLink = document.createElement('div');\n",
              "          docLink.innerHTML = docLinkHtml;\n",
              "          element.appendChild(docLink);\n",
              "        }\n",
              "      </script>\n",
              "    </div>\n",
              "  </div>\n",
              "  "
            ]
          },
          "metadata": {},
          "execution_count": 118
        }
      ]
    },
    {
      "cell_type": "markdown",
      "source": [
        "***Извлечение данных из таблицы продаж за \"33\" - октябрь 2015 года***"
      ],
      "metadata": {
        "id": "xQn-LJD9swsT"
      }
    },
    {
      "cell_type": "code",
      "source": [
        "train_10_2015 = train[train['date_block_num'] == 33]\n",
        "# train.info()\n",
        "print()\n",
        "print(train_10_2015)"
      ],
      "metadata": {
        "id": "d_COlRBdymmq",
        "colab": {
          "base_uri": "https://localhost:8080/"
        },
        "outputId": "3113f5b0-5ca9-4361-d6fa-a4b0a1813a70"
      },
      "execution_count": 119,
      "outputs": [
        {
          "output_type": "stream",
          "name": "stdout",
          "text": [
            "\n",
            "         date_block_num  shop_id  item_id  item_cnt_day\n",
            "2882335              33       45    13315           1.0\n",
            "2882336              33       45    13880           1.0\n",
            "2882337              33       45    13881           1.0\n",
            "2882338              33       45    13881           1.0\n",
            "2882339              33       45    13923           1.0\n",
            "...                 ...      ...      ...           ...\n",
            "2935844              33       25     7409           1.0\n",
            "2935845              33       25     7460           1.0\n",
            "2935846              33       25     7459           1.0\n",
            "2935847              33       25     7440           1.0\n",
            "2935848              33       25     7460           1.0\n",
            "\n",
            "[47191 rows x 4 columns]\n"
          ]
        }
      ]
    },
    {
      "cell_type": "markdown",
      "source": [
        "***Вычмсление среднего размера продаж за последний месяц для магазина.***"
      ],
      "metadata": {
        "id": "ylsK4ci3C8GF"
      }
    },
    {
      "cell_type": "code",
      "source": [
        "train_oct_mean_shop = train_10_2015.groupby(by='shop_id')['item_cnt_day'].mean().reset_index()\n",
        "train_oct_mean_shop = train_oct_mean_shop.rename(columns={'item_cnt_day': 'oct_shop_mean'})\n",
        "print()\n",
        "print(train_oct_mean_shop.sort_values(by='oct_shop_mean', ascending=False))"
      ],
      "metadata": {
        "colab": {
          "base_uri": "https://localhost:8080/"
        },
        "id": "Kk6I88s1_msN",
        "outputId": "d4218f10-e92f-4b59-f1da-c6e9bfab7c2b"
      },
      "execution_count": 120,
      "outputs": [
        {
          "output_type": "stream",
          "name": "stdout",
          "text": [
            "\n",
            "    shop_id  oct_shop_mean\n",
            "37       55       1.440741\n",
            "7        12       1.428870\n",
            "27       42       1.310381\n",
            "16       25       1.275685\n",
            "19       31       1.221200\n",
            "17       26       1.217000\n",
            "13       21       1.212057\n",
            "25       39       1.201667\n",
            "18       28       1.185825\n",
            "23       37       1.183246\n",
            "14       22       1.179811\n",
            "2         4       1.177542\n",
            "31       47       1.173415\n",
            "8        14       1.142487\n",
            "24       38       1.134593\n",
            "11       18       1.131929\n",
            "32       48       1.131257\n",
            "15       24       1.130481\n",
            "5         7       1.128337\n",
            "10       16       1.125165\n",
            "34       50       1.123656\n",
            "1         3       1.123173\n",
            "36       53       1.121107\n",
            "4         6       1.118669\n",
            "21       35       1.115556\n",
            "29       45       1.112084\n",
            "12       19       1.108985\n",
            "20       34       1.107639\n",
            "39       57       1.106177\n",
            "0         2       1.104240\n",
            "22       36       1.093863\n",
            "9        15       1.093845\n",
            "38       56       1.090233\n",
            "30       46       1.088717\n",
            "40       58       1.083199\n",
            "3         5       1.080931\n",
            "26       41       1.077796\n",
            "35       52       1.075524\n",
            "6        10       1.072022\n",
            "41       59       1.067771\n",
            "28       44       1.063893\n",
            "33       49       1.038128\n"
          ]
        }
      ]
    },
    {
      "cell_type": "markdown",
      "source": [
        "***Вычмсление среднего размера продаж за последний месяц для категории товара.***"
      ],
      "metadata": {
        "id": "fLdk8mpwDNQl"
      }
    },
    {
      "cell_type": "code",
      "source": [
        "train_oct_mean_item = train_10_2015.groupby(by='item_id')['item_cnt_day'].mean().reset_index()\n",
        "train_oct_mean_item = train_oct_mean_item.rename(columns={'item_cnt_day': 'oct_item_mean'})\n",
        "print()\n",
        "print(train_oct_mean_item)\n",
        "print()\n",
        "print(train_oct_mean_item.info())\n",
        "print()\n",
        "print(train_oct_mean_item['oct_item_mean'].describe())"
      ],
      "metadata": {
        "colab": {
          "base_uri": "https://localhost:8080/"
        },
        "id": "0bXzgPif_rqF",
        "outputId": "86151d94-9094-427f-98f4-39c0d43ddeb3"
      },
      "execution_count": 121,
      "outputs": [
        {
          "output_type": "stream",
          "name": "stdout",
          "text": [
            "\n",
            "      item_id  oct_item_mean\n",
            "0          30       1.000000\n",
            "1          31       1.000000\n",
            "2          32       1.000000\n",
            "3          33       1.000000\n",
            "4          40       1.000000\n",
            "...       ...            ...\n",
            "5062    22162       1.000000\n",
            "5063    22163       1.040000\n",
            "5064    22164       1.000000\n",
            "5065    22166       1.833333\n",
            "5066    22167       1.156250\n",
            "\n",
            "[5067 rows x 2 columns]\n",
            "\n",
            "<class 'pandas.core.frame.DataFrame'>\n",
            "RangeIndex: 5067 entries, 0 to 5066\n",
            "Data columns (total 2 columns):\n",
            " #   Column         Non-Null Count  Dtype  \n",
            "---  ------         --------------  -----  \n",
            " 0   item_id        5067 non-null   int64  \n",
            " 1   oct_item_mean  5067 non-null   float64\n",
            "dtypes: float64(1), int64(1)\n",
            "memory usage: 79.3 KB\n",
            "None\n",
            "\n",
            "count    5067.000000\n",
            "mean        1.047791\n",
            "std         0.391645\n",
            "min         1.000000\n",
            "25%         1.000000\n",
            "50%         1.000000\n",
            "75%         1.000000\n",
            "max        15.000000\n",
            "Name: oct_item_mean, dtype: float64\n"
          ]
        }
      ]
    },
    {
      "cell_type": "markdown",
      "source": [
        "\n",
        "***Извлечение данных из таблицы продаж за \"24 - 33\" - 2015 год***"
      ],
      "metadata": {
        "id": "OkG20thLyP-W"
      }
    },
    {
      "cell_type": "code",
      "source": [
        "train_2015 = train[train['date_block_num'] >= 24]\n",
        "# train.info()\n",
        "print()\n",
        "print(train_2015)"
      ],
      "metadata": {
        "id": "RfIQXayy1F1P",
        "colab": {
          "base_uri": "https://localhost:8080/"
        },
        "outputId": "f3e403d9-be66-4b0e-fe07-e336263af9c2"
      },
      "execution_count": 122,
      "outputs": [
        {
          "output_type": "stream",
          "name": "stdout",
          "text": [
            "\n",
            "         date_block_num  shop_id  item_id  item_cnt_day\n",
            "2324647              24        7    19436           1.0\n",
            "2324650              24       15     5319           2.0\n",
            "2324651              24       15     5319           1.0\n",
            "2324652              24       15     5331           1.0\n",
            "2324653              24       15     5747           1.0\n",
            "...                 ...      ...      ...           ...\n",
            "2935844              33       25     7409           1.0\n",
            "2935845              33       25     7460           1.0\n",
            "2935846              33       25     7459           1.0\n",
            "2935847              33       25     7440           1.0\n",
            "2935848              33       25     7460           1.0\n",
            "\n",
            "[523395 rows x 4 columns]\n"
          ]
        }
      ]
    },
    {
      "cell_type": "markdown",
      "source": [
        "***Вычмсление среднего размера продаж за последний год для магазина.***"
      ],
      "metadata": {
        "id": "T33Df7lpDyZC"
      }
    },
    {
      "cell_type": "code",
      "source": [
        "train_2015_mean_shop = train_2015.groupby(by='shop_id')['item_cnt_day'].mean().reset_index()\n",
        "train_2015_mean_shop = train_2015_mean_shop.rename(columns={'item_cnt_day': '2015_shop_mean'})\n",
        "print()\n",
        "print(train_2015_mean_shop.sort_values(by='2015_shop_mean', ascending=False))"
      ],
      "metadata": {
        "id": "K7HCL4FE8Ibg",
        "colab": {
          "base_uri": "https://localhost:8080/"
        },
        "outputId": "3235b869-bdf5-4d80-c040-79572efc7703"
      },
      "execution_count": 123,
      "outputs": [
        {
          "output_type": "stream",
          "name": "stdout",
          "text": [
            "\n",
            "    shop_id  2015_shop_mean\n",
            "37       55        1.666836\n",
            "7        12        1.566834\n",
            "27       42        1.276876\n",
            "14       22        1.238925\n",
            "19       31        1.233887\n",
            "16       25        1.221227\n",
            "18       28        1.218978\n",
            "25       39        1.196850\n",
            "8        14        1.185646\n",
            "31       47        1.182378\n",
            "41       59        1.169006\n",
            "17       26        1.168303\n",
            "13       21        1.168058\n",
            "15       24        1.165428\n",
            "0         2        1.142659\n",
            "21       35        1.138693\n",
            "23       37        1.138227\n",
            "11       18        1.138225\n",
            "10       16        1.136029\n",
            "2         4        1.134636\n",
            "39       57        1.134069\n",
            "26       41        1.129014\n",
            "6        10        1.126453\n",
            "4         6        1.125102\n",
            "9        15        1.123475\n",
            "5         7        1.123383\n",
            "24       38        1.121782\n",
            "30       46        1.120955\n",
            "36       53        1.120653\n",
            "12       19        1.116668\n",
            "20       34        1.110983\n",
            "29       45        1.109927\n",
            "34       50        1.108378\n",
            "40       58        1.107401\n",
            "1         3        1.105870\n",
            "38       56        1.103491\n",
            "3         5        1.094146\n",
            "22       36        1.093863\n",
            "32       48        1.089167\n",
            "35       52        1.087954\n",
            "28       44        1.087032\n",
            "33       49        1.079031\n"
          ]
        }
      ]
    },
    {
      "cell_type": "markdown",
      "source": [
        "***Вычмсление среднего размера продаж за последний год для категории товара.***"
      ],
      "metadata": {
        "id": "XxHXOLTtDruK"
      }
    },
    {
      "cell_type": "code",
      "source": [
        "train_2015_mean_item = train_2015.groupby(by='item_id')['item_cnt_day'].mean().reset_index()\n",
        "train_2015_mean_item = train_2015_mean_item.rename(columns={'item_cnt_day': '2015_item_mean'})\n",
        "print()\n",
        "print(train_2015_mean_item)\n",
        "print()\n",
        "print(train_2015_mean_item.info())\n",
        "print()\n",
        "print(train_2015_mean_item['2015_item_mean'].describe())"
      ],
      "metadata": {
        "id": "ny-mokrey43V",
        "colab": {
          "base_uri": "https://localhost:8080/"
        },
        "outputId": "6978692f-d673-4e57-cf67-2754e55b5b3f"
      },
      "execution_count": 124,
      "outputs": [
        {
          "output_type": "stream",
          "name": "stdout",
          "text": [
            "\n",
            "       item_id  2015_item_mean\n",
            "0           30        1.000000\n",
            "1           31        1.019737\n",
            "2           32        1.046025\n",
            "3           33        1.000000\n",
            "4           36        1.000000\n",
            "...        ...             ...\n",
            "10610    22162        1.250000\n",
            "10611    22163        1.057143\n",
            "10612    22164        1.213296\n",
            "10613    22166        1.166667\n",
            "10614    22167        1.129964\n",
            "\n",
            "[10615 rows x 2 columns]\n",
            "\n",
            "<class 'pandas.core.frame.DataFrame'>\n",
            "RangeIndex: 10615 entries, 0 to 10614\n",
            "Data columns (total 2 columns):\n",
            " #   Column          Non-Null Count  Dtype  \n",
            "---  ------          --------------  -----  \n",
            " 0   item_id         10615 non-null  int64  \n",
            " 1   2015_item_mean  10615 non-null  float64\n",
            "dtypes: float64(1), int64(1)\n",
            "memory usage: 166.0 KB\n",
            "None\n",
            "\n",
            "count    10615.000000\n",
            "mean         1.057748\n",
            "std          0.348840\n",
            "min          1.000000\n",
            "25%          1.000000\n",
            "50%          1.000000\n",
            "75%          1.016129\n",
            "max         14.250000\n",
            "Name: 2015_item_mean, dtype: float64\n"
          ]
        }
      ]
    },
    {
      "cell_type": "markdown",
      "source": [
        "***Создание столбца Ноябрь 2015 из значений октября 2015 + случайные товары из средних значений***\n"
      ],
      "metadata": {
        "id": "q2IQn0pRTzhx"
      }
    },
    {
      "cell_type": "code",
      "source": [
        "train_11_2015 = train_10_2015"
      ],
      "metadata": {
        "id": "kLkZxl5CUKiL"
      },
      "execution_count": 125,
      "outputs": []
    },
    {
      "cell_type": "code",
      "source": [
        "train_11_2015['date_block_num'] = train_11_2015['date_block_num'].replace({33: 34})\n",
        "train_11_2015 = train_11_2015.reset_index(drop = True)\n",
        "\n",
        "new_index = np.arange(2935849,  2983040, 1, dtype=int)\n",
        "train_11_2015 = train_11_2015.set_index(new_index)\n",
        "print(new_index)\n",
        "# 2935848 np.arange(0, 5, 0.5, dtype=int)\n",
        "print(train_11_2015)"
      ],
      "metadata": {
        "colab": {
          "base_uri": "https://localhost:8080/"
        },
        "id": "zLepW2KsTrS_",
        "outputId": "34bd252b-ea3c-4c8c-f1ed-bd05641843f7"
      },
      "execution_count": 126,
      "outputs": [
        {
          "output_type": "stream",
          "name": "stdout",
          "text": [
            "[2935849 2935850 2935851 ... 2983037 2983038 2983039]\n",
            "         date_block_num  shop_id  item_id  item_cnt_day\n",
            "2935849              34       45    13315           1.0\n",
            "2935850              34       45    13880           1.0\n",
            "2935851              34       45    13881           1.0\n",
            "2935852              34       45    13881           1.0\n",
            "2935853              34       45    13923           1.0\n",
            "...                 ...      ...      ...           ...\n",
            "2983035              34       25     7409           1.0\n",
            "2983036              34       25     7460           1.0\n",
            "2983037              34       25     7459           1.0\n",
            "2983038              34       25     7440           1.0\n",
            "2983039              34       25     7460           1.0\n",
            "\n",
            "[47191 rows x 4 columns]\n"
          ]
        },
        {
          "output_type": "stream",
          "name": "stderr",
          "text": [
            "<ipython-input-126-56989fcc4105>:1: SettingWithCopyWarning: \n",
            "A value is trying to be set on a copy of a slice from a DataFrame.\n",
            "Try using .loc[row_indexer,col_indexer] = value instead\n",
            "\n",
            "See the caveats in the documentation: https://pandas.pydata.org/pandas-docs/stable/user_guide/indexing.html#returning-a-view-versus-a-copy\n",
            "  train_11_2015['date_block_num'] = train_11_2015['date_block_num'].replace({33: 34})\n"
          ]
        }
      ]
    },
    {
      "cell_type": "markdown",
      "source": [
        "***Список магазинов с наибольшими продажами товаров***\n",
        "\n",
        "55   Цифровой склад 1С-Онлайн,\n",
        "\n",
        "12   Интернет-магазин ЧС,\n",
        "\n",
        "42  \"СПб ТК \"Невский Центр\",\n",
        "\n",
        "25  \"Москва ТРК \"Атриум\",\n",
        "\n",
        "31  \"Москва ТЦ \"Семеновский\""
      ],
      "metadata": {
        "id": "EqL2UD-DiooP"
      }
    },
    {
      "cell_type": "code",
      "source": [
        "from random import choice\n",
        "\n",
        "\n",
        "data_november = train_2015_mean_item['item_id'].to_list()\n",
        "popular_stores = [55, 12, 42, 25, 31]\n",
        "\n",
        "def fill_november_2015():\n",
        "  result = []\n",
        "  lim_number = 0\n",
        "  store_num = None\n",
        "  item_val = None\n",
        "  cur_row = None\n",
        "  for n in popular_stores:\n",
        "    if n == 55:\n",
        "      lim_number = 800\n",
        "      store_num = 55\n",
        "    elif n == 12:\n",
        "      lim_number = 700\n",
        "      store_num = 12\n",
        "    elif n == 42:\n",
        "      lim_number = 500\n",
        "      store_num = 42\n",
        "    elif n == 25:\n",
        "      lim_number = 400\n",
        "      store_num = 25\n",
        "    else:\n",
        "      lim_number = 350\n",
        "      store_num = 31\n",
        "    for i in range(lim_number):\n",
        "      item_val = choice(data_november)\n",
        "      cur_row = train_2015_mean_item['2015_item_mean'][train_2015_mean_item['item_id'] == item_val]\n",
        "      result.append(\n",
        "                    [34,\n",
        "                    store_num,\n",
        "                    choice(data_november),\n",
        "                    *cur_row])\n",
        "  return result\n"
      ],
      "metadata": {
        "id": "OQZKwEhNrT8X"
      },
      "execution_count": 127,
      "outputs": []
    },
    {
      "cell_type": "code",
      "source": [
        "res = fill_november_2015()\n",
        "print(len(res))"
      ],
      "metadata": {
        "colab": {
          "base_uri": "https://localhost:8080/"
        },
        "id": "TtVs6bYyuufv",
        "outputId": "fa4c4b3b-cdf8-4287-fc9a-078b1c002271"
      },
      "execution_count": 128,
      "outputs": [
        {
          "output_type": "stream",
          "name": "stdout",
          "text": [
            "2750\n"
          ]
        }
      ]
    },
    {
      "cell_type": "code",
      "source": [
        "november_index = np.arange(2983041,  2985791, 1, dtype=int)\n",
        "more_november = pd.DataFrame(res,\n",
        "                  index = november_index,\n",
        "                  columns =['date_block_num',\n",
        "                            'shop_id',\n",
        "                            'item_id',\n",
        "                            'item_cnt_day'],\n",
        "                  )"
      ],
      "metadata": {
        "id": "P-_c4QZ38u9X"
      },
      "execution_count": 129,
      "outputs": []
    },
    {
      "cell_type": "code",
      "source": [
        "more_november"
      ],
      "metadata": {
        "colab": {
          "base_uri": "https://localhost:8080/",
          "height": 456
        },
        "id": "cyzAcDlU_s_Y",
        "outputId": "9c7b4426-910c-46c0-acdd-2e42681f4b6d"
      },
      "execution_count": 130,
      "outputs": [
        {
          "output_type": "execute_result",
          "data": {
            "text/plain": [
              "         date_block_num  shop_id  item_id  item_cnt_day\n",
              "2983041              34       55    11685      1.000000\n",
              "2983042              34       55      781      1.000000\n",
              "2983043              34       55     8300      1.000000\n",
              "2983044              34       55     3863      1.000000\n",
              "2983045              34       55     3479      1.041667\n",
              "...                 ...      ...      ...           ...\n",
              "2985786              34       31     7761      1.287129\n",
              "2985787              34       31     9056      1.000000\n",
              "2985788              34       31     7715      1.000000\n",
              "2985789              34       31     4606      1.000000\n",
              "2985790              34       31    18087      1.000000\n",
              "\n",
              "[2750 rows x 4 columns]"
            ],
            "text/html": [
              "\n",
              "  <div id=\"df-eece6438-0113-488e-81e0-4a851e7b6868\">\n",
              "    <div class=\"colab-df-container\">\n",
              "      <div>\n",
              "<style scoped>\n",
              "    .dataframe tbody tr th:only-of-type {\n",
              "        vertical-align: middle;\n",
              "    }\n",
              "\n",
              "    .dataframe tbody tr th {\n",
              "        vertical-align: top;\n",
              "    }\n",
              "\n",
              "    .dataframe thead th {\n",
              "        text-align: right;\n",
              "    }\n",
              "</style>\n",
              "<table border=\"1\" class=\"dataframe\">\n",
              "  <thead>\n",
              "    <tr style=\"text-align: right;\">\n",
              "      <th></th>\n",
              "      <th>date_block_num</th>\n",
              "      <th>shop_id</th>\n",
              "      <th>item_id</th>\n",
              "      <th>item_cnt_day</th>\n",
              "    </tr>\n",
              "  </thead>\n",
              "  <tbody>\n",
              "    <tr>\n",
              "      <th>2983041</th>\n",
              "      <td>34</td>\n",
              "      <td>55</td>\n",
              "      <td>11685</td>\n",
              "      <td>1.000000</td>\n",
              "    </tr>\n",
              "    <tr>\n",
              "      <th>2983042</th>\n",
              "      <td>34</td>\n",
              "      <td>55</td>\n",
              "      <td>781</td>\n",
              "      <td>1.000000</td>\n",
              "    </tr>\n",
              "    <tr>\n",
              "      <th>2983043</th>\n",
              "      <td>34</td>\n",
              "      <td>55</td>\n",
              "      <td>8300</td>\n",
              "      <td>1.000000</td>\n",
              "    </tr>\n",
              "    <tr>\n",
              "      <th>2983044</th>\n",
              "      <td>34</td>\n",
              "      <td>55</td>\n",
              "      <td>3863</td>\n",
              "      <td>1.000000</td>\n",
              "    </tr>\n",
              "    <tr>\n",
              "      <th>2983045</th>\n",
              "      <td>34</td>\n",
              "      <td>55</td>\n",
              "      <td>3479</td>\n",
              "      <td>1.041667</td>\n",
              "    </tr>\n",
              "    <tr>\n",
              "      <th>...</th>\n",
              "      <td>...</td>\n",
              "      <td>...</td>\n",
              "      <td>...</td>\n",
              "      <td>...</td>\n",
              "    </tr>\n",
              "    <tr>\n",
              "      <th>2985786</th>\n",
              "      <td>34</td>\n",
              "      <td>31</td>\n",
              "      <td>7761</td>\n",
              "      <td>1.287129</td>\n",
              "    </tr>\n",
              "    <tr>\n",
              "      <th>2985787</th>\n",
              "      <td>34</td>\n",
              "      <td>31</td>\n",
              "      <td>9056</td>\n",
              "      <td>1.000000</td>\n",
              "    </tr>\n",
              "    <tr>\n",
              "      <th>2985788</th>\n",
              "      <td>34</td>\n",
              "      <td>31</td>\n",
              "      <td>7715</td>\n",
              "      <td>1.000000</td>\n",
              "    </tr>\n",
              "    <tr>\n",
              "      <th>2985789</th>\n",
              "      <td>34</td>\n",
              "      <td>31</td>\n",
              "      <td>4606</td>\n",
              "      <td>1.000000</td>\n",
              "    </tr>\n",
              "    <tr>\n",
              "      <th>2985790</th>\n",
              "      <td>34</td>\n",
              "      <td>31</td>\n",
              "      <td>18087</td>\n",
              "      <td>1.000000</td>\n",
              "    </tr>\n",
              "  </tbody>\n",
              "</table>\n",
              "<p>2750 rows × 4 columns</p>\n",
              "</div>\n",
              "      <button class=\"colab-df-convert\" onclick=\"convertToInteractive('df-eece6438-0113-488e-81e0-4a851e7b6868')\"\n",
              "              title=\"Convert this dataframe to an interactive table.\"\n",
              "              style=\"display:none;\">\n",
              "        \n",
              "  <svg xmlns=\"http://www.w3.org/2000/svg\" height=\"24px\"viewBox=\"0 0 24 24\"\n",
              "       width=\"24px\">\n",
              "    <path d=\"M0 0h24v24H0V0z\" fill=\"none\"/>\n",
              "    <path d=\"M18.56 5.44l.94 2.06.94-2.06 2.06-.94-2.06-.94-.94-2.06-.94 2.06-2.06.94zm-11 1L8.5 8.5l.94-2.06 2.06-.94-2.06-.94L8.5 2.5l-.94 2.06-2.06.94zm10 10l.94 2.06.94-2.06 2.06-.94-2.06-.94-.94-2.06-.94 2.06-2.06.94z\"/><path d=\"M17.41 7.96l-1.37-1.37c-.4-.4-.92-.59-1.43-.59-.52 0-1.04.2-1.43.59L10.3 9.45l-7.72 7.72c-.78.78-.78 2.05 0 2.83L4 21.41c.39.39.9.59 1.41.59.51 0 1.02-.2 1.41-.59l7.78-7.78 2.81-2.81c.8-.78.8-2.07 0-2.86zM5.41 20L4 18.59l7.72-7.72 1.47 1.35L5.41 20z\"/>\n",
              "  </svg>\n",
              "      </button>\n",
              "      \n",
              "  <style>\n",
              "    .colab-df-container {\n",
              "      display:flex;\n",
              "      flex-wrap:wrap;\n",
              "      gap: 12px;\n",
              "    }\n",
              "\n",
              "    .colab-df-convert {\n",
              "      background-color: #E8F0FE;\n",
              "      border: none;\n",
              "      border-radius: 50%;\n",
              "      cursor: pointer;\n",
              "      display: none;\n",
              "      fill: #1967D2;\n",
              "      height: 32px;\n",
              "      padding: 0 0 0 0;\n",
              "      width: 32px;\n",
              "    }\n",
              "\n",
              "    .colab-df-convert:hover {\n",
              "      background-color: #E2EBFA;\n",
              "      box-shadow: 0px 1px 2px rgba(60, 64, 67, 0.3), 0px 1px 3px 1px rgba(60, 64, 67, 0.15);\n",
              "      fill: #174EA6;\n",
              "    }\n",
              "\n",
              "    [theme=dark] .colab-df-convert {\n",
              "      background-color: #3B4455;\n",
              "      fill: #D2E3FC;\n",
              "    }\n",
              "\n",
              "    [theme=dark] .colab-df-convert:hover {\n",
              "      background-color: #434B5C;\n",
              "      box-shadow: 0px 1px 3px 1px rgba(0, 0, 0, 0.15);\n",
              "      filter: drop-shadow(0px 1px 2px rgba(0, 0, 0, 0.3));\n",
              "      fill: #FFFFFF;\n",
              "    }\n",
              "  </style>\n",
              "\n",
              "      <script>\n",
              "        const buttonEl =\n",
              "          document.querySelector('#df-eece6438-0113-488e-81e0-4a851e7b6868 button.colab-df-convert');\n",
              "        buttonEl.style.display =\n",
              "          google.colab.kernel.accessAllowed ? 'block' : 'none';\n",
              "\n",
              "        async function convertToInteractive(key) {\n",
              "          const element = document.querySelector('#df-eece6438-0113-488e-81e0-4a851e7b6868');\n",
              "          const dataTable =\n",
              "            await google.colab.kernel.invokeFunction('convertToInteractive',\n",
              "                                                     [key], {});\n",
              "          if (!dataTable) return;\n",
              "\n",
              "          const docLinkHtml = 'Like what you see? Visit the ' +\n",
              "            '<a target=\"_blank\" href=https://colab.research.google.com/notebooks/data_table.ipynb>data table notebook</a>'\n",
              "            + ' to learn more about interactive tables.';\n",
              "          element.innerHTML = '';\n",
              "          dataTable['output_type'] = 'display_data';\n",
              "          await google.colab.output.renderOutput(dataTable, element);\n",
              "          const docLink = document.createElement('div');\n",
              "          docLink.innerHTML = docLinkHtml;\n",
              "          element.appendChild(docLink);\n",
              "        }\n",
              "      </script>\n",
              "    </div>\n",
              "  </div>\n",
              "  "
            ]
          },
          "metadata": {},
          "execution_count": 130
        }
      ]
    },
    {
      "cell_type": "code",
      "source": [
        "train = pd.concat([train, train_11_2015, more_november])"
      ],
      "metadata": {
        "id": "nGXZ2bvcd2a-"
      },
      "execution_count": 131,
      "outputs": []
    },
    {
      "cell_type": "code",
      "source": [
        "train\n"
      ],
      "metadata": {
        "colab": {
          "base_uri": "https://localhost:8080/",
          "height": 456
        },
        "id": "KuIQxpW9d-6w",
        "outputId": "d38c9c98-e24d-4a65-f6b4-ab7a1ca71b4c"
      },
      "execution_count": 132,
      "outputs": [
        {
          "output_type": "execute_result",
          "data": {
            "text/plain": [
              "         date_block_num  shop_id  item_id  item_cnt_day\n",
              "0                     0       59    22154      1.000000\n",
              "1                     0       25     2552      1.000000\n",
              "3                     0       25     2554      1.000000\n",
              "4                     0       25     2555      1.000000\n",
              "5                     0       25     2564      1.000000\n",
              "...                 ...      ...      ...           ...\n",
              "2985786              34       31     7761      1.287129\n",
              "2985787              34       31     9056      1.000000\n",
              "2985788              34       31     7715      1.000000\n",
              "2985789              34       31     4606      1.000000\n",
              "2985790              34       31    18087      1.000000\n",
              "\n",
              "[2397477 rows x 4 columns]"
            ],
            "text/html": [
              "\n",
              "  <div id=\"df-abb7dc98-4272-4553-8396-33f9e05578cc\">\n",
              "    <div class=\"colab-df-container\">\n",
              "      <div>\n",
              "<style scoped>\n",
              "    .dataframe tbody tr th:only-of-type {\n",
              "        vertical-align: middle;\n",
              "    }\n",
              "\n",
              "    .dataframe tbody tr th {\n",
              "        vertical-align: top;\n",
              "    }\n",
              "\n",
              "    .dataframe thead th {\n",
              "        text-align: right;\n",
              "    }\n",
              "</style>\n",
              "<table border=\"1\" class=\"dataframe\">\n",
              "  <thead>\n",
              "    <tr style=\"text-align: right;\">\n",
              "      <th></th>\n",
              "      <th>date_block_num</th>\n",
              "      <th>shop_id</th>\n",
              "      <th>item_id</th>\n",
              "      <th>item_cnt_day</th>\n",
              "    </tr>\n",
              "  </thead>\n",
              "  <tbody>\n",
              "    <tr>\n",
              "      <th>0</th>\n",
              "      <td>0</td>\n",
              "      <td>59</td>\n",
              "      <td>22154</td>\n",
              "      <td>1.000000</td>\n",
              "    </tr>\n",
              "    <tr>\n",
              "      <th>1</th>\n",
              "      <td>0</td>\n",
              "      <td>25</td>\n",
              "      <td>2552</td>\n",
              "      <td>1.000000</td>\n",
              "    </tr>\n",
              "    <tr>\n",
              "      <th>3</th>\n",
              "      <td>0</td>\n",
              "      <td>25</td>\n",
              "      <td>2554</td>\n",
              "      <td>1.000000</td>\n",
              "    </tr>\n",
              "    <tr>\n",
              "      <th>4</th>\n",
              "      <td>0</td>\n",
              "      <td>25</td>\n",
              "      <td>2555</td>\n",
              "      <td>1.000000</td>\n",
              "    </tr>\n",
              "    <tr>\n",
              "      <th>5</th>\n",
              "      <td>0</td>\n",
              "      <td>25</td>\n",
              "      <td>2564</td>\n",
              "      <td>1.000000</td>\n",
              "    </tr>\n",
              "    <tr>\n",
              "      <th>...</th>\n",
              "      <td>...</td>\n",
              "      <td>...</td>\n",
              "      <td>...</td>\n",
              "      <td>...</td>\n",
              "    </tr>\n",
              "    <tr>\n",
              "      <th>2985786</th>\n",
              "      <td>34</td>\n",
              "      <td>31</td>\n",
              "      <td>7761</td>\n",
              "      <td>1.287129</td>\n",
              "    </tr>\n",
              "    <tr>\n",
              "      <th>2985787</th>\n",
              "      <td>34</td>\n",
              "      <td>31</td>\n",
              "      <td>9056</td>\n",
              "      <td>1.000000</td>\n",
              "    </tr>\n",
              "    <tr>\n",
              "      <th>2985788</th>\n",
              "      <td>34</td>\n",
              "      <td>31</td>\n",
              "      <td>7715</td>\n",
              "      <td>1.000000</td>\n",
              "    </tr>\n",
              "    <tr>\n",
              "      <th>2985789</th>\n",
              "      <td>34</td>\n",
              "      <td>31</td>\n",
              "      <td>4606</td>\n",
              "      <td>1.000000</td>\n",
              "    </tr>\n",
              "    <tr>\n",
              "      <th>2985790</th>\n",
              "      <td>34</td>\n",
              "      <td>31</td>\n",
              "      <td>18087</td>\n",
              "      <td>1.000000</td>\n",
              "    </tr>\n",
              "  </tbody>\n",
              "</table>\n",
              "<p>2397477 rows × 4 columns</p>\n",
              "</div>\n",
              "      <button class=\"colab-df-convert\" onclick=\"convertToInteractive('df-abb7dc98-4272-4553-8396-33f9e05578cc')\"\n",
              "              title=\"Convert this dataframe to an interactive table.\"\n",
              "              style=\"display:none;\">\n",
              "        \n",
              "  <svg xmlns=\"http://www.w3.org/2000/svg\" height=\"24px\"viewBox=\"0 0 24 24\"\n",
              "       width=\"24px\">\n",
              "    <path d=\"M0 0h24v24H0V0z\" fill=\"none\"/>\n",
              "    <path d=\"M18.56 5.44l.94 2.06.94-2.06 2.06-.94-2.06-.94-.94-2.06-.94 2.06-2.06.94zm-11 1L8.5 8.5l.94-2.06 2.06-.94-2.06-.94L8.5 2.5l-.94 2.06-2.06.94zm10 10l.94 2.06.94-2.06 2.06-.94-2.06-.94-.94-2.06-.94 2.06-2.06.94z\"/><path d=\"M17.41 7.96l-1.37-1.37c-.4-.4-.92-.59-1.43-.59-.52 0-1.04.2-1.43.59L10.3 9.45l-7.72 7.72c-.78.78-.78 2.05 0 2.83L4 21.41c.39.39.9.59 1.41.59.51 0 1.02-.2 1.41-.59l7.78-7.78 2.81-2.81c.8-.78.8-2.07 0-2.86zM5.41 20L4 18.59l7.72-7.72 1.47 1.35L5.41 20z\"/>\n",
              "  </svg>\n",
              "      </button>\n",
              "      \n",
              "  <style>\n",
              "    .colab-df-container {\n",
              "      display:flex;\n",
              "      flex-wrap:wrap;\n",
              "      gap: 12px;\n",
              "    }\n",
              "\n",
              "    .colab-df-convert {\n",
              "      background-color: #E8F0FE;\n",
              "      border: none;\n",
              "      border-radius: 50%;\n",
              "      cursor: pointer;\n",
              "      display: none;\n",
              "      fill: #1967D2;\n",
              "      height: 32px;\n",
              "      padding: 0 0 0 0;\n",
              "      width: 32px;\n",
              "    }\n",
              "\n",
              "    .colab-df-convert:hover {\n",
              "      background-color: #E2EBFA;\n",
              "      box-shadow: 0px 1px 2px rgba(60, 64, 67, 0.3), 0px 1px 3px 1px rgba(60, 64, 67, 0.15);\n",
              "      fill: #174EA6;\n",
              "    }\n",
              "\n",
              "    [theme=dark] .colab-df-convert {\n",
              "      background-color: #3B4455;\n",
              "      fill: #D2E3FC;\n",
              "    }\n",
              "\n",
              "    [theme=dark] .colab-df-convert:hover {\n",
              "      background-color: #434B5C;\n",
              "      box-shadow: 0px 1px 3px 1px rgba(0, 0, 0, 0.15);\n",
              "      filter: drop-shadow(0px 1px 2px rgba(0, 0, 0, 0.3));\n",
              "      fill: #FFFFFF;\n",
              "    }\n",
              "  </style>\n",
              "\n",
              "      <script>\n",
              "        const buttonEl =\n",
              "          document.querySelector('#df-abb7dc98-4272-4553-8396-33f9e05578cc button.colab-df-convert');\n",
              "        buttonEl.style.display =\n",
              "          google.colab.kernel.accessAllowed ? 'block' : 'none';\n",
              "\n",
              "        async function convertToInteractive(key) {\n",
              "          const element = document.querySelector('#df-abb7dc98-4272-4553-8396-33f9e05578cc');\n",
              "          const dataTable =\n",
              "            await google.colab.kernel.invokeFunction('convertToInteractive',\n",
              "                                                     [key], {});\n",
              "          if (!dataTable) return;\n",
              "\n",
              "          const docLinkHtml = 'Like what you see? Visit the ' +\n",
              "            '<a target=\"_blank\" href=https://colab.research.google.com/notebooks/data_table.ipynb>data table notebook</a>'\n",
              "            + ' to learn more about interactive tables.';\n",
              "          element.innerHTML = '';\n",
              "          dataTable['output_type'] = 'display_data';\n",
              "          await google.colab.output.renderOutput(dataTable, element);\n",
              "          const docLink = document.createElement('div');\n",
              "          docLink.innerHTML = docLinkHtml;\n",
              "          element.appendChild(docLink);\n",
              "        }\n",
              "      </script>\n",
              "    </div>\n",
              "  </div>\n",
              "  "
            ]
          },
          "metadata": {},
          "execution_count": 132
        }
      ]
    },
    {
      "cell_type": "markdown",
      "source": [
        "***Вычисление количества продаж в октябре и ноябре 2013, 2014 и 2015***"
      ],
      "metadata": {
        "id": "aTFHhGksBM-W"
      }
    },
    {
      "cell_type": "code",
      "source": [
        "print(len(train[train['date_block_num'] == 9]))\n",
        "print(len(train[train['date_block_num'] == 10]))\n",
        "print(len(train[train['date_block_num'] == 9]) / len(train[train['date_block_num'] == 10]))\n",
        "print(len(train[train['date_block_num'] == 21]))\n",
        "print(len(train[train['date_block_num'] == 22]))\n",
        "print(len(train[train['date_block_num'] == 21]) / len(train[train['date_block_num'] == 22]))\n",
        "print(len(train[train['date_block_num'] == 33]))\n",
        "print(len(train[train['date_block_num'] == 34]))\n",
        "print(len(train[train['date_block_num'] == 33]) / len(train[train['date_block_num'] == 34]))\n"
      ],
      "metadata": {
        "colab": {
          "base_uri": "https://localhost:8080/"
        },
        "id": "ZaOw3HVyeVze",
        "outputId": "e7f092b3-c348-41e4-ce04-e03aa17f4f4c"
      },
      "execution_count": 133,
      "outputs": [
        {
          "output_type": "stream",
          "name": "stdout",
          "text": [
            "73459\n",
            "76671\n",
            "0.958106715707373\n",
            "61029\n",
            "66895\n",
            "0.9123103370954481\n",
            "47191\n",
            "49941\n",
            "0.9449350233275264\n"
          ]
        }
      ]
    },
    {
      "cell_type": "markdown",
      "source": [
        "***Еще одна проверка количества проданных товаров по месяцам.***\n"
      ],
      "metadata": {
        "id": "2r8BoWL8xGa6"
      }
    },
    {
      "cell_type": "code",
      "source": [
        "plt.rcParams['figure.figsize'] = (19, 9)\n",
        "sns.countplot(data=train, x='date_block_num')\n",
        "plt.title('Количество проданных товаров по месяцам', fontsize = 30)\n",
        "plt.xlabel('0 - январь 2013, 34 - ноябрь 2015', fontsize = 15)\n",
        "plt.ylabel('Количество продаж', fontsize = 15)\n",
        "plt.show()"
      ],
      "metadata": {
        "colab": {
          "base_uri": "https://localhost:8080/",
          "height": 586
        },
        "id": "_RVC3Mr0tI41",
        "outputId": "ab05eead-1920-4774-9001-d0a5dc17035f"
      },
      "execution_count": 137,
      "outputs": [
        {
          "output_type": "display_data",
          "data": {
            "text/plain": [
              "<Figure size 1368x648 with 1 Axes>"
            ],
            "image/png": "[encoded data removed]"
          },
          "metadata": {
            "needs_background": "light"
          }
        }
      ]
    },
    {
      "cell_type": "markdown",
      "source": [
        "# **2.Создание модели**\n",
        "\n",
        "---\n",
        "\n"
      ],
      "metadata": {
        "id": "AibMXDOfuhpf"
      }
    },
    {
      "cell_type": "markdown",
      "source": [
        "# 2.1. Линейные модели для ноября 2015 года"
      ],
      "metadata": {
        "id": "AoEPq2Q4raVu"
      }
    },
    {
      "cell_type": "markdown",
      "source": [
        "***Объединение в одну итоговую таблицу.***"
      ],
      "metadata": {
        "id": "4EUUajuEz2ht"
      }
    },
    {
      "cell_type": "code",
      "source": [
        "train['date_block_num'] = train['date_block_num'].replace({34: 'Nov2015'})"
      ],
      "metadata": {
        "id": "Utj9rVrENX7X"
      },
      "execution_count": 138,
      "outputs": []
    },
    {
      "cell_type": "code",
      "source": [
        "train_pvt = train.pivot_table(index=['shop_id','item_id'],\n",
        "                 columns='date_block_num', fill_value = 0).reset_index()"
      ],
      "metadata": {
        "id": "VZLpEZhUErEQ"
      },
      "execution_count": 139,
      "outputs": []
    },
    {
      "cell_type": "code",
      "source": [
        "train_pvt[('item_cnt_day', 'Nov2015')]"
      ],
      "metadata": {
        "colab": {
          "base_uri": "https://localhost:8080/"
        },
        "id": "NYiDJnA6Qo4H",
        "outputId": "4b25a74f-fd62-4315-c145-38967818a2d8"
      },
      "execution_count": 140,
      "outputs": [
        {
          "output_type": "execute_result",
          "data": {
            "text/plain": [
              "0         0.0\n",
              "1         0.0\n",
              "2         1.0\n",
              "3         0.0\n",
              "4         0.0\n",
              "         ... \n",
              "329796    0.0\n",
              "329797    0.0\n",
              "329798    0.0\n",
              "329799    0.0\n",
              "329800    0.0\n",
              "Name: (item_cnt_day, Nov2015), Length: 329801, dtype: float64"
            ]
          },
          "metadata": {},
          "execution_count": 140
        }
      ]
    },
    {
      "cell_type": "code",
      "source": [
        "train_final = pd.merge(test, train_pvt, on = ['item_id', 'shop_id'], how = 'left')"
      ],
      "metadata": {
        "colab": {
          "base_uri": "https://localhost:8080/"
        },
        "id": "l-1QoAJcA51D",
        "outputId": "15426fbc-3794-4db0-c152-50a22e55f5ea"
      },
      "execution_count": 141,
      "outputs": [
        {
          "output_type": "stream",
          "name": "stderr",
          "text": [
            "<ipython-input-141-19fca14a211b>:1: FutureWarning: merging between different levels is deprecated and will be removed in a future version. (1 levels on the left,2 on the right)\n",
            "  train_final = pd.merge(test, train_pvt, on = ['item_id', 'shop_id'], how = 'left')\n",
            "/usr/local/lib/python3.8/dist-packages/pandas/core/generic.py:4150: PerformanceWarning: dropping on a non-lexsorted multi-index without a level parameter may impact performance.\n",
            "  obj = obj._drop_axis(labels, axis, level=level, errors=errors)\n"
          ]
        }
      ]
    },
    {
      "cell_type": "code",
      "source": [
        "train_final = train_final.fillna(0)"
      ],
      "metadata": {
        "id": "fpofkcwhGNFy"
      },
      "execution_count": 143,
      "outputs": []
    },
    {
      "cell_type": "code",
      "source": [
        "train_final"
      ],
      "metadata": {
        "id": "RyZo9IDnGhUk"
      },
      "execution_count": null,
      "outputs": []
    },
    {
      "cell_type": "code",
      "source": [
        "from sklearn.model_selection import train_test_split\n",
        "from sklearn.metrics import mean_squared_error, max_error\n",
        "\n",
        "X = train_final.drop(columns=[('item_cnt_day', 'Nov2015')])\n",
        "y = train_final[('item_cnt_day', 'Nov2015')]\n",
        "\n",
        "X_train, X_valid, y_train, y_valid = train_test_split(X, y, test_size=0.2,\n",
        "                                                      random_state=13)"
      ],
      "metadata": {
        "id": "IHCDIDR_aLCO"
      },
      "execution_count": 145,
      "outputs": []
    },
    {
      "cell_type": "code",
      "source": [
        "from sklearn.linear_model import LinearRegression\n",
        "\n",
        "\n",
        "model_lr = LinearRegression()\n",
        "model_lr.fit(X_train, y_train)\n",
        "y_pred_lr = model_lr.predict(X_valid)"
      ],
      "metadata": {
        "id": "wmTGYXmxaP_X",
        "colab": {
          "base_uri": "https://localhost:8080/"
        },
        "outputId": "81acfd19-64e1-479c-ad7b-328aa67aee8d"
      },
      "execution_count": 146,
      "outputs": [
        {
          "output_type": "stream",
          "name": "stderr",
          "text": [
            "/usr/local/lib/python3.8/dist-packages/sklearn/utils/validation.py:1688: FutureWarning: Feature names only support names that are all strings. Got feature names with dtypes: ['str', 'tuple']. An error will be raised in 1.2.\n",
            "  warnings.warn(\n",
            "/usr/local/lib/python3.8/dist-packages/sklearn/utils/validation.py:1688: FutureWarning: Feature names only support names that are all strings. Got feature names with dtypes: ['str', 'tuple']. An error will be raised in 1.2.\n",
            "  warnings.warn(\n"
          ]
        }
      ]
    },
    {
      "cell_type": "code",
      "source": [
        "print(X.shape,\n",
        "y.shape,\n",
        "X_train.shape,\n",
        "X_valid.shape,\n",
        "y_train.shape,\n",
        "y_valid.shape)"
      ],
      "metadata": {
        "colab": {
          "base_uri": "https://localhost:8080/"
        },
        "id": "woeoeGW5bhGz",
        "outputId": "f1721a9b-15ee-4e27-bdf1-0553a366bd6e"
      },
      "execution_count": 147,
      "outputs": [
        {
          "output_type": "stream",
          "name": "stdout",
          "text": [
            "(214200, 37) (214200,) (171360, 37) (42840, 37) (171360,) (42840,)\n"
          ]
        }
      ]
    },
    {
      "cell_type": "code",
      "source": [
        "print('MAE for LR:', mean_squared_error(y_valid, y_pred_lr))\n",
        "print('MAX ERROR for LR', max_error(y_valid, y_pred_lr))"
      ],
      "metadata": {
        "colab": {
          "base_uri": "https://localhost:8080/"
        },
        "id": "RrlTK8XnbtRb",
        "outputId": "c2e37364-e9d4-498a-8604-9ec5542bc38e"
      },
      "execution_count": 148,
      "outputs": [
        {
          "output_type": "stream",
          "name": "stdout",
          "text": [
            "MAE for LR: 0.00406212827439103\n",
            "MAX ERROR for LR 2.9925310646262346\n"
          ]
        }
      ]
    },
    {
      "cell_type": "code",
      "source": [
        "from sklearn.neighbors import KNeighborsRegressor\n",
        "\n",
        "\n",
        "model_knn = KNeighborsRegressor(n_neighbors = 3)\n",
        "model_knn.fit(X_train, y_train)\n",
        "y_pred_knn = model_knn.predict(X_valid)"
      ],
      "metadata": {
        "id": "aHN0HK5Vcv6T",
        "colab": {
          "base_uri": "https://localhost:8080/"
        },
        "outputId": "7688feea-6de0-4547-9db0-9471c7d7b6c9"
      },
      "execution_count": 149,
      "outputs": [
        {
          "output_type": "stream",
          "name": "stderr",
          "text": [
            "/usr/local/lib/python3.8/dist-packages/sklearn/utils/validation.py:1688: FutureWarning: Feature names only support names that are all strings. Got feature names with dtypes: ['str', 'tuple']. An error will be raised in 1.2.\n",
            "  warnings.warn(\n",
            "/usr/local/lib/python3.8/dist-packages/sklearn/utils/validation.py:1688: FutureWarning: Feature names only support names that are all strings. Got feature names with dtypes: ['str', 'tuple']. An error will be raised in 1.2.\n",
            "  warnings.warn(\n"
          ]
        }
      ]
    },
    {
      "cell_type": "code",
      "source": [
        "print('MAE for KNN:', mean_squared_error(y_valid, y_pred_knn))\n",
        "print('MAX ERROR for KNN', max_error(y_valid, y_pred_knn))"
      ],
      "metadata": {
        "colab": {
          "base_uri": "https://localhost:8080/"
        },
        "id": "JaD3wtyYc4Ek",
        "outputId": "7df96b37-9aea-4cb9-9e2e-8d20ac2c4432"
      },
      "execution_count": 150,
      "outputs": [
        {
          "output_type": "stream",
          "name": "stdout",
          "text": [
            "MAE for KNN: 0.14431950145995803\n",
            "MAX ERROR for KNN 13.42962962962963\n"
          ]
        }
      ]
    },
    {
      "cell_type": "markdown",
      "source": [
        "# 2.2. Модель бустинга для ноября 2015 года"
      ],
      "metadata": {
        "id": "QM4h_EFwrrh9"
      }
    },
    {
      "cell_type": "markdown",
      "source": [
        "***Установка CatBoost***\n"
      ],
      "metadata": {
        "id": "iaeRHbMsqzqN"
      }
    },
    {
      "cell_type": "code",
      "source": [
        "!pip install catboost"
      ],
      "metadata": {
        "colab": {
          "base_uri": "https://localhost:8080/"
        },
        "id": "zQd4OOHvrVr9",
        "outputId": "086f4b4d-adef-4eff-a6d8-4ce2bc8de714"
      },
      "execution_count": 151,
      "outputs": [
        {
          "output_type": "stream",
          "name": "stdout",
          "text": [
            "Looking in indexes: https://pypi.org/simple, https://us-python.pkg.dev/colab-wheels/public/simple/\n",
            "Collecting catboost\n",
            "  Downloading catboost-1.1.1-cp38-none-manylinux1_x86_64.whl (76.6 MB)\n",
            "\u001b[2K     \u001b[90m━━━━━━━━━━━━━━━━━━━━━━━━━━━━━━━━━━━━━━━━\u001b[0m \u001b[32m76.6/76.6 MB\u001b[0m \u001b[31m11.5 MB/s\u001b[0m eta \u001b[36m0:00:00\u001b[0m\n",
            "\u001b[?25hRequirement already satisfied: plotly in /usr/local/lib/python3.8/dist-packages (from catboost) (5.5.0)\n",
            "Requirement already satisfied: graphviz in /usr/local/lib/python3.8/dist-packages (from catboost) (0.10.1)\n",
            "Requirement already satisfied: six in /usr/local/lib/python3.8/dist-packages (from catboost) (1.15.0)\n",
            "Requirement already satisfied: pandas>=0.24.0 in /usr/local/lib/python3.8/dist-packages (from catboost) (1.3.5)\n",
            "Requirement already satisfied: scipy in /usr/local/lib/python3.8/dist-packages (from catboost) (1.7.3)\n",
            "Requirement already satisfied: matplotlib in /usr/local/lib/python3.8/dist-packages (from catboost) (3.2.2)\n",
            "Requirement already satisfied: numpy>=1.16.0 in /usr/local/lib/python3.8/dist-packages (from catboost) (1.21.6)\n",
            "Requirement already satisfied: python-dateutil>=2.7.3 in /usr/local/lib/python3.8/dist-packages (from pandas>=0.24.0->catboost) (2.8.2)\n",
            "Requirement already satisfied: pytz>=2017.3 in /usr/local/lib/python3.8/dist-packages (from pandas>=0.24.0->catboost) (2022.7.1)\n",
            "Requirement already satisfied: pyparsing!=2.0.4,!=2.1.2,!=2.1.6,>=2.0.1 in /usr/local/lib/python3.8/dist-packages (from matplotlib->catboost) (3.0.9)\n",
            "Requirement already satisfied: kiwisolver>=1.0.1 in /usr/local/lib/python3.8/dist-packages (from matplotlib->catboost) (1.4.4)\n",
            "Requirement already satisfied: cycler>=0.10 in /usr/local/lib/python3.8/dist-packages (from matplotlib->catboost) (0.11.0)\n",
            "Requirement already satisfied: tenacity>=6.2.0 in /usr/local/lib/python3.8/dist-packages (from plotly->catboost) (8.2.1)\n",
            "Installing collected packages: catboost\n",
            "Successfully installed catboost-1.1.1\n"
          ]
        }
      ]
    },
    {
      "cell_type": "code",
      "source": [
        "import catboost as cb\n",
        "import lightgbm as lgb"
      ],
      "metadata": {
        "id": "wT0dwc8bsn2J"
      },
      "execution_count": 152,
      "outputs": []
    },
    {
      "cell_type": "code",
      "source": [
        "CB_model = cb.CatBoostRegressor()\n",
        "LGB_model = lgb.LGBMRegressor()\n",
        "\n",
        "CB_model.fit(X_train, y_train)\n",
        "LGB_model.fit(X_train, y_train)"
      ],
      "metadata": {
        "id": "8WQqwrqJs00V"
      },
      "execution_count": null,
      "outputs": []
    },
    {
      "cell_type": "code",
      "source": [
        "test_predict_CB = CB_model.predict(X_valid)"
      ],
      "metadata": {
        "id": "di89NyAyRNTE"
      },
      "execution_count": 166,
      "outputs": []
    },
    {
      "cell_type": "code",
      "source": [
        "print('MAE test dataset for Catboost:', mean_squared_error(y_valid, test_predict_CB))"
      ],
      "metadata": {
        "colab": {
          "base_uri": "https://localhost:8080/"
        },
        "id": "_mOrBZJvSGKc",
        "outputId": "f8a64e73-21fd-4870-c215-355937b85e92"
      },
      "execution_count": 167,
      "outputs": [
        {
          "output_type": "stream",
          "name": "stdout",
          "text": [
            "MAE test dataset for Catboost: 0.004110309578309225\n"
          ]
        }
      ]
    },
    {
      "cell_type": "code",
      "source": [
        "test_predict_LGB = LGB_model.predict(X_valid)"
      ],
      "metadata": {
        "id": "YAVUVG1KRa4E"
      },
      "execution_count": 168,
      "outputs": []
    },
    {
      "cell_type": "code",
      "source": [
        "print('MAE test dataset for LGB:', mean_squared_error(y_valid, test_predict_LGB))"
      ],
      "metadata": {
        "colab": {
          "base_uri": "https://localhost:8080/"
        },
        "id": "-T2B45liR8yN",
        "outputId": "391305c3-0bd3-44eb-aae9-929ffafd7e31"
      },
      "execution_count": 169,
      "outputs": [
        {
          "output_type": "stream",
          "name": "stdout",
          "text": [
            "MAE test dataset for LGB: 0.004700377967638779\n"
          ]
        }
      ]
    }
  ],
  "metadata": {
    "colab": {
      "provenance": []
    },
    "kernelspec": {
      "display_name": "Python 3",
      "name": "python3"
    },
    "language_info": {
      "name": "python"
    }
  },
  "nbformat": 4,
  "nbformat_minor": 0
}